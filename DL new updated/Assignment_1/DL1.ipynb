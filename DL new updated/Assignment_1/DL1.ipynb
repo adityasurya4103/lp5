{
 "cells": [
  {
   "cell_type": "markdown",
   "metadata": {
    "papermill": {
     "duration": 0.022253,
     "end_time": "2022-08-10T01:26:28.177861",
     "exception": false,
     "start_time": "2022-08-10T01:26:28.155608",
     "status": "completed"
    },
    "tags": []
   },
   "source": [
    "# **Practical 1**\n",
    "**Linear regression by using Deep Neural network:** Implement Boston housing price prediction problem by Linear regression using Deep Neural network. Use Boston House price prediction dataset."
   ]
  },
  {
   "cell_type": "markdown",
   "metadata": {
    "papermill": {
     "duration": 0.022063,
     "end_time": "2022-08-10T01:26:28.266437",
     "exception": false,
     "start_time": "2022-08-10T01:26:28.244374",
     "status": "completed"
    },
    "tags": []
   },
   "source": [
    "\n",
    "### Importing libraries and the dataset\n"
   ]
  },
  {
   "cell_type": "code",
   "execution_count": 284,
   "metadata": {
    "_cell_guid": "b1076dfc-b9ad-4769-8c92-a6c4dae69d19",
    "_uuid": "8f2839f25d086af736a60e9eeb907d3b93b6e0e5",
    "papermill": {
     "duration": 0.029676,
     "end_time": "2022-08-10T01:26:28.318711",
     "exception": false,
     "start_time": "2022-08-10T01:26:28.289035",
     "status": "completed"
    },
    "tags": []
   },
   "outputs": [],
   "source": [
    "#Importing the pandas for data processing and numpy for numerical computing\n",
    "import numpy as np\n",
    "import pandas as pd\n",
    "import matplotlib.pyplot as plt\n"
   ]
  },
  {
   "cell_type": "code",
   "execution_count": 285,
   "metadata": {
    "papermill": {
     "duration": 0.865609,
     "end_time": "2022-08-10T01:26:29.208203",
     "exception": false,
     "start_time": "2022-08-10T01:26:28.342594",
     "status": "completed"
    },
    "scrolled": true,
    "tags": []
   },
   "outputs": [],
   "source": [
    "# Importing the Boston Housing dataset from the sklearn\n",
    "from sklearn.datasets import fetch_openml\n",
    "\n",
    "# Load the Boston housing dataset from OpenML\n",
    "boston = fetch_openml(data_id=531)"
   ]
  },
  {
   "cell_type": "code",
   "execution_count": 286,
   "metadata": {
    "papermill": {
     "duration": 0.032011,
     "end_time": "2022-08-10T01:26:29.262511",
     "exception": false,
     "start_time": "2022-08-10T01:26:29.230500",
     "status": "completed"
    },
    "tags": []
   },
   "outputs": [],
   "source": [
    "# #Converting the data into pandas dataframe\n",
    "# for online \n",
    "data = pd.DataFrame(boston.data)\n",
    "\n",
    "\n",
    "\n",
    "\n",
    "\n",
    "\n",
    "\n",
    "\n",
    "\n",
    "\n",
    "\n",
    "\n",
    "\n",
    "\n",
    "\n",
    "# #reading from csv\n",
    "# data  = pd.read_csv('Boston.csv')\n",
    "# data.head(10)"
   ]
  },
  {
   "cell_type": "code",
   "execution_count": null,
   "metadata": {},
   "outputs": [],
   "source": []
  },
  {
   "cell_type": "markdown",
   "metadata": {
    "papermill": {
     "duration": 0.022779,
     "end_time": "2022-08-10T01:26:29.308599",
     "exception": false,
     "start_time": "2022-08-10T01:26:29.285820",
     "status": "completed"
    },
    "tags": []
   },
   "source": [
    "### First look at the dataset"
   ]
  },
  {
   "cell_type": "code",
   "execution_count": 287,
   "metadata": {
    "papermill": {
     "duration": 0.04928,
     "end_time": "2022-08-10T01:26:29.381575",
     "exception": false,
     "start_time": "2022-08-10T01:26:29.332295",
     "status": "completed"
    },
    "tags": []
   },
   "outputs": [
    {
     "data": {
      "text/html": [
       "<div>\n",
       "<style scoped>\n",
       "    .dataframe tbody tr th:only-of-type {\n",
       "        vertical-align: middle;\n",
       "    }\n",
       "\n",
       "    .dataframe tbody tr th {\n",
       "        vertical-align: top;\n",
       "    }\n",
       "\n",
       "    .dataframe thead th {\n",
       "        text-align: right;\n",
       "    }\n",
       "</style>\n",
       "<table border=\"1\" class=\"dataframe\">\n",
       "  <thead>\n",
       "    <tr style=\"text-align: right;\">\n",
       "      <th></th>\n",
       "      <th>CRIM</th>\n",
       "      <th>ZN</th>\n",
       "      <th>INDUS</th>\n",
       "      <th>CHAS</th>\n",
       "      <th>NOX</th>\n",
       "      <th>RM</th>\n",
       "      <th>AGE</th>\n",
       "      <th>DIS</th>\n",
       "      <th>RAD</th>\n",
       "      <th>TAX</th>\n",
       "      <th>PTRATIO</th>\n",
       "      <th>B</th>\n",
       "      <th>LSTAT</th>\n",
       "    </tr>\n",
       "  </thead>\n",
       "  <tbody>\n",
       "    <tr>\n",
       "      <th>0</th>\n",
       "      <td>0.00632</td>\n",
       "      <td>18.0</td>\n",
       "      <td>2.31</td>\n",
       "      <td>0</td>\n",
       "      <td>0.538</td>\n",
       "      <td>6.575</td>\n",
       "      <td>65.2</td>\n",
       "      <td>4.0900</td>\n",
       "      <td>1</td>\n",
       "      <td>296.0</td>\n",
       "      <td>15.3</td>\n",
       "      <td>396.90</td>\n",
       "      <td>4.98</td>\n",
       "    </tr>\n",
       "    <tr>\n",
       "      <th>1</th>\n",
       "      <td>0.02731</td>\n",
       "      <td>0.0</td>\n",
       "      <td>7.07</td>\n",
       "      <td>0</td>\n",
       "      <td>0.469</td>\n",
       "      <td>6.421</td>\n",
       "      <td>78.9</td>\n",
       "      <td>4.9671</td>\n",
       "      <td>2</td>\n",
       "      <td>242.0</td>\n",
       "      <td>17.8</td>\n",
       "      <td>396.90</td>\n",
       "      <td>9.14</td>\n",
       "    </tr>\n",
       "    <tr>\n",
       "      <th>2</th>\n",
       "      <td>0.02729</td>\n",
       "      <td>0.0</td>\n",
       "      <td>7.07</td>\n",
       "      <td>0</td>\n",
       "      <td>0.469</td>\n",
       "      <td>7.185</td>\n",
       "      <td>61.1</td>\n",
       "      <td>4.9671</td>\n",
       "      <td>2</td>\n",
       "      <td>242.0</td>\n",
       "      <td>17.8</td>\n",
       "      <td>392.83</td>\n",
       "      <td>4.03</td>\n",
       "    </tr>\n",
       "    <tr>\n",
       "      <th>3</th>\n",
       "      <td>0.03237</td>\n",
       "      <td>0.0</td>\n",
       "      <td>2.18</td>\n",
       "      <td>0</td>\n",
       "      <td>0.458</td>\n",
       "      <td>6.998</td>\n",
       "      <td>45.8</td>\n",
       "      <td>6.0622</td>\n",
       "      <td>3</td>\n",
       "      <td>222.0</td>\n",
       "      <td>18.7</td>\n",
       "      <td>394.63</td>\n",
       "      <td>2.94</td>\n",
       "    </tr>\n",
       "    <tr>\n",
       "      <th>4</th>\n",
       "      <td>0.06905</td>\n",
       "      <td>0.0</td>\n",
       "      <td>2.18</td>\n",
       "      <td>0</td>\n",
       "      <td>0.458</td>\n",
       "      <td>7.147</td>\n",
       "      <td>54.2</td>\n",
       "      <td>6.0622</td>\n",
       "      <td>3</td>\n",
       "      <td>222.0</td>\n",
       "      <td>18.7</td>\n",
       "      <td>396.90</td>\n",
       "      <td>5.33</td>\n",
       "    </tr>\n",
       "  </tbody>\n",
       "</table>\n",
       "</div>"
      ],
      "text/plain": [
       "      CRIM    ZN  INDUS CHAS    NOX     RM   AGE     DIS RAD    TAX  PTRATIO  \\\n",
       "0  0.00632  18.0   2.31    0  0.538  6.575  65.2  4.0900   1  296.0     15.3   \n",
       "1  0.02731   0.0   7.07    0  0.469  6.421  78.9  4.9671   2  242.0     17.8   \n",
       "2  0.02729   0.0   7.07    0  0.469  7.185  61.1  4.9671   2  242.0     17.8   \n",
       "3  0.03237   0.0   2.18    0  0.458  6.998  45.8  6.0622   3  222.0     18.7   \n",
       "4  0.06905   0.0   2.18    0  0.458  7.147  54.2  6.0622   3  222.0     18.7   \n",
       "\n",
       "        B  LSTAT  \n",
       "0  396.90   4.98  \n",
       "1  396.90   9.14  \n",
       "2  392.83   4.03  \n",
       "3  394.63   2.94  \n",
       "4  396.90   5.33  "
      ]
     },
     "execution_count": 287,
     "metadata": {},
     "output_type": "execute_result"
    }
   ],
   "source": [
    "#First look at the data\n",
    "data.head()"
   ]
  },
  {
   "cell_type": "code",
   "execution_count": 288,
   "metadata": {
    "papermill": {
     "duration": 0.030084,
     "end_time": "2022-08-10T01:26:29.436215",
     "exception": false,
     "start_time": "2022-08-10T01:26:29.406131",
     "status": "completed"
    },
    "tags": []
   },
   "outputs": [],
   "source": [
    "# for online \n",
    "# Adding the feature names to the dataframe\n",
    "data.columns = boston.feature_names\n",
    "\n",
    "\n",
    "\n",
    "\n",
    "\n",
    "\n",
    "\n",
    "\n",
    "\n",
    "\n",
    "\n",
    "# #for csv file \n",
    "# data.columns = data.columns.str.upper()\n",
    "# features = ['LSTAT', 'RM', 'PTRATIO']\n"
   ]
  },
  {
   "cell_type": "code",
   "execution_count": 289,
   "metadata": {
    "papermill": {
     "duration": 0.036037,
     "end_time": "2022-08-10T01:26:29.495888",
     "exception": false,
     "start_time": "2022-08-10T01:26:29.459851",
     "status": "completed"
    },
    "tags": []
   },
   "outputs": [],
   "source": [
    "#Adding the target variable to the dataset\n",
    "data['PRICE'] = boston.target "
   ]
  },
  {
   "cell_type": "code",
   "execution_count": 290,
   "metadata": {
    "papermill": {
     "duration": 0.048496,
     "end_time": "2022-08-10T01:26:29.569236",
     "exception": false,
     "start_time": "2022-08-10T01:26:29.520740",
     "status": "completed"
    },
    "tags": []
   },
   "outputs": [
    {
     "data": {
      "text/html": [
       "<div>\n",
       "<style scoped>\n",
       "    .dataframe tbody tr th:only-of-type {\n",
       "        vertical-align: middle;\n",
       "    }\n",
       "\n",
       "    .dataframe tbody tr th {\n",
       "        vertical-align: top;\n",
       "    }\n",
       "\n",
       "    .dataframe thead th {\n",
       "        text-align: right;\n",
       "    }\n",
       "</style>\n",
       "<table border=\"1\" class=\"dataframe\">\n",
       "  <thead>\n",
       "    <tr style=\"text-align: right;\">\n",
       "      <th></th>\n",
       "      <th>CRIM</th>\n",
       "      <th>ZN</th>\n",
       "      <th>INDUS</th>\n",
       "      <th>CHAS</th>\n",
       "      <th>NOX</th>\n",
       "      <th>RM</th>\n",
       "      <th>AGE</th>\n",
       "      <th>DIS</th>\n",
       "      <th>RAD</th>\n",
       "      <th>TAX</th>\n",
       "      <th>PTRATIO</th>\n",
       "      <th>B</th>\n",
       "      <th>LSTAT</th>\n",
       "      <th>PRICE</th>\n",
       "    </tr>\n",
       "  </thead>\n",
       "  <tbody>\n",
       "    <tr>\n",
       "      <th>0</th>\n",
       "      <td>0.00632</td>\n",
       "      <td>18.0</td>\n",
       "      <td>2.31</td>\n",
       "      <td>0</td>\n",
       "      <td>0.538</td>\n",
       "      <td>6.575</td>\n",
       "      <td>65.2</td>\n",
       "      <td>4.0900</td>\n",
       "      <td>1</td>\n",
       "      <td>296.0</td>\n",
       "      <td>15.3</td>\n",
       "      <td>396.90</td>\n",
       "      <td>4.98</td>\n",
       "      <td>24.0</td>\n",
       "    </tr>\n",
       "    <tr>\n",
       "      <th>1</th>\n",
       "      <td>0.02731</td>\n",
       "      <td>0.0</td>\n",
       "      <td>7.07</td>\n",
       "      <td>0</td>\n",
       "      <td>0.469</td>\n",
       "      <td>6.421</td>\n",
       "      <td>78.9</td>\n",
       "      <td>4.9671</td>\n",
       "      <td>2</td>\n",
       "      <td>242.0</td>\n",
       "      <td>17.8</td>\n",
       "      <td>396.90</td>\n",
       "      <td>9.14</td>\n",
       "      <td>21.6</td>\n",
       "    </tr>\n",
       "    <tr>\n",
       "      <th>2</th>\n",
       "      <td>0.02729</td>\n",
       "      <td>0.0</td>\n",
       "      <td>7.07</td>\n",
       "      <td>0</td>\n",
       "      <td>0.469</td>\n",
       "      <td>7.185</td>\n",
       "      <td>61.1</td>\n",
       "      <td>4.9671</td>\n",
       "      <td>2</td>\n",
       "      <td>242.0</td>\n",
       "      <td>17.8</td>\n",
       "      <td>392.83</td>\n",
       "      <td>4.03</td>\n",
       "      <td>34.7</td>\n",
       "    </tr>\n",
       "    <tr>\n",
       "      <th>3</th>\n",
       "      <td>0.03237</td>\n",
       "      <td>0.0</td>\n",
       "      <td>2.18</td>\n",
       "      <td>0</td>\n",
       "      <td>0.458</td>\n",
       "      <td>6.998</td>\n",
       "      <td>45.8</td>\n",
       "      <td>6.0622</td>\n",
       "      <td>3</td>\n",
       "      <td>222.0</td>\n",
       "      <td>18.7</td>\n",
       "      <td>394.63</td>\n",
       "      <td>2.94</td>\n",
       "      <td>33.4</td>\n",
       "    </tr>\n",
       "    <tr>\n",
       "      <th>4</th>\n",
       "      <td>0.06905</td>\n",
       "      <td>0.0</td>\n",
       "      <td>2.18</td>\n",
       "      <td>0</td>\n",
       "      <td>0.458</td>\n",
       "      <td>7.147</td>\n",
       "      <td>54.2</td>\n",
       "      <td>6.0622</td>\n",
       "      <td>3</td>\n",
       "      <td>222.0</td>\n",
       "      <td>18.7</td>\n",
       "      <td>396.90</td>\n",
       "      <td>5.33</td>\n",
       "      <td>36.2</td>\n",
       "    </tr>\n",
       "  </tbody>\n",
       "</table>\n",
       "</div>"
      ],
      "text/plain": [
       "      CRIM    ZN  INDUS CHAS    NOX     RM   AGE     DIS RAD    TAX  PTRATIO  \\\n",
       "0  0.00632  18.0   2.31    0  0.538  6.575  65.2  4.0900   1  296.0     15.3   \n",
       "1  0.02731   0.0   7.07    0  0.469  6.421  78.9  4.9671   2  242.0     17.8   \n",
       "2  0.02729   0.0   7.07    0  0.469  7.185  61.1  4.9671   2  242.0     17.8   \n",
       "3  0.03237   0.0   2.18    0  0.458  6.998  45.8  6.0622   3  222.0     18.7   \n",
       "4  0.06905   0.0   2.18    0  0.458  7.147  54.2  6.0622   3  222.0     18.7   \n",
       "\n",
       "        B  LSTAT  PRICE  \n",
       "0  396.90   4.98   24.0  \n",
       "1  396.90   9.14   21.6  \n",
       "2  392.83   4.03   34.7  \n",
       "3  394.63   2.94   33.4  \n",
       "4  396.90   5.33   36.2  "
      ]
     },
     "execution_count": 290,
     "metadata": {},
     "output_type": "execute_result"
    }
   ],
   "source": [
    "#Looking at the data with names and target variable\n",
    "data.head()"
   ]
  },
  {
   "cell_type": "code",
   "execution_count": 291,
   "metadata": {
    "papermill": {
     "duration": 0.033075,
     "end_time": "2022-08-10T01:26:29.627638",
     "exception": false,
     "start_time": "2022-08-10T01:26:29.594563",
     "status": "completed"
    },
    "tags": []
   },
   "outputs": [
    {
     "name": "stdout",
     "output_type": "stream",
     "text": [
      "(506, 14)\n"
     ]
    }
   ],
   "source": [
    "#Shape of the data\n",
    "print(data.shape)"
   ]
  },
  {
   "cell_type": "code",
   "execution_count": 292,
   "metadata": {
    "papermill": {
     "duration": 0.037251,
     "end_time": "2022-08-10T01:26:29.691056",
     "exception": false,
     "start_time": "2022-08-10T01:26:29.653805",
     "status": "completed"
    },
    "tags": []
   },
   "outputs": [
    {
     "data": {
      "text/plain": [
       "CRIM       0\n",
       "ZN         0\n",
       "INDUS      0\n",
       "CHAS       0\n",
       "NOX        0\n",
       "RM         0\n",
       "AGE        0\n",
       "DIS        0\n",
       "RAD        0\n",
       "TAX        0\n",
       "PTRATIO    0\n",
       "B          0\n",
       "LSTAT      0\n",
       "PRICE      0\n",
       "dtype: int64"
      ]
     },
     "execution_count": 292,
     "metadata": {},
     "output_type": "execute_result"
    }
   ],
   "source": [
    "#Checking the null values in the dataset\n",
    "data.isnull().sum()"
   ]
  },
  {
   "cell_type": "markdown",
   "metadata": {
    "papermill": {
     "duration": 0.025871,
     "end_time": "2022-08-10T01:26:29.743681",
     "exception": false,
     "start_time": "2022-08-10T01:26:29.717810",
     "status": "completed"
    },
    "tags": []
   },
   "source": [
    "No null values in the dataset, no missing value treatement needed"
   ]
  },
  {
   "cell_type": "code",
   "execution_count": 293,
   "metadata": {
    "papermill": {
     "duration": 0.086686,
     "end_time": "2022-08-10T01:26:29.856529",
     "exception": false,
     "start_time": "2022-08-10T01:26:29.769843",
     "status": "completed"
    },
    "tags": []
   },
   "outputs": [
    {
     "data": {
      "text/html": [
       "<div>\n",
       "<style scoped>\n",
       "    .dataframe tbody tr th:only-of-type {\n",
       "        vertical-align: middle;\n",
       "    }\n",
       "\n",
       "    .dataframe tbody tr th {\n",
       "        vertical-align: top;\n",
       "    }\n",
       "\n",
       "    .dataframe thead th {\n",
       "        text-align: right;\n",
       "    }\n",
       "</style>\n",
       "<table border=\"1\" class=\"dataframe\">\n",
       "  <thead>\n",
       "    <tr style=\"text-align: right;\">\n",
       "      <th></th>\n",
       "      <th>CRIM</th>\n",
       "      <th>ZN</th>\n",
       "      <th>INDUS</th>\n",
       "      <th>NOX</th>\n",
       "      <th>RM</th>\n",
       "      <th>AGE</th>\n",
       "      <th>DIS</th>\n",
       "      <th>TAX</th>\n",
       "      <th>PTRATIO</th>\n",
       "      <th>B</th>\n",
       "      <th>LSTAT</th>\n",
       "      <th>PRICE</th>\n",
       "    </tr>\n",
       "  </thead>\n",
       "  <tbody>\n",
       "    <tr>\n",
       "      <th>count</th>\n",
       "      <td>506.000000</td>\n",
       "      <td>506.000000</td>\n",
       "      <td>506.000000</td>\n",
       "      <td>506.000000</td>\n",
       "      <td>506.000000</td>\n",
       "      <td>506.000000</td>\n",
       "      <td>506.000000</td>\n",
       "      <td>506.000000</td>\n",
       "      <td>506.000000</td>\n",
       "      <td>506.000000</td>\n",
       "      <td>506.000000</td>\n",
       "      <td>506.000000</td>\n",
       "    </tr>\n",
       "    <tr>\n",
       "      <th>mean</th>\n",
       "      <td>3.613524</td>\n",
       "      <td>11.363636</td>\n",
       "      <td>11.136779</td>\n",
       "      <td>0.554695</td>\n",
       "      <td>6.284634</td>\n",
       "      <td>68.574901</td>\n",
       "      <td>3.795043</td>\n",
       "      <td>408.237154</td>\n",
       "      <td>18.455534</td>\n",
       "      <td>356.674032</td>\n",
       "      <td>12.653063</td>\n",
       "      <td>22.532806</td>\n",
       "    </tr>\n",
       "    <tr>\n",
       "      <th>std</th>\n",
       "      <td>8.601545</td>\n",
       "      <td>23.322453</td>\n",
       "      <td>6.860353</td>\n",
       "      <td>0.115878</td>\n",
       "      <td>0.702617</td>\n",
       "      <td>28.148861</td>\n",
       "      <td>2.105710</td>\n",
       "      <td>168.537116</td>\n",
       "      <td>2.164946</td>\n",
       "      <td>91.294864</td>\n",
       "      <td>7.141062</td>\n",
       "      <td>9.197104</td>\n",
       "    </tr>\n",
       "    <tr>\n",
       "      <th>min</th>\n",
       "      <td>0.006320</td>\n",
       "      <td>0.000000</td>\n",
       "      <td>0.460000</td>\n",
       "      <td>0.385000</td>\n",
       "      <td>3.561000</td>\n",
       "      <td>2.900000</td>\n",
       "      <td>1.129600</td>\n",
       "      <td>187.000000</td>\n",
       "      <td>12.600000</td>\n",
       "      <td>0.320000</td>\n",
       "      <td>1.730000</td>\n",
       "      <td>5.000000</td>\n",
       "    </tr>\n",
       "    <tr>\n",
       "      <th>25%</th>\n",
       "      <td>0.082045</td>\n",
       "      <td>0.000000</td>\n",
       "      <td>5.190000</td>\n",
       "      <td>0.449000</td>\n",
       "      <td>5.885500</td>\n",
       "      <td>45.025000</td>\n",
       "      <td>2.100175</td>\n",
       "      <td>279.000000</td>\n",
       "      <td>17.400000</td>\n",
       "      <td>375.377500</td>\n",
       "      <td>6.950000</td>\n",
       "      <td>17.025000</td>\n",
       "    </tr>\n",
       "    <tr>\n",
       "      <th>50%</th>\n",
       "      <td>0.256510</td>\n",
       "      <td>0.000000</td>\n",
       "      <td>9.690000</td>\n",
       "      <td>0.538000</td>\n",
       "      <td>6.208500</td>\n",
       "      <td>77.500000</td>\n",
       "      <td>3.207450</td>\n",
       "      <td>330.000000</td>\n",
       "      <td>19.050000</td>\n",
       "      <td>391.440000</td>\n",
       "      <td>11.360000</td>\n",
       "      <td>21.200000</td>\n",
       "    </tr>\n",
       "    <tr>\n",
       "      <th>75%</th>\n",
       "      <td>3.677083</td>\n",
       "      <td>12.500000</td>\n",
       "      <td>18.100000</td>\n",
       "      <td>0.624000</td>\n",
       "      <td>6.623500</td>\n",
       "      <td>94.075000</td>\n",
       "      <td>5.188425</td>\n",
       "      <td>666.000000</td>\n",
       "      <td>20.200000</td>\n",
       "      <td>396.225000</td>\n",
       "      <td>16.955000</td>\n",
       "      <td>25.000000</td>\n",
       "    </tr>\n",
       "    <tr>\n",
       "      <th>max</th>\n",
       "      <td>88.976200</td>\n",
       "      <td>100.000000</td>\n",
       "      <td>27.740000</td>\n",
       "      <td>0.871000</td>\n",
       "      <td>8.780000</td>\n",
       "      <td>100.000000</td>\n",
       "      <td>12.126500</td>\n",
       "      <td>711.000000</td>\n",
       "      <td>22.000000</td>\n",
       "      <td>396.900000</td>\n",
       "      <td>37.970000</td>\n",
       "      <td>50.000000</td>\n",
       "    </tr>\n",
       "  </tbody>\n",
       "</table>\n",
       "</div>"
      ],
      "text/plain": [
       "             CRIM          ZN       INDUS         NOX          RM         AGE  \\\n",
       "count  506.000000  506.000000  506.000000  506.000000  506.000000  506.000000   \n",
       "mean     3.613524   11.363636   11.136779    0.554695    6.284634   68.574901   \n",
       "std      8.601545   23.322453    6.860353    0.115878    0.702617   28.148861   \n",
       "min      0.006320    0.000000    0.460000    0.385000    3.561000    2.900000   \n",
       "25%      0.082045    0.000000    5.190000    0.449000    5.885500   45.025000   \n",
       "50%      0.256510    0.000000    9.690000    0.538000    6.208500   77.500000   \n",
       "75%      3.677083   12.500000   18.100000    0.624000    6.623500   94.075000   \n",
       "max     88.976200  100.000000   27.740000    0.871000    8.780000  100.000000   \n",
       "\n",
       "              DIS         TAX     PTRATIO           B       LSTAT       PRICE  \n",
       "count  506.000000  506.000000  506.000000  506.000000  506.000000  506.000000  \n",
       "mean     3.795043  408.237154   18.455534  356.674032   12.653063   22.532806  \n",
       "std      2.105710  168.537116    2.164946   91.294864    7.141062    9.197104  \n",
       "min      1.129600  187.000000   12.600000    0.320000    1.730000    5.000000  \n",
       "25%      2.100175  279.000000   17.400000  375.377500    6.950000   17.025000  \n",
       "50%      3.207450  330.000000   19.050000  391.440000   11.360000   21.200000  \n",
       "75%      5.188425  666.000000   20.200000  396.225000   16.955000   25.000000  \n",
       "max     12.126500  711.000000   22.000000  396.900000   37.970000   50.000000  "
      ]
     },
     "execution_count": 293,
     "metadata": {},
     "output_type": "execute_result"
    }
   ],
   "source": [
    "#Checking the statistics of the data\n",
    "data.describe()"
   ]
  },
  {
   "cell_type": "markdown",
   "metadata": {
    "papermill": {
     "duration": 0.025796,
     "end_time": "2022-08-10T01:26:29.908342",
     "exception": false,
     "start_time": "2022-08-10T01:26:29.882546",
     "status": "completed"
    },
    "tags": []
   },
   "source": [
    "This is sometimes very useful, for example if you look at the CRIM the max is 88.97 and 75% of the value is below 3.677083 and mean is 3.613524 so it means the max values is actually an outlier or there are outliers present in the column"
   ]
  },
  {
   "cell_type": "code",
   "execution_count": 294,
   "metadata": {
    "papermill": {
     "duration": 0.04482,
     "end_time": "2022-08-10T01:26:29.979615",
     "exception": false,
     "start_time": "2022-08-10T01:26:29.934795",
     "status": "completed"
    },
    "tags": []
   },
   "outputs": [
    {
     "name": "stdout",
     "output_type": "stream",
     "text": [
      "<class 'pandas.core.frame.DataFrame'>\n",
      "RangeIndex: 506 entries, 0 to 505\n",
      "Data columns (total 14 columns):\n",
      " #   Column   Non-Null Count  Dtype   \n",
      "---  ------   --------------  -----   \n",
      " 0   CRIM     506 non-null    float64 \n",
      " 1   ZN       506 non-null    float64 \n",
      " 2   INDUS    506 non-null    float64 \n",
      " 3   CHAS     506 non-null    category\n",
      " 4   NOX      506 non-null    float64 \n",
      " 5   RM       506 non-null    float64 \n",
      " 6   AGE      506 non-null    float64 \n",
      " 7   DIS      506 non-null    float64 \n",
      " 8   RAD      506 non-null    category\n",
      " 9   TAX      506 non-null    float64 \n",
      " 10  PTRATIO  506 non-null    float64 \n",
      " 11  B        506 non-null    float64 \n",
      " 12  LSTAT    506 non-null    float64 \n",
      " 13  PRICE    506 non-null    float64 \n",
      "dtypes: category(2), float64(12)\n",
      "memory usage: 49.0 KB\n"
     ]
    }
   ],
   "source": [
    "data.info()"
   ]
  },
  {
   "cell_type": "markdown",
   "metadata": {
    "papermill": {
     "duration": 0.026275,
     "end_time": "2022-08-10T01:26:30.033463",
     "exception": false,
     "start_time": "2022-08-10T01:26:30.007188",
     "status": "completed"
    },
    "tags": []
   },
   "source": [
    "<a id = 'visual'></a>\n",
    "### Visualisation"
   ]
  },
  {
   "cell_type": "code",
   "execution_count": 295,
   "metadata": {
    "papermill": {
     "duration": 0.373929,
     "end_time": "2022-08-10T01:26:30.434719",
     "exception": false,
     "start_time": "2022-08-10T01:26:30.060790",
     "status": "completed"
    },
    "tags": []
   },
   "outputs": [
    {
     "data": {
      "text/plain": [
       "<seaborn.axisgrid.FacetGrid at 0x210b9829190>"
      ]
     },
     "execution_count": 295,
     "metadata": {},
     "output_type": "execute_result"
    },
    {
     "data": {
      "image/png": "[encoded data removed]",
      "text/plain": [
       "<Figure size 500x500 with 1 Axes>"
      ]
     },
     "metadata": {},
     "output_type": "display_data"
    }
   ],
   "source": [
    "#checking the distribution of the target variable\n",
    "import seaborn as sns\n",
    "sns.displot(data['PRICE'], kde=True)"
   ]
  },
  {
   "cell_type": "markdown",
   "metadata": {
    "papermill": {
     "duration": 0.027272,
     "end_time": "2022-08-10T01:26:30.490810",
     "exception": false,
     "start_time": "2022-08-10T01:26:30.463538",
     "status": "completed"
    },
    "tags": []
   },
   "source": [
    "The distribution seems normal, has not be the data normal we would have perform log transformation or took to square root of the data to make the data normal. Normal distribution is need for the machine learning for better predictiblity of the model"
   ]
  },
  {
   "cell_type": "code",
   "execution_count": 296,
   "metadata": {
    "papermill": {
     "duration": 0.118564,
     "end_time": "2022-08-10T01:26:30.637221",
     "exception": false,
     "start_time": "2022-08-10T01:26:30.518657",
     "status": "completed"
    },
    "tags": []
   },
   "outputs": [
    {
     "data": {
      "text/plain": [
       "<Axes: ylabel='PRICE'>"
      ]
     },
     "execution_count": 296,
     "metadata": {},
     "output_type": "execute_result"
    },
    {
     "data": {
      "image/png": "[encoded data removed]",
      "text/plain": [
       "<Figure size 640x480 with 1 Axes>"
      ]
     },
     "metadata": {},
     "output_type": "display_data"
    }
   ],
   "source": [
    "#Distribution using box plot\n",
    "sns.boxplot(data.PRICE)"
   ]
  },
  {
   "cell_type": "markdown",
   "metadata": {
    "papermill": {
     "duration": 0.027998,
     "end_time": "2022-08-10T01:26:30.693962",
     "exception": false,
     "start_time": "2022-08-10T01:26:30.665964",
     "status": "completed"
    },
    "tags": []
   },
   "source": [
    "<a id = 'corr'></a>\n",
    "### Checking the correlation of the independent feature with the dependent feature\n",
    "\n",
    "Correlation is a statistical technique that can show whether and how strongly pairs of variables are related.An intelligent correlation analysis can lead to a greater understanding of your data"
   ]
  },
  {
   "cell_type": "code",
   "execution_count": 297,
   "metadata": {
    "papermill": {
     "duration": 0.040744,
     "end_time": "2022-08-10T01:26:30.763342",
     "exception": false,
     "start_time": "2022-08-10T01:26:30.722598",
     "status": "completed"
    },
    "tags": []
   },
   "outputs": [
    {
     "data": {
      "text/plain": [
       "CRIM      -0.388305\n",
       "ZN         0.360445\n",
       "INDUS     -0.483725\n",
       "CHAS       0.175260\n",
       "NOX       -0.427321\n",
       "RM         0.695360\n",
       "AGE       -0.376955\n",
       "DIS        0.249929\n",
       "RAD       -0.381626\n",
       "TAX       -0.468536\n",
       "PTRATIO   -0.507787\n",
       "B          0.333461\n",
       "LSTAT     -0.737663\n",
       "PRICE      1.000000\n",
       "Name: PRICE, dtype: float64"
      ]
     },
     "execution_count": 297,
     "metadata": {},
     "output_type": "execute_result"
    }
   ],
   "source": [
    "#checking Correlation of the data \n",
    "correlation = data.corr()\n",
    "correlation.loc['PRICE']"
   ]
  },
  {
   "cell_type": "code",
   "execution_count": 298,
   "metadata": {
    "papermill": {
     "duration": 0.741661,
     "end_time": "2022-08-10T01:26:31.534640",
     "exception": false,
     "start_time": "2022-08-10T01:26:30.792979",
     "status": "completed"
    },
    "tags": []
   },
   "outputs": [
    {
     "data": {
      "text/plain": [
       "<Axes: >"
      ]
     },
     "execution_count": 298,
     "metadata": {},
     "output_type": "execute_result"
    },
    {
     "data": {
      "image/png": "[encoded data removed]",
      "text/plain": [
       "<Figure size 1500x1200 with 2 Axes>"
      ]
     },
     "metadata": {},
     "output_type": "display_data"
    }
   ],
   "source": [
    "# plotting the heatmap\n",
    "import matplotlib.pyplot as plt\n",
    "fig,axes = plt.subplots(figsize=(15,12))\n",
    "sns.heatmap(correlation,square = True,annot = True)"
   ]
  },
  {
   "cell_type": "markdown",
   "metadata": {
    "papermill": {
     "duration": 0.031597,
     "end_time": "2022-08-10T01:26:31.597827",
     "exception": false,
     "start_time": "2022-08-10T01:26:31.566230",
     "status": "completed"
    },
    "tags": []
   },
   "source": [
    "By looking at the correlation plot LSAT is negatively correlated with -0.75 and RM is positively correlated to the price and PTRATIO is correlated negatively with -0.51"
   ]
  },
  {
   "cell_type": "code",
   "execution_count": 299,
   "metadata": {
    "papermill": {
     "duration": 0.387502,
     "end_time": "2022-08-10T01:26:32.016736",
     "exception": false,
     "start_time": "2022-08-10T01:26:31.629234",
     "status": "completed"
    },
    "tags": []
   },
   "outputs": [
    {
     "data": {
      "image/png": "[encoded data removed]",
      "text/plain": [
       "<Figure size 2000x500 with 3 Axes>"
      ]
     },
     "metadata": {},
     "output_type": "display_data"
    }
   ],
   "source": [
    "# Checking the scatter plot with the most correlated features\n",
    "plt.figure(figsize = (20,5))\n",
    "features = ['LSTAT','RM','PTRATIO']\n",
    "for i, col in enumerate(features):\n",
    "    plt.subplot(1, len(features) , i+1)\n",
    "    x = data[col]\n",
    "    y = data.PRICE\n",
    "    plt.scatter(x, y, marker='o')\n",
    "    plt.title(\"Variation in House prices\")\n",
    "    plt.xlabel(col)\n",
    "    plt.ylabel('\"House prices in $1000\"')"
   ]
  },
  {
   "cell_type": "markdown",
   "metadata": {
    "papermill": {
     "duration": 0.033744,
     "end_time": "2022-08-10T01:26:32.083523",
     "exception": false,
     "start_time": "2022-08-10T01:26:32.049779",
     "status": "completed"
    },
    "tags": []
   },
   "source": [
    "<a id = 'split'></a>\n",
    "### Splitting the dependent feature and independent feature "
   ]
  },
  {
   "cell_type": "code",
   "execution_count": 300,
   "metadata": {
    "papermill": {
     "duration": 0.041028,
     "end_time": "2022-08-10T01:26:32.158598",
     "exception": false,
     "start_time": "2022-08-10T01:26:32.117570",
     "status": "completed"
    },
    "tags": []
   },
   "outputs": [],
   "source": [
    "#X = data[['LSTAT','RM','PTRATIO']]\n",
    "X = data.iloc[:,:-1]\n",
    "y= data.PRICE"
   ]
  },
  {
   "cell_type": "markdown",
   "metadata": {
    "papermill": {
     "duration": 0.033364,
     "end_time": "2022-08-10T01:26:32.226273",
     "exception": false,
     "start_time": "2022-08-10T01:26:32.192909",
     "status": "completed"
    },
    "tags": []
   },
   "source": [
    "<a id = 'valid'></a>\n",
    "### Splitting the data for Model Validation "
   ]
  },
  {
   "cell_type": "code",
   "execution_count": 301,
   "metadata": {
    "papermill": {
     "duration": 0.100655,
     "end_time": "2022-08-10T01:26:32.361581",
     "exception": false,
     "start_time": "2022-08-10T01:26:32.260926",
     "status": "completed"
    },
    "tags": []
   },
   "outputs": [],
   "source": [
    "# Splitting the data into train and test for building the model\n",
    "from sklearn.model_selection import train_test_split\n",
    "X_train, X_test, y_train, y_test = train_test_split(X,y, test_size = 0.2, random_state = 4)"
   ]
  },
  {
   "cell_type": "markdown",
   "metadata": {
    "papermill": {
     "duration": 0.033268,
     "end_time": "2022-08-10T01:26:32.429314",
     "exception": false,
     "start_time": "2022-08-10T01:26:32.396046",
     "status": "completed"
    },
    "tags": []
   },
   "source": [
    "<a id = 'build'></a>\n",
    "### Building the Model "
   ]
  },
  {
   "cell_type": "code",
   "execution_count": 302,
   "metadata": {
    "papermill": {
     "duration": 0.132276,
     "end_time": "2022-08-10T01:26:32.594764",
     "exception": false,
     "start_time": "2022-08-10T01:26:32.462488",
     "status": "completed"
    },
    "tags": []
   },
   "outputs": [],
   "source": [
    "#Linear Regression \n",
    "from sklearn.linear_model import LinearRegression\n",
    "regressor = LinearRegression()"
   ]
  },
  {
   "cell_type": "code",
   "execution_count": 303,
   "metadata": {
    "papermill": {
     "duration": 0.081726,
     "end_time": "2022-08-10T01:26:32.710054",
     "exception": false,
     "start_time": "2022-08-10T01:26:32.628328",
     "status": "completed"
    },
    "tags": []
   },
   "outputs": [
    {
     "data": {
      "text/html": [
       "<style>#sk-container-id-7 {\n",
       "  /* Definition of color scheme common for light and dark mode */\n",
       "  --sklearn-color-text: black;\n",
       "  --sklearn-color-line: gray;\n",
       "  /* Definition of color scheme for unfitted estimators */\n",
       "  --sklearn-color-unfitted-level-0: #fff5e6;\n",
       "  --sklearn-color-unfitted-level-1: #f6e4d2;\n",
       "  --sklearn-color-unfitted-level-2: #ffe0b3;\n",
       "  --sklearn-color-unfitted-level-3: chocolate;\n",
       "  /* Definition of color scheme for fitted estimators */\n",
       "  --sklearn-color-fitted-level-0: #f0f8ff;\n",
       "  --sklearn-color-fitted-level-1: #d4ebff;\n",
       "  --sklearn-color-fitted-level-2: #b3dbfd;\n",
       "  --sklearn-color-fitted-level-3: cornflowerblue;\n",
       "\n",
       "  /* Specific color for light theme */\n",
       "  --sklearn-color-text-on-default-background: var(--sg-text-color, var(--theme-code-foreground, var(--jp-content-font-color1, black)));\n",
       "  --sklearn-color-background: var(--sg-background-color, var(--theme-background, var(--jp-layout-color0, white)));\n",
       "  --sklearn-color-border-box: var(--sg-text-color, var(--theme-code-foreground, var(--jp-content-font-color1, black)));\n",
       "  --sklearn-color-icon: #696969;\n",
       "\n",
       "  @media (prefers-color-scheme: dark) {\n",
       "    /* Redefinition of color scheme for dark theme */\n",
       "    --sklearn-color-text-on-default-background: var(--sg-text-color, var(--theme-code-foreground, var(--jp-content-font-color1, white)));\n",
       "    --sklearn-color-background: var(--sg-background-color, var(--theme-background, var(--jp-layout-color0, #111)));\n",
       "    --sklearn-color-border-box: var(--sg-text-color, var(--theme-code-foreground, var(--jp-content-font-color1, white)));\n",
       "    --sklearn-color-icon: #878787;\n",
       "  }\n",
       "}\n",
       "\n",
       "#sk-container-id-7 {\n",
       "  color: var(--sklearn-color-text);\n",
       "}\n",
       "\n",
       "#sk-container-id-7 pre {\n",
       "  padding: 0;\n",
       "}\n",
       "\n",
       "#sk-container-id-7 input.sk-hidden--visually {\n",
       "  border: 0;\n",
       "  clip: rect(1px 1px 1px 1px);\n",
       "  clip: rect(1px, 1px, 1px, 1px);\n",
       "  height: 1px;\n",
       "  margin: -1px;\n",
       "  overflow: hidden;\n",
       "  padding: 0;\n",
       "  position: absolute;\n",
       "  width: 1px;\n",
       "}\n",
       "\n",
       "#sk-container-id-7 div.sk-dashed-wrapped {\n",
       "  border: 1px dashed var(--sklearn-color-line);\n",
       "  margin: 0 0.4em 0.5em 0.4em;\n",
       "  box-sizing: border-box;\n",
       "  padding-bottom: 0.4em;\n",
       "  background-color: var(--sklearn-color-background);\n",
       "}\n",
       "\n",
       "#sk-container-id-7 div.sk-container {\n",
       "  /* jupyter's `normalize.less` sets `[hidden] { display: none; }`\n",
       "     but bootstrap.min.css set `[hidden] { display: none !important; }`\n",
       "     so we also need the `!important` here to be able to override the\n",
       "     default hidden behavior on the sphinx rendered scikit-learn.org.\n",
       "     See: https://github.com/scikit-learn/scikit-learn/issues/21755 */\n",
       "  display: inline-block !important;\n",
       "  position: relative;\n",
       "}\n",
       "\n",
       "#sk-container-id-7 div.sk-text-repr-fallback {\n",
       "  display: none;\n",
       "}\n",
       "\n",
       "div.sk-parallel-item,\n",
       "div.sk-serial,\n",
       "div.sk-item {\n",
       "  /* draw centered vertical line to link estimators */\n",
       "  background-image: linear-gradient(var(--sklearn-color-text-on-default-background), var(--sklearn-color-text-on-default-background));\n",
       "  background-size: 2px 100%;\n",
       "  background-repeat: no-repeat;\n",
       "  background-position: center center;\n",
       "}\n",
       "\n",
       "/* Parallel-specific style estimator block */\n",
       "\n",
       "#sk-container-id-7 div.sk-parallel-item::after {\n",
       "  content: \"\";\n",
       "  width: 100%;\n",
       "  border-bottom: 2px solid var(--sklearn-color-text-on-default-background);\n",
       "  flex-grow: 1;\n",
       "}\n",
       "\n",
       "#sk-container-id-7 div.sk-parallel {\n",
       "  display: flex;\n",
       "  align-items: stretch;\n",
       "  justify-content: center;\n",
       "  background-color: var(--sklearn-color-background);\n",
       "  position: relative;\n",
       "}\n",
       "\n",
       "#sk-container-id-7 div.sk-parallel-item {\n",
       "  display: flex;\n",
       "  flex-direction: column;\n",
       "}\n",
       "\n",
       "#sk-container-id-7 div.sk-parallel-item:first-child::after {\n",
       "  align-self: flex-end;\n",
       "  width: 50%;\n",
       "}\n",
       "\n",
       "#sk-container-id-7 div.sk-parallel-item:last-child::after {\n",
       "  align-self: flex-start;\n",
       "  width: 50%;\n",
       "}\n",
       "\n",
       "#sk-container-id-7 div.sk-parallel-item:only-child::after {\n",
       "  width: 0;\n",
       "}\n",
       "\n",
       "/* Serial-specific style estimator block */\n",
       "\n",
       "#sk-container-id-7 div.sk-serial {\n",
       "  display: flex;\n",
       "  flex-direction: column;\n",
       "  align-items: center;\n",
       "  background-color: var(--sklearn-color-background);\n",
       "  padding-right: 1em;\n",
       "  padding-left: 1em;\n",
       "}\n",
       "\n",
       "\n",
       "/* Toggleable style: style used for estimator/Pipeline/ColumnTransformer box that is\n",
       "clickable and can be expanded/collapsed.\n",
       "- Pipeline and ColumnTransformer use this feature and define the default style\n",
       "- Estimators will overwrite some part of the style using the `sk-estimator` class\n",
       "*/\n",
       "\n",
       "/* Pipeline and ColumnTransformer style (default) */\n",
       "\n",
       "#sk-container-id-7 div.sk-toggleable {\n",
       "  /* Default theme specific background. It is overwritten whether we have a\n",
       "  specific estimator or a Pipeline/ColumnTransformer */\n",
       "  background-color: var(--sklearn-color-background);\n",
       "}\n",
       "\n",
       "/* Toggleable label */\n",
       "#sk-container-id-7 label.sk-toggleable__label {\n",
       "  cursor: pointer;\n",
       "  display: block;\n",
       "  width: 100%;\n",
       "  margin-bottom: 0;\n",
       "  padding: 0.5em;\n",
       "  box-sizing: border-box;\n",
       "  text-align: center;\n",
       "}\n",
       "\n",
       "#sk-container-id-7 label.sk-toggleable__label-arrow:before {\n",
       "  /* Arrow on the left of the label */\n",
       "  content: \"▸\";\n",
       "  float: left;\n",
       "  margin-right: 0.25em;\n",
       "  color: var(--sklearn-color-icon);\n",
       "}\n",
       "\n",
       "#sk-container-id-7 label.sk-toggleable__label-arrow:hover:before {\n",
       "  color: var(--sklearn-color-text);\n",
       "}\n",
       "\n",
       "/* Toggleable content - dropdown */\n",
       "\n",
       "#sk-container-id-7 div.sk-toggleable__content {\n",
       "  max-height: 0;\n",
       "  max-width: 0;\n",
       "  overflow: hidden;\n",
       "  text-align: left;\n",
       "  /* unfitted */\n",
       "  background-color: var(--sklearn-color-unfitted-level-0);\n",
       "}\n",
       "\n",
       "#sk-container-id-7 div.sk-toggleable__content.fitted {\n",
       "  /* fitted */\n",
       "  background-color: var(--sklearn-color-fitted-level-0);\n",
       "}\n",
       "\n",
       "#sk-container-id-7 div.sk-toggleable__content pre {\n",
       "  margin: 0.2em;\n",
       "  border-radius: 0.25em;\n",
       "  color: var(--sklearn-color-text);\n",
       "  /* unfitted */\n",
       "  background-color: var(--sklearn-color-unfitted-level-0);\n",
       "}\n",
       "\n",
       "#sk-container-id-7 div.sk-toggleable__content.fitted pre {\n",
       "  /* unfitted */\n",
       "  background-color: var(--sklearn-color-fitted-level-0);\n",
       "}\n",
       "\n",
       "#sk-container-id-7 input.sk-toggleable__control:checked~div.sk-toggleable__content {\n",
       "  /* Expand drop-down */\n",
       "  max-height: 200px;\n",
       "  max-width: 100%;\n",
       "  overflow: auto;\n",
       "}\n",
       "\n",
       "#sk-container-id-7 input.sk-toggleable__control:checked~label.sk-toggleable__label-arrow:before {\n",
       "  content: \"▾\";\n",
       "}\n",
       "\n",
       "/* Pipeline/ColumnTransformer-specific style */\n",
       "\n",
       "#sk-container-id-7 div.sk-label input.sk-toggleable__control:checked~label.sk-toggleable__label {\n",
       "  color: var(--sklearn-color-text);\n",
       "  background-color: var(--sklearn-color-unfitted-level-2);\n",
       "}\n",
       "\n",
       "#sk-container-id-7 div.sk-label.fitted input.sk-toggleable__control:checked~label.sk-toggleable__label {\n",
       "  background-color: var(--sklearn-color-fitted-level-2);\n",
       "}\n",
       "\n",
       "/* Estimator-specific style */\n",
       "\n",
       "/* Colorize estimator box */\n",
       "#sk-container-id-7 div.sk-estimator input.sk-toggleable__control:checked~label.sk-toggleable__label {\n",
       "  /* unfitted */\n",
       "  background-color: var(--sklearn-color-unfitted-level-2);\n",
       "}\n",
       "\n",
       "#sk-container-id-7 div.sk-estimator.fitted input.sk-toggleable__control:checked~label.sk-toggleable__label {\n",
       "  /* fitted */\n",
       "  background-color: var(--sklearn-color-fitted-level-2);\n",
       "}\n",
       "\n",
       "#sk-container-id-7 div.sk-label label.sk-toggleable__label,\n",
       "#sk-container-id-7 div.sk-label label {\n",
       "  /* The background is the default theme color */\n",
       "  color: var(--sklearn-color-text-on-default-background);\n",
       "}\n",
       "\n",
       "/* On hover, darken the color of the background */\n",
       "#sk-container-id-7 div.sk-label:hover label.sk-toggleable__label {\n",
       "  color: var(--sklearn-color-text);\n",
       "  background-color: var(--sklearn-color-unfitted-level-2);\n",
       "}\n",
       "\n",
       "/* Label box, darken color on hover, fitted */\n",
       "#sk-container-id-7 div.sk-label.fitted:hover label.sk-toggleable__label.fitted {\n",
       "  color: var(--sklearn-color-text);\n",
       "  background-color: var(--sklearn-color-fitted-level-2);\n",
       "}\n",
       "\n",
       "/* Estimator label */\n",
       "\n",
       "#sk-container-id-7 div.sk-label label {\n",
       "  font-family: monospace;\n",
       "  font-weight: bold;\n",
       "  display: inline-block;\n",
       "  line-height: 1.2em;\n",
       "}\n",
       "\n",
       "#sk-container-id-7 div.sk-label-container {\n",
       "  text-align: center;\n",
       "}\n",
       "\n",
       "/* Estimator-specific */\n",
       "#sk-container-id-7 div.sk-estimator {\n",
       "  font-family: monospace;\n",
       "  border: 1px dotted var(--sklearn-color-border-box);\n",
       "  border-radius: 0.25em;\n",
       "  box-sizing: border-box;\n",
       "  margin-bottom: 0.5em;\n",
       "  /* unfitted */\n",
       "  background-color: var(--sklearn-color-unfitted-level-0);\n",
       "}\n",
       "\n",
       "#sk-container-id-7 div.sk-estimator.fitted {\n",
       "  /* fitted */\n",
       "  background-color: var(--sklearn-color-fitted-level-0);\n",
       "}\n",
       "\n",
       "/* on hover */\n",
       "#sk-container-id-7 div.sk-estimator:hover {\n",
       "  /* unfitted */\n",
       "  background-color: var(--sklearn-color-unfitted-level-2);\n",
       "}\n",
       "\n",
       "#sk-container-id-7 div.sk-estimator.fitted:hover {\n",
       "  /* fitted */\n",
       "  background-color: var(--sklearn-color-fitted-level-2);\n",
       "}\n",
       "\n",
       "/* Specification for estimator info (e.g. \"i\" and \"?\") */\n",
       "\n",
       "/* Common style for \"i\" and \"?\" */\n",
       "\n",
       ".sk-estimator-doc-link,\n",
       "a:link.sk-estimator-doc-link,\n",
       "a:visited.sk-estimator-doc-link {\n",
       "  float: right;\n",
       "  font-size: smaller;\n",
       "  line-height: 1em;\n",
       "  font-family: monospace;\n",
       "  background-color: var(--sklearn-color-background);\n",
       "  border-radius: 1em;\n",
       "  height: 1em;\n",
       "  width: 1em;\n",
       "  text-decoration: none !important;\n",
       "  margin-left: 1ex;\n",
       "  /* unfitted */\n",
       "  border: var(--sklearn-color-unfitted-level-1) 1pt solid;\n",
       "  color: var(--sklearn-color-unfitted-level-1);\n",
       "}\n",
       "\n",
       ".sk-estimator-doc-link.fitted,\n",
       "a:link.sk-estimator-doc-link.fitted,\n",
       "a:visited.sk-estimator-doc-link.fitted {\n",
       "  /* fitted */\n",
       "  border: var(--sklearn-color-fitted-level-1) 1pt solid;\n",
       "  color: var(--sklearn-color-fitted-level-1);\n",
       "}\n",
       "\n",
       "/* On hover */\n",
       "div.sk-estimator:hover .sk-estimator-doc-link:hover,\n",
       ".sk-estimator-doc-link:hover,\n",
       "div.sk-label-container:hover .sk-estimator-doc-link:hover,\n",
       ".sk-estimator-doc-link:hover {\n",
       "  /* unfitted */\n",
       "  background-color: var(--sklearn-color-unfitted-level-3);\n",
       "  color: var(--sklearn-color-background);\n",
       "  text-decoration: none;\n",
       "}\n",
       "\n",
       "div.sk-estimator.fitted:hover .sk-estimator-doc-link.fitted:hover,\n",
       ".sk-estimator-doc-link.fitted:hover,\n",
       "div.sk-label-container:hover .sk-estimator-doc-link.fitted:hover,\n",
       ".sk-estimator-doc-link.fitted:hover {\n",
       "  /* fitted */\n",
       "  background-color: var(--sklearn-color-fitted-level-3);\n",
       "  color: var(--sklearn-color-background);\n",
       "  text-decoration: none;\n",
       "}\n",
       "\n",
       "/* Span, style for the box shown on hovering the info icon */\n",
       ".sk-estimator-doc-link span {\n",
       "  display: none;\n",
       "  z-index: 9999;\n",
       "  position: relative;\n",
       "  font-weight: normal;\n",
       "  right: .2ex;\n",
       "  padding: .5ex;\n",
       "  margin: .5ex;\n",
       "  width: min-content;\n",
       "  min-width: 20ex;\n",
       "  max-width: 50ex;\n",
       "  color: var(--sklearn-color-text);\n",
       "  box-shadow: 2pt 2pt 4pt #999;\n",
       "  /* unfitted */\n",
       "  background: var(--sklearn-color-unfitted-level-0);\n",
       "  border: .5pt solid var(--sklearn-color-unfitted-level-3);\n",
       "}\n",
       "\n",
       ".sk-estimator-doc-link.fitted span {\n",
       "  /* fitted */\n",
       "  background: var(--sklearn-color-fitted-level-0);\n",
       "  border: var(--sklearn-color-fitted-level-3);\n",
       "}\n",
       "\n",
       ".sk-estimator-doc-link:hover span {\n",
       "  display: block;\n",
       "}\n",
       "\n",
       "/* \"?\"-specific style due to the `<a>` HTML tag */\n",
       "\n",
       "#sk-container-id-7 a.estimator_doc_link {\n",
       "  float: right;\n",
       "  font-size: 1rem;\n",
       "  line-height: 1em;\n",
       "  font-family: monospace;\n",
       "  background-color: var(--sklearn-color-background);\n",
       "  border-radius: 1rem;\n",
       "  height: 1rem;\n",
       "  width: 1rem;\n",
       "  text-decoration: none;\n",
       "  /* unfitted */\n",
       "  color: var(--sklearn-color-unfitted-level-1);\n",
       "  border: var(--sklearn-color-unfitted-level-1) 1pt solid;\n",
       "}\n",
       "\n",
       "#sk-container-id-7 a.estimator_doc_link.fitted {\n",
       "  /* fitted */\n",
       "  border: var(--sklearn-color-fitted-level-1) 1pt solid;\n",
       "  color: var(--sklearn-color-fitted-level-1);\n",
       "}\n",
       "\n",
       "/* On hover */\n",
       "#sk-container-id-7 a.estimator_doc_link:hover {\n",
       "  /* unfitted */\n",
       "  background-color: var(--sklearn-color-unfitted-level-3);\n",
       "  color: var(--sklearn-color-background);\n",
       "  text-decoration: none;\n",
       "}\n",
       "\n",
       "#sk-container-id-7 a.estimator_doc_link.fitted:hover {\n",
       "  /* fitted */\n",
       "  background-color: var(--sklearn-color-fitted-level-3);\n",
       "}\n",
       "</style><div id=\"sk-container-id-7\" class=\"sk-top-container\"><div class=\"sk-text-repr-fallback\"><pre>LinearRegression()</pre><b>In a Jupyter environment, please rerun this cell to show the HTML representation or trust the notebook. <br />On GitHub, the HTML representation is unable to render, please try loading this page with nbviewer.org.</b></div><div class=\"sk-container\" hidden><div class=\"sk-item\"><div class=\"sk-estimator fitted sk-toggleable\"><input class=\"sk-toggleable__control sk-hidden--visually\" id=\"sk-estimator-id-7\" type=\"checkbox\" checked><label for=\"sk-estimator-id-7\" class=\"sk-toggleable__label fitted sk-toggleable__label-arrow fitted\">&nbsp;&nbsp;LinearRegression<a class=\"sk-estimator-doc-link fitted\" rel=\"noreferrer\" target=\"_blank\" href=\"https://scikit-learn.org/1.4/modules/generated/sklearn.linear_model.LinearRegression.html\">?<span>Documentation for LinearRegression</span></a><span class=\"sk-estimator-doc-link fitted\">i<span>Fitted</span></span></label><div class=\"sk-toggleable__content fitted\"><pre>LinearRegression()</pre></div> </div></div></div></div>"
      ],
      "text/plain": [
       "LinearRegression()"
      ]
     },
     "execution_count": 303,
     "metadata": {},
     "output_type": "execute_result"
    }
   ],
   "source": [
    "#Fitting the model\n",
    "regressor.fit(X_train,y_train)"
   ]
  },
  {
   "cell_type": "markdown",
   "metadata": {
    "papermill": {
     "duration": 0.035156,
     "end_time": "2022-08-10T01:26:32.779807",
     "exception": false,
     "start_time": "2022-08-10T01:26:32.744651",
     "status": "completed"
    },
    "tags": []
   },
   "source": [
    "<a id = 'evaluate'></a>\n",
    "### Model Evaluation"
   ]
  },
  {
   "cell_type": "code",
   "execution_count": 304,
   "metadata": {
    "papermill": {
     "duration": 0.044206,
     "end_time": "2022-08-10T01:26:32.858700",
     "exception": false,
     "start_time": "2022-08-10T01:26:32.814494",
     "status": "completed"
    },
    "tags": []
   },
   "outputs": [
    {
     "name": "stderr",
     "output_type": "stream",
     "text": [
      "C:\\Users\\adity\\AppData\\Local\\Programs\\Python\\Python311\\Lib\\site-packages\\sklearn\\base.py:493: UserWarning: X does not have valid feature names, but LinearRegression was fitted with feature names\n",
      "  warnings.warn(\n"
     ]
    }
   ],
   "source": [
    "# Convert X_test to a NumPy array\n",
    "X_test = np.array(X_test)\n",
    "#Prediction on the test dataset\n",
    "y_pred = regressor.predict(X_test)"
   ]
  },
  {
   "cell_type": "code",
   "execution_count": 305,
   "metadata": {
    "papermill": {
     "duration": 0.047136,
     "end_time": "2022-08-10T01:26:32.940854",
     "exception": false,
     "start_time": "2022-08-10T01:26:32.893718",
     "status": "completed"
    },
    "tags": []
   },
   "outputs": [
    {
     "name": "stdout",
     "output_type": "stream",
     "text": [
      "5.041784121402056\n"
     ]
    }
   ],
   "source": [
    "# Predicting RMSE the Test set results\n",
    "from sklearn.metrics import mean_squared_error\n",
    "rmse = (np.sqrt(mean_squared_error(y_test, y_pred)))\n",
    "print(rmse)"
   ]
  },
  {
   "cell_type": "code",
   "execution_count": 306,
   "metadata": {
    "papermill": {
     "duration": 0.044196,
     "end_time": "2022-08-10T01:26:33.019917",
     "exception": false,
     "start_time": "2022-08-10T01:26:32.975721",
     "status": "completed"
    },
    "tags": []
   },
   "outputs": [
    {
     "name": "stdout",
     "output_type": "stream",
     "text": [
      "0.7263451459702503\n"
     ]
    }
   ],
   "source": [
    "from sklearn.metrics import r2_score\n",
    "r2 = r2_score(y_test, y_pred)\n",
    "print(r2)"
   ]
  },
  {
   "cell_type": "markdown",
   "metadata": {
    "papermill": {
     "duration": 0.035405,
     "end_time": "2022-08-10T01:26:33.089945",
     "exception": false,
     "start_time": "2022-08-10T01:26:33.054540",
     "status": "completed"
    },
    "tags": []
   },
   "source": [
    "### Neural Networks"
   ]
  },
  {
   "cell_type": "code",
   "execution_count": 307,
   "metadata": {
    "scrolled": true
   },
   "outputs": [],
   "source": [
    "# !pip install tensorflow\n",
    "# !pip install keras"
   ]
  },
  {
   "cell_type": "code",
   "execution_count": 308,
   "metadata": {
    "papermill": {
     "duration": 0.278206,
     "end_time": "2022-08-10T01:26:33.557268",
     "exception": false,
     "start_time": "2022-08-10T01:26:33.279062",
     "status": "completed"
    },
    "tags": []
   },
   "outputs": [],
   "source": [
    "#Creating the neural network model\n",
    "import keras\n",
    "from keras.layers import Dense, Activation,Dropout\n",
    "from keras.models import Sequential\n",
    "\n",
    "model = Sequential()\n",
    "\n",
    "model.add(Dense(128,activation  = 'relu',input_dim =13))\n",
    "model.add(Dense(64,activation  = 'relu'))\n",
    "model.add(Dense(32,activation  = 'relu'))\n",
    "model.add(Dense(16,activation  = 'relu'))\n",
    "model.add(Dense(1))\n",
    "model.compile(optimizer = 'adam',loss = 'mean_squared_error')"
   ]
  },
  {
   "cell_type": "code",
   "execution_count": 309,
   "metadata": {
    "papermill": {
     "duration": 0.048668,
     "end_time": "2022-08-10T01:26:33.173274",
     "exception": false,
     "start_time": "2022-08-10T01:26:33.124606",
     "status": "completed"
    },
    "tags": []
   },
   "outputs": [
    {
     "name": "stderr",
     "output_type": "stream",
     "text": [
      "C:\\Users\\adity\\AppData\\Local\\Programs\\Python\\Python311\\Lib\\site-packages\\sklearn\\base.py:493: UserWarning: X does not have valid feature names, but StandardScaler was fitted with feature names\n",
      "  warnings.warn(\n"
     ]
    }
   ],
   "source": [
    "# # Select only the first 13 features  for offline \n",
    "# # Correct slicing for Pandas DataFrame\n",
    "# # For Pandas DataFrame\n",
    "# X_train = X_train.iloc[:, :13]\n",
    "# # For NumPy array\n",
    "# X_test = X_test[:, :13]\n",
    "# from sklearn.preprocessing import StandardScaler\n",
    "# sc = StandardScaler()\n",
    "# X_train = sc.fit_transform(X_train)\n",
    "# X_test = sc.transform(X_test)\n",
    "\n",
    "\n",
    "\n",
    "\n",
    "\n",
    "\n",
    "\n",
    "\n",
    "\n",
    "\n",
    "\n",
    "\n",
    "\n",
    "\n",
    "\n",
    "\n",
    "#for online\n",
    "\n",
    "# #Scaling the dataset\n",
    "from sklearn.preprocessing import StandardScaler\n",
    "sc = StandardScaler()\n",
    "X_train = sc.fit_transform(X_train)\n",
    "X_test = sc.transform(X_test)"
   ]
  },
  {
   "cell_type": "code",
   "execution_count": 310,
   "metadata": {
    "papermill": {
     "duration": 3.012095,
     "end_time": "2022-08-10T01:26:36.605106",
     "exception": false,
     "start_time": "2022-08-10T01:26:33.593011",
     "status": "completed"
    },
    "tags": []
   },
   "outputs": [
    {
     "name": "stdout",
     "output_type": "stream",
     "text": [
      "Epoch 1/100\n",
      "13/13 [==============================] - 2s 2ms/step - loss: 568.1149\n",
      "Epoch 2/100\n",
      "13/13 [==============================] - 0s 2ms/step - loss: 516.0721\n",
      "Epoch 3/100\n",
      "13/13 [==============================] - 0s 2ms/step - loss: 393.1763\n",
      "Epoch 4/100\n",
      "13/13 [==============================] - 0s 2ms/step - loss: 176.6980\n",
      "Epoch 5/100\n",
      "13/13 [==============================] - 0s 2ms/step - loss: 74.1135\n",
      "Epoch 6/100\n",
      "13/13 [==============================] - 0s 2ms/step - loss: 41.8625\n",
      "Epoch 7/100\n",
      "13/13 [==============================] - 0s 2ms/step - loss: 29.3023\n",
      "Epoch 8/100\n",
      "13/13 [==============================] - 0s 2ms/step - loss: 25.0271\n",
      "Epoch 9/100\n",
      "13/13 [==============================] - 0s 2ms/step - loss: 22.3164\n",
      "Epoch 10/100\n",
      "13/13 [==============================] - 0s 2ms/step - loss: 20.5785\n",
      "Epoch 11/100\n",
      "13/13 [==============================] - 0s 2ms/step - loss: 18.9630\n",
      "Epoch 12/100\n",
      "13/13 [==============================] - 0s 2ms/step - loss: 17.7225\n",
      "Epoch 13/100\n",
      "13/13 [==============================] - 0s 2ms/step - loss: 16.9240\n",
      "Epoch 14/100\n",
      "13/13 [==============================] - 0s 2ms/step - loss: 15.9882\n",
      "Epoch 15/100\n",
      "13/13 [==============================] - 0s 2ms/step - loss: 15.3322\n",
      "Epoch 16/100\n",
      "13/13 [==============================] - 0s 2ms/step - loss: 14.6838\n",
      "Epoch 17/100\n",
      "13/13 [==============================] - 0s 2ms/step - loss: 14.3772\n",
      "Epoch 18/100\n",
      "13/13 [==============================] - 0s 2ms/step - loss: 13.8281\n",
      "Epoch 19/100\n",
      "13/13 [==============================] - 0s 2ms/step - loss: 13.2173\n",
      "Epoch 20/100\n",
      "13/13 [==============================] - 0s 2ms/step - loss: 12.9709\n",
      "Epoch 21/100\n",
      "13/13 [==============================] - 0s 2ms/step - loss: 12.5427\n",
      "Epoch 22/100\n",
      "13/13 [==============================] - 0s 2ms/step - loss: 12.2080\n",
      "Epoch 23/100\n",
      "13/13 [==============================] - 0s 2ms/step - loss: 12.2304\n",
      "Epoch 24/100\n",
      "13/13 [==============================] - 0s 2ms/step - loss: 11.5897\n",
      "Epoch 25/100\n",
      "13/13 [==============================] - 0s 2ms/step - loss: 11.5937\n",
      "Epoch 26/100\n",
      "13/13 [==============================] - 0s 2ms/step - loss: 11.4040\n",
      "Epoch 27/100\n",
      "13/13 [==============================] - 0s 2ms/step - loss: 11.0722\n",
      "Epoch 28/100\n",
      "13/13 [==============================] - 0s 2ms/step - loss: 11.1326\n",
      "Epoch 29/100\n",
      "13/13 [==============================] - 0s 2ms/step - loss: 10.6327\n",
      "Epoch 30/100\n",
      "13/13 [==============================] - 0s 2ms/step - loss: 10.5179\n",
      "Epoch 31/100\n",
      "13/13 [==============================] - 0s 2ms/step - loss: 10.2225\n",
      "Epoch 32/100\n",
      "13/13 [==============================] - 0s 2ms/step - loss: 10.3842\n",
      "Epoch 33/100\n",
      "13/13 [==============================] - 0s 2ms/step - loss: 9.7958\n",
      "Epoch 34/100\n",
      "13/13 [==============================] - 0s 2ms/step - loss: 9.8377\n",
      "Epoch 35/100\n",
      "13/13 [==============================] - 0s 2ms/step - loss: 9.7099\n",
      "Epoch 36/100\n",
      "13/13 [==============================] - 0s 2ms/step - loss: 9.5902\n",
      "Epoch 37/100\n",
      "13/13 [==============================] - 0s 2ms/step - loss: 9.2291\n",
      "Epoch 38/100\n",
      "13/13 [==============================] - 0s 2ms/step - loss: 9.1271\n",
      "Epoch 39/100\n",
      "13/13 [==============================] - 0s 2ms/step - loss: 8.9239\n",
      "Epoch 40/100\n",
      "13/13 [==============================] - 0s 2ms/step - loss: 9.2033\n",
      "Epoch 41/100\n",
      "13/13 [==============================] - 0s 2ms/step - loss: 8.9247\n",
      "Epoch 42/100\n",
      "13/13 [==============================] - 0s 2ms/step - loss: 8.5676\n",
      "Epoch 43/100\n",
      "13/13 [==============================] - 0s 2ms/step - loss: 8.6172\n",
      "Epoch 44/100\n",
      "13/13 [==============================] - 0s 2ms/step - loss: 8.6121\n",
      "Epoch 45/100\n",
      "13/13 [==============================] - 0s 2ms/step - loss: 8.3626\n",
      "Epoch 46/100\n",
      "13/13 [==============================] - 0s 2ms/step - loss: 8.2170\n",
      "Epoch 47/100\n",
      "13/13 [==============================] - 0s 2ms/step - loss: 8.4145\n",
      "Epoch 48/100\n",
      "13/13 [==============================] - 0s 2ms/step - loss: 8.5383\n",
      "Epoch 49/100\n",
      "13/13 [==============================] - 0s 2ms/step - loss: 7.8668\n",
      "Epoch 50/100\n",
      "13/13 [==============================] - 0s 2ms/step - loss: 7.6605\n",
      "Epoch 51/100\n",
      "13/13 [==============================] - 0s 2ms/step - loss: 7.5149\n",
      "Epoch 52/100\n",
      "13/13 [==============================] - 0s 2ms/step - loss: 7.5447\n",
      "Epoch 53/100\n",
      "13/13 [==============================] - 0s 2ms/step - loss: 7.2849\n",
      "Epoch 54/100\n",
      "13/13 [==============================] - 0s 2ms/step - loss: 7.2970\n",
      "Epoch 55/100\n",
      "13/13 [==============================] - 0s 2ms/step - loss: 7.1567\n",
      "Epoch 56/100\n",
      "13/13 [==============================] - 0s 2ms/step - loss: 7.0334\n",
      "Epoch 57/100\n",
      "13/13 [==============================] - 0s 2ms/step - loss: 6.9589\n",
      "Epoch 58/100\n",
      "13/13 [==============================] - 0s 2ms/step - loss: 6.8553\n",
      "Epoch 59/100\n",
      "13/13 [==============================] - 0s 2ms/step - loss: 7.0312\n",
      "Epoch 60/100\n",
      "13/13 [==============================] - 0s 2ms/step - loss: 7.0891\n",
      "Epoch 61/100\n",
      "13/13 [==============================] - 0s 2ms/step - loss: 7.2777\n",
      "Epoch 62/100\n",
      "13/13 [==============================] - 0s 5ms/step - loss: 6.5712\n",
      "Epoch 63/100\n",
      "13/13 [==============================] - 0s 2ms/step - loss: 6.8083\n",
      "Epoch 64/100\n",
      "13/13 [==============================] - 0s 2ms/step - loss: 6.6925\n",
      "Epoch 65/100\n",
      "13/13 [==============================] - 0s 2ms/step - loss: 6.6837\n",
      "Epoch 66/100\n",
      "13/13 [==============================] - 0s 2ms/step - loss: 6.2328\n",
      "Epoch 67/100\n",
      "13/13 [==============================] - 0s 2ms/step - loss: 6.3386\n",
      "Epoch 68/100\n",
      "13/13 [==============================] - 0s 2ms/step - loss: 5.9652\n",
      "Epoch 69/100\n",
      "13/13 [==============================] - 0s 2ms/step - loss: 5.9328\n",
      "Epoch 70/100\n",
      "13/13 [==============================] - 0s 2ms/step - loss: 5.9141\n",
      "Epoch 71/100\n",
      "13/13 [==============================] - 0s 2ms/step - loss: 5.8347\n",
      "Epoch 72/100\n",
      "13/13 [==============================] - 0s 2ms/step - loss: 5.8827\n",
      "Epoch 73/100\n",
      "13/13 [==============================] - 0s 2ms/step - loss: 5.5869\n",
      "Epoch 74/100\n",
      "13/13 [==============================] - 0s 2ms/step - loss: 5.5499\n",
      "Epoch 75/100\n",
      "13/13 [==============================] - 0s 2ms/step - loss: 5.8058\n",
      "Epoch 76/100\n",
      "13/13 [==============================] - 0s 2ms/step - loss: 6.0488\n",
      "Epoch 77/100\n",
      "13/13 [==============================] - 0s 2ms/step - loss: 5.5763\n",
      "Epoch 78/100\n",
      "13/13 [==============================] - 0s 2ms/step - loss: 5.2810\n",
      "Epoch 79/100\n",
      "13/13 [==============================] - 0s 2ms/step - loss: 5.2292\n",
      "Epoch 80/100\n",
      "13/13 [==============================] - 0s 2ms/step - loss: 5.1996\n",
      "Epoch 81/100\n",
      "13/13 [==============================] - 0s 2ms/step - loss: 5.1141\n",
      "Epoch 82/100\n",
      "13/13 [==============================] - 0s 2ms/step - loss: 5.4905\n",
      "Epoch 83/100\n",
      "13/13 [==============================] - 0s 2ms/step - loss: 4.9808\n",
      "Epoch 84/100\n",
      "13/13 [==============================] - 0s 2ms/step - loss: 4.9563\n",
      "Epoch 85/100\n",
      "13/13 [==============================] - 0s 2ms/step - loss: 4.8859\n",
      "Epoch 86/100\n",
      "13/13 [==============================] - 0s 2ms/step - loss: 5.1214\n",
      "Epoch 87/100\n",
      "13/13 [==============================] - 0s 2ms/step - loss: 4.6735\n",
      "Epoch 88/100\n",
      "13/13 [==============================] - 0s 2ms/step - loss: 4.6275\n",
      "Epoch 89/100\n",
      "13/13 [==============================] - 0s 2ms/step - loss: 4.7722\n",
      "Epoch 90/100\n",
      "13/13 [==============================] - 0s 2ms/step - loss: 4.6058\n",
      "Epoch 91/100\n",
      "13/13 [==============================] - 0s 2ms/step - loss: 4.5432\n",
      "Epoch 92/100\n",
      "13/13 [==============================] - 0s 2ms/step - loss: 4.6764\n",
      "Epoch 93/100\n",
      "13/13 [==============================] - 0s 2ms/step - loss: 4.3293\n",
      "Epoch 94/100\n",
      "13/13 [==============================] - 0s 2ms/step - loss: 4.3983\n",
      "Epoch 95/100\n",
      "13/13 [==============================] - 0s 2ms/step - loss: 4.1591\n",
      "Epoch 96/100\n",
      "13/13 [==============================] - 0s 2ms/step - loss: 4.4795\n",
      "Epoch 97/100\n",
      "13/13 [==============================] - 0s 2ms/step - loss: 4.3024\n",
      "Epoch 98/100\n",
      "13/13 [==============================] - 0s 2ms/step - loss: 4.3134\n",
      "Epoch 99/100\n",
      "13/13 [==============================] - 0s 2ms/step - loss: 4.1398\n",
      "Epoch 100/100\n",
      "13/13 [==============================] - 0s 2ms/step - loss: 3.9590\n"
     ]
    }
   ],
   "source": [
    "results=model.fit(X_train, y_train, epochs = 100)"
   ]
  },
  {
   "cell_type": "markdown",
   "metadata": {
    "papermill": {
     "duration": 0.096615,
     "end_time": "2022-08-10T01:26:36.816379",
     "exception": false,
     "start_time": "2022-08-10T01:26:36.719764",
     "status": "completed"
    },
    "tags": []
   },
   "source": [
    "### Evaluation of the model"
   ]
  },
  {
   "cell_type": "code",
   "execution_count": 311,
   "metadata": {
    "papermill": {
     "duration": 0.256434,
     "end_time": "2022-08-10T01:26:37.168937",
     "exception": false,
     "start_time": "2022-08-10T01:26:36.912503",
     "status": "completed"
    },
    "tags": []
   },
   "outputs": [
    {
     "name": "stdout",
     "output_type": "stream",
     "text": [
      "4/4 [==============================] - 0s 2ms/step\n"
     ]
    }
   ],
   "source": [
    "y_pred = model.predict(X_test)"
   ]
  },
  {
   "cell_type": "code",
   "execution_count": 312,
   "metadata": {
    "papermill": {
     "duration": 0.107329,
     "end_time": "2022-08-10T01:26:37.374517",
     "exception": false,
     "start_time": "2022-08-10T01:26:37.267188",
     "status": "completed"
    },
    "tags": []
   },
   "outputs": [
    {
     "name": "stdout",
     "output_type": "stream",
     "text": [
      "0.8992688787318817\n"
     ]
    }
   ],
   "source": [
    "from sklearn.metrics import r2_score\n",
    "r2 = r2_score(y_test, y_pred)\n",
    "print(r2)"
   ]
  },
  {
   "cell_type": "code",
   "execution_count": 313,
   "metadata": {
    "papermill": {
     "duration": 0.109177,
     "end_time": "2022-08-10T01:26:37.581665",
     "exception": false,
     "start_time": "2022-08-10T01:26:37.472488",
     "status": "completed"
    },
    "tags": []
   },
   "outputs": [
    {
     "name": "stdout",
     "output_type": "stream",
     "text": [
      "3.0588945259964424\n"
     ]
    }
   ],
   "source": [
    "# Predicting RMSE the Test set results\n",
    "from sklearn.metrics import mean_squared_error\n",
    "rmse = (np.sqrt(mean_squared_error(y_test, y_pred)))\n",
    "print(rmse)"
   ]
  },
  {
   "cell_type": "code",
   "execution_count": 314,
   "metadata": {},
   "outputs": [
    {
     "data": {
      "image/png": "[encoded data removed]",
      "text/plain": [
       "<Figure size 640x480 with 1 Axes>"
      ]
     },
     "metadata": {},
     "output_type": "display_data"
    }
   ],
   "source": [
    "plt.plot(results.history['loss'])\n",
    "plt.title('Model Loss')\n",
    "plt.ylabel('Loss ')\n",
    "plt.xlabel('Epoch')\n",
    "plt.show()"
   ]
  },
  {
   "cell_type": "code",
   "execution_count": 315,
   "metadata": {},
   "outputs": [],
   "source": [
    "from keras.layers import Dropout\n",
    "from keras import regularizers\n",
    "\n",
    "\n",
    "model_3 = Sequential([\n",
    "    Dense(1000, activation='relu', kernel_regularizer=regularizers.l2(0.01), input_shape=(13,)),\n",
    "    Dropout(0.3),\n",
    "    Dense(1000, activation='relu', kernel_regularizer=regularizers.l2(0.01)),\n",
    "    Dropout(0.3),\n",
    "    Dense(1000, activation='relu', kernel_regularizer=regularizers.l2(0.01)),\n",
    "    Dropout(0.3),\n",
    "    Dense(1000, activation='relu', kernel_regularizer=regularizers.l2(0.01)),\n",
    "    Dropout(0.3),\n",
    "    Dense(1, activation='sigmoid', kernel_regularizer=regularizers.l2(0.01)),\n",
    "])"
   ]
  },
  {
   "cell_type": "code",
   "execution_count": 316,
   "metadata": {
    "scrolled": true
   },
   "outputs": [
    {
     "name": "stdout",
     "output_type": "stream",
     "text": [
      "Epoch 1/100\n",
      "13/13 [==============================] - 2s 65ms/step - loss: -5039.6040 - accuracy: 0.0000e+00 - val_loss: -37950.0312 - val_accuracy: 0.0000e+00\n",
      "Epoch 2/100\n",
      "13/13 [==============================] - 1s 45ms/step - loss: -242973.1250 - accuracy: 0.0000e+00 - val_loss: -943045.5625 - val_accuracy: 0.0000e+00\n",
      "Epoch 3/100\n",
      "13/13 [==============================] - 1s 46ms/step - loss: -2980565.5000 - accuracy: 0.0000e+00 - val_loss: -8838502.0000 - val_accuracy: 0.0000e+00\n",
      "Epoch 4/100\n",
      "13/13 [==============================] - 1s 45ms/step - loss: -20700030.0000 - accuracy: 0.0000e+00 - val_loss: -51229240.0000 - val_accuracy: 0.0000e+00\n",
      "Epoch 5/100\n",
      "13/13 [==============================] - 1s 47ms/step - loss: -99013056.0000 - accuracy: 0.0000e+00 - val_loss: -215588736.0000 - val_accuracy: 0.0000e+00\n",
      "Epoch 6/100\n",
      "13/13 [==============================] - 1s 46ms/step - loss: -369861664.0000 - accuracy: 0.0000e+00 - val_loss: -722233152.0000 - val_accuracy: 0.0000e+00\n",
      "Epoch 7/100\n",
      "13/13 [==============================] - 1s 44ms/step - loss: -1100083456.0000 - accuracy: 0.0000e+00 - val_loss: -2033479552.0000 - val_accuracy: 0.0000e+00\n",
      "Epoch 8/100\n",
      "13/13 [==============================] - 1s 45ms/step - loss: -2891625216.0000 - accuracy: 0.0000e+00 - val_loss: -5002293248.0000 - val_accuracy: 0.0000e+00\n",
      "Epoch 9/100\n",
      "13/13 [==============================] - 1s 45ms/step - loss: -6774102528.0000 - accuracy: 0.0000e+00 - val_loss: -11081785344.0000 - val_accuracy: 0.0000e+00\n",
      "Epoch 10/100\n",
      "13/13 [==============================] - 1s 45ms/step - loss: -14148026368.0000 - accuracy: 0.0000e+00 - val_loss: -22566182912.0000 - val_accuracy: 0.0000e+00\n",
      "Epoch 11/100\n",
      "13/13 [==============================] - 1s 48ms/step - loss: -28086601728.0000 - accuracy: 0.0000e+00 - val_loss: -42855575552.0000 - val_accuracy: 0.0000e+00\n",
      "Epoch 12/100\n",
      "13/13 [==============================] - 1s 47ms/step - loss: -51973734400.0000 - accuracy: 0.0000e+00 - val_loss: -76607356928.0000 - val_accuracy: 0.0000e+00\n",
      "Epoch 13/100\n",
      "13/13 [==============================] - 1s 45ms/step - loss: -90235994112.0000 - accuracy: 0.0000e+00 - val_loss: -130991931392.0000 - val_accuracy: 0.0000e+00\n",
      "Epoch 14/100\n",
      "13/13 [==============================] - 1s 46ms/step - loss: -150272229376.0000 - accuracy: 0.0000e+00 - val_loss: -212920745984.0000 - val_accuracy: 0.0000e+00\n",
      "Epoch 15/100\n",
      "13/13 [==============================] - 1s 45ms/step - loss: -242414321664.0000 - accuracy: 0.0000e+00 - val_loss: -332981141504.0000 - val_accuracy: 0.0000e+00\n",
      "Epoch 16/100\n",
      "13/13 [==============================] - 1s 45ms/step - loss: -370996805632.0000 - accuracy: 0.0000e+00 - val_loss: -505881985024.0000 - val_accuracy: 0.0000e+00\n",
      "Epoch 17/100\n",
      "13/13 [==============================] - 1s 45ms/step - loss: -553003843584.0000 - accuracy: 0.0000e+00 - val_loss: -746468671488.0000 - val_accuracy: 0.0000e+00\n",
      "Epoch 18/100\n",
      "13/13 [==============================] - 1s 45ms/step - loss: -802954149888.0000 - accuracy: 0.0000e+00 - val_loss: -1071268102144.0000 - val_accuracy: 0.0000e+00\n",
      "Epoch 19/100\n",
      "13/13 [==============================] - 1s 46ms/step - loss: -1142920052736.0000 - accuracy: 0.0000e+00 - val_loss: -1505423523840.0000 - val_accuracy: 0.0000e+00\n",
      "Epoch 20/100\n",
      "13/13 [==============================] - 1s 46ms/step - loss: -1600286097408.0000 - accuracy: 0.0000e+00 - val_loss: -2065394696192.0000 - val_accuracy: 0.0000e+00\n",
      "Epoch 21/100\n",
      "13/13 [==============================] - 1s 45ms/step - loss: -2180901765120.0000 - accuracy: 0.0000e+00 - val_loss: -2803142230016.0000 - val_accuracy: 0.0000e+00\n",
      "Epoch 22/100\n",
      "13/13 [==============================] - 1s 46ms/step - loss: -2925899284480.0000 - accuracy: 0.0000e+00 - val_loss: -3743546867712.0000 - val_accuracy: 0.0000e+00\n",
      "Epoch 23/100\n",
      "13/13 [==============================] - 1s 45ms/step - loss: -3885344489472.0000 - accuracy: 0.0000e+00 - val_loss: -4894545149952.0000 - val_accuracy: 0.0000e+00\n",
      "Epoch 24/100\n",
      "13/13 [==============================] - 1s 46ms/step - loss: -5049561382912.0000 - accuracy: 0.0000e+00 - val_loss: -6364730490880.0000 - val_accuracy: 0.0000e+00\n",
      "Epoch 25/100\n",
      "13/13 [==============================] - 1s 47ms/step - loss: -6500320280576.0000 - accuracy: 0.0000e+00 - val_loss: -8134662815744.0000 - val_accuracy: 0.0000e+00\n",
      "Epoch 26/100\n",
      "13/13 [==============================] - 1s 46ms/step - loss: -8303565864960.0000 - accuracy: 0.0000e+00 - val_loss: -10326976233472.0000 - val_accuracy: 0.0000e+00\n",
      "Epoch 27/100\n",
      "13/13 [==============================] - 1s 45ms/step - loss: -10469458837504.0000 - accuracy: 0.0000e+00 - val_loss: -12889939247104.0000 - val_accuracy: 0.0000e+00\n",
      "Epoch 28/100\n",
      "13/13 [==============================] - 1s 46ms/step - loss: -13041931386880.0000 - accuracy: 0.0000e+00 - val_loss: -16005706285056.0000 - val_accuracy: 0.0000e+00\n",
      "Epoch 29/100\n",
      "13/13 [==============================] - 1s 46ms/step - loss: -16203267440640.0000 - accuracy: 0.0000e+00 - val_loss: -19669259911168.0000 - val_accuracy: 0.0000e+00\n",
      "Epoch 30/100\n",
      "13/13 [==============================] - 1s 46ms/step - loss: -19828469399552.0000 - accuracy: 0.0000e+00 - val_loss: -24055553982464.0000 - val_accuracy: 0.0000e+00\n",
      "Epoch 31/100\n",
      "13/13 [==============================] - 1s 45ms/step - loss: -24186093305856.0000 - accuracy: 0.0000e+00 - val_loss: -29112802476032.0000 - val_accuracy: 0.0000e+00\n",
      "Epoch 32/100\n",
      "13/13 [==============================] - 1s 44ms/step - loss: -29032884207616.0000 - accuracy: 0.0000e+00 - val_loss: -35107060580352.0000 - val_accuracy: 0.0000e+00\n",
      "Epoch 33/100\n",
      "13/13 [==============================] - 1s 45ms/step - loss: -34782889115648.0000 - accuracy: 0.0000e+00 - val_loss: -41915319844864.0000 - val_accuracy: 0.0000e+00\n",
      "Epoch 34/100\n",
      "13/13 [==============================] - 1s 48ms/step - loss: -41421377634304.0000 - accuracy: 0.0000e+00 - val_loss: -49761180712960.0000 - val_accuracy: 0.0000e+00\n",
      "Epoch 35/100\n",
      "13/13 [==============================] - 1s 46ms/step - loss: -49115379531776.0000 - accuracy: 0.0000e+00 - val_loss: -58794939777024.0000 - val_accuracy: 0.0000e+00\n",
      "Epoch 36/100\n",
      "13/13 [==============================] - 1s 48ms/step - loss: -57646455455744.0000 - accuracy: 0.0000e+00 - val_loss: -68932119560192.0000 - val_accuracy: 0.0000e+00\n",
      "Epoch 37/100\n",
      "13/13 [==============================] - 1s 44ms/step - loss: -67524334977024.0000 - accuracy: 0.0000e+00 - val_loss: -80277099511808.0000 - val_accuracy: 0.0000e+00\n",
      "Epoch 38/100\n",
      "13/13 [==============================] - 1s 44ms/step - loss: -78710636019712.0000 - accuracy: 0.0000e+00 - val_loss: -93237683421184.0000 - val_accuracy: 0.0000e+00\n",
      "Epoch 39/100\n",
      "13/13 [==============================] - 1s 44ms/step - loss: -91251697254400.0000 - accuracy: 0.0000e+00 - val_loss: -107823509798912.0000 - val_accuracy: 0.0000e+00\n",
      "Epoch 40/100\n",
      "13/13 [==============================] - 1s 46ms/step - loss: -104985467551744.0000 - accuracy: 0.0000e+00 - val_loss: -124373780398080.0000 - val_accuracy: 0.0000e+00\n",
      "Epoch 41/100\n",
      "13/13 [==============================] - 1s 46ms/step - loss: -121171454459904.0000 - accuracy: 0.0000e+00 - val_loss: -142513323114496.0000 - val_accuracy: 0.0000e+00\n",
      "Epoch 42/100\n",
      "13/13 [==============================] - 1s 46ms/step - loss: -138185648635904.0000 - accuracy: 0.0000e+00 - val_loss: -162771358449664.0000 - val_accuracy: 0.0000e+00\n",
      "Epoch 43/100\n",
      "13/13 [==============================] - 1s 46ms/step - loss: -157247594299392.0000 - accuracy: 0.0000e+00 - val_loss: -185477038604288.0000 - val_accuracy: 0.0000e+00\n",
      "Epoch 44/100\n",
      "13/13 [==============================] - 1s 47ms/step - loss: -180028335718400.0000 - accuracy: 0.0000e+00 - val_loss: -210599191511040.0000 - val_accuracy: 0.0000e+00\n",
      "Epoch 45/100\n",
      "13/13 [==============================] - 1s 47ms/step - loss: -204024150228992.0000 - accuracy: 0.0000e+00 - val_loss: -238167747723264.0000 - val_accuracy: 0.0000e+00\n",
      "Epoch 46/100\n",
      "13/13 [==============================] - 1s 44ms/step - loss: -230447057469440.0000 - accuracy: 0.0000e+00 - val_loss: -268583162609664.0000 - val_accuracy: 0.0000e+00\n",
      "Epoch 47/100\n",
      "13/13 [==============================] - 1s 44ms/step - loss: -260138837475328.0000 - accuracy: 0.0000e+00 - val_loss: -302218460790784.0000 - val_accuracy: 0.0000e+00\n",
      "Epoch 48/100\n",
      "13/13 [==============================] - 1s 44ms/step - loss: -291036916088832.0000 - accuracy: 0.0000e+00 - val_loss: -338845472129024.0000 - val_accuracy: 0.0000e+00\n",
      "Epoch 49/100\n",
      "13/13 [==============================] - 1s 44ms/step - loss: -324341636005888.0000 - accuracy: 0.0000e+00 - val_loss: -378582475997184.0000 - val_accuracy: 0.0000e+00\n",
      "Epoch 50/100\n",
      "13/13 [==============================] - 1s 43ms/step - loss: -364231983628288.0000 - accuracy: 0.0000e+00 - val_loss: -421985268006912.0000 - val_accuracy: 0.0000e+00\n",
      "Epoch 51/100\n",
      "13/13 [==============================] - 1s 46ms/step - loss: -404282922762240.0000 - accuracy: 0.0000e+00 - val_loss: -469451266850816.0000 - val_accuracy: 0.0000e+00\n",
      "Epoch 52/100\n",
      "13/13 [==============================] - 1s 46ms/step - loss: -449100705169408.0000 - accuracy: 0.0000e+00 - val_loss: -521321620439040.0000 - val_accuracy: 0.0000e+00\n",
      "Epoch 53/100\n",
      "13/13 [==============================] - 1s 43ms/step - loss: -500852678721536.0000 - accuracy: 0.0000e+00 - val_loss: -576699620130816.0000 - val_accuracy: 0.0000e+00\n",
      "Epoch 54/100\n",
      "13/13 [==============================] - 1s 44ms/step - loss: -553099680808960.0000 - accuracy: 0.0000e+00 - val_loss: -637086658985984.0000 - val_accuracy: 0.0000e+00\n",
      "Epoch 55/100\n",
      "13/13 [==============================] - 1s 48ms/step - loss: -608130459238400.0000 - accuracy: 0.0000e+00 - val_loss: -701873757618176.0000 - val_accuracy: 0.0000e+00\n",
      "Epoch 56/100\n",
      "13/13 [==============================] - 1s 44ms/step - loss: -669273680773120.0000 - accuracy: 0.0000e+00 - val_loss: -771670532947968.0000 - val_accuracy: 0.0000e+00\n",
      "Epoch 57/100\n",
      "13/13 [==============================] - 1s 47ms/step - loss: -735590123307008.0000 - accuracy: 0.0000e+00 - val_loss: -846690659598336.0000 - val_accuracy: 0.0000e+00\n",
      "Epoch 58/100\n",
      "13/13 [==============================] - 1s 43ms/step - loss: -807273395912704.0000 - accuracy: 0.0000e+00 - val_loss: -928017475960832.0000 - val_accuracy: 0.0000e+00\n",
      "Epoch 59/100\n",
      "13/13 [==============================] - 1s 45ms/step - loss: -882657252605952.0000 - accuracy: 0.0000e+00 - val_loss: -1014970363936768.0000 - val_accuracy: 0.0000e+00\n",
      "Epoch 60/100\n",
      "13/13 [==============================] - 1s 43ms/step - loss: -968887646552064.0000 - accuracy: 0.0000e+00 - val_loss: -1109133562478592.0000 - val_accuracy: 0.0000e+00\n",
      "Epoch 61/100\n",
      "13/13 [==============================] - 1s 43ms/step - loss: -1054118990839808.0000 - accuracy: 0.0000e+00 - val_loss: -1207967605063680.0000 - val_accuracy: 0.0000e+00\n",
      "Epoch 62/100\n",
      "13/13 [==============================] - 1s 43ms/step - loss: -1148351848382464.0000 - accuracy: 0.0000e+00 - val_loss: -1312790711107584.0000 - val_accuracy: 0.0000e+00\n",
      "Epoch 63/100\n",
      "13/13 [==============================] - 1s 44ms/step - loss: -1241903215411200.0000 - accuracy: 0.0000e+00 - val_loss: -1424415837388800.0000 - val_accuracy: 0.0000e+00\n",
      "Epoch 64/100\n",
      "13/13 [==============================] - 1s 43ms/step - loss: -1346675184500736.0000 - accuracy: 0.0000e+00 - val_loss: -1545039725461504.0000 - val_accuracy: 0.0000e+00\n",
      "Epoch 65/100\n",
      "13/13 [==============================] - 1s 44ms/step - loss: -1470693304696832.0000 - accuracy: 0.0000e+00 - val_loss: -1673943236739072.0000 - val_accuracy: 0.0000e+00\n",
      "Epoch 66/100\n",
      "13/13 [==============================] - 1s 46ms/step - loss: -1599531586158592.0000 - accuracy: 0.0000e+00 - val_loss: -1807315661488128.0000 - val_accuracy: 0.0000e+00\n",
      "Epoch 67/100\n",
      "13/13 [==============================] - 1s 47ms/step - loss: -1711433335177216.0000 - accuracy: 0.0000e+00 - val_loss: -1954942411603968.0000 - val_accuracy: 0.0000e+00\n",
      "Epoch 68/100\n",
      "13/13 [==============================] - 1s 46ms/step - loss: -1846190350008320.0000 - accuracy: 0.0000e+00 - val_loss: -2104395999215616.0000 - val_accuracy: 0.0000e+00\n",
      "Epoch 69/100\n",
      "13/13 [==============================] - 1s 44ms/step - loss: -1992365535395840.0000 - accuracy: 0.0000e+00 - val_loss: -2266347673223168.0000 - val_accuracy: 0.0000e+00\n",
      "Epoch 70/100\n",
      "13/13 [==============================] - 1s 46ms/step - loss: -2139805991305216.0000 - accuracy: 0.0000e+00 - val_loss: -2438746049871872.0000 - val_accuracy: 0.0000e+00\n",
      "Epoch 71/100\n",
      "13/13 [==============================] - 1s 45ms/step - loss: -2312129340243968.0000 - accuracy: 0.0000e+00 - val_loss: -2616708556652544.0000 - val_accuracy: 0.0000e+00\n",
      "Epoch 72/100\n",
      "13/13 [==============================] - 1s 45ms/step - loss: -2475705585631232.0000 - accuracy: 0.0000e+00 - val_loss: -2807138011316224.0000 - val_accuracy: 0.0000e+00\n",
      "Epoch 73/100\n",
      "13/13 [==============================] - 1s 43ms/step - loss: -2659158402793472.0000 - accuracy: 0.0000e+00 - val_loss: -3012131700080640.0000 - val_accuracy: 0.0000e+00\n",
      "Epoch 74/100\n",
      "13/13 [==============================] - 1s 44ms/step - loss: -2843966013702144.0000 - accuracy: 0.0000e+00 - val_loss: -3223849697017856.0000 - val_accuracy: 0.0000e+00\n",
      "Epoch 75/100\n",
      "13/13 [==============================] - 1s 43ms/step - loss: -3033205493989376.0000 - accuracy: 0.0000e+00 - val_loss: -3450460224618496.0000 - val_accuracy: 0.0000e+00\n",
      "Epoch 76/100\n",
      "13/13 [==============================] - 1s 43ms/step - loss: -3252027366834176.0000 - accuracy: 0.0000e+00 - val_loss: -3683182759116800.0000 - val_accuracy: 0.0000e+00\n",
      "Epoch 77/100\n",
      "13/13 [==============================] - 1s 45ms/step - loss: -3462838857236480.0000 - accuracy: 0.0000e+00 - val_loss: -3923393300660224.0000 - val_accuracy: 0.0000e+00\n",
      "Epoch 78/100\n",
      "13/13 [==============================] - 1s 43ms/step - loss: -3720049684643840.0000 - accuracy: 0.0000e+00 - val_loss: -4184125464379392.0000 - val_accuracy: 0.0000e+00\n",
      "Epoch 79/100\n",
      "13/13 [==============================] - 1s 43ms/step - loss: -3935724688637952.0000 - accuracy: 0.0000e+00 - val_loss: -4457162440966144.0000 - val_accuracy: 0.0000e+00\n",
      "Epoch 80/100\n",
      "13/13 [==============================] - 1s 43ms/step - loss: -4218830410743808.0000 - accuracy: 0.0000e+00 - val_loss: -4737068144001024.0000 - val_accuracy: 0.0000e+00\n",
      "Epoch 81/100\n",
      "13/13 [==============================] - 1s 43ms/step - loss: -4454035436339200.0000 - accuracy: 0.0000e+00 - val_loss: -5037512380645376.0000 - val_accuracy: 0.0000e+00\n",
      "Epoch 82/100\n",
      "13/13 [==============================] - 1s 43ms/step - loss: -4738787204661248.0000 - accuracy: 0.0000e+00 - val_loss: -5353917789503488.0000 - val_accuracy: 0.0000e+00\n",
      "Epoch 83/100\n",
      "13/13 [==============================] - 1s 45ms/step - loss: -5019912141537280.0000 - accuracy: 0.0000e+00 - val_loss: -5680576895909888.0000 - val_accuracy: 0.0000e+00\n",
      "Epoch 84/100\n",
      "13/13 [==============================] - 1s 43ms/step - loss: -5334446018396160.0000 - accuracy: 0.0000e+00 - val_loss: -6017222875021312.0000 - val_accuracy: 0.0000e+00\n",
      "Epoch 85/100\n",
      "13/13 [==============================] - 1s 43ms/step - loss: -5661676892323840.0000 - accuracy: 0.0000e+00 - val_loss: -6363880422899712.0000 - val_accuracy: 0.0000e+00\n",
      "Epoch 86/100\n",
      "13/13 [==============================] - 1s 43ms/step - loss: -5950511832367104.0000 - accuracy: 0.0000e+00 - val_loss: -6744703361875968.0000 - val_accuracy: 0.0000e+00\n",
      "Epoch 87/100\n",
      "13/13 [==============================] - 1s 43ms/step - loss: -6307007002836992.0000 - accuracy: 0.0000e+00 - val_loss: -7126206516297728.0000 - val_accuracy: 0.0000e+00\n",
      "Epoch 88/100\n",
      "13/13 [==============================] - 1s 43ms/step - loss: -6652236474089472.0000 - accuracy: 0.0000e+00 - val_loss: -7534791587004416.0000 - val_accuracy: 0.0000e+00\n",
      "Epoch 89/100\n",
      "13/13 [==============================] - 1s 43ms/step - loss: -7059103557877760.0000 - accuracy: 0.0000e+00 - val_loss: -7959888659480576.0000 - val_accuracy: 0.0000e+00\n",
      "Epoch 90/100\n",
      "13/13 [==============================] - 1s 43ms/step - loss: -7439246818279424.0000 - accuracy: 0.0000e+00 - val_loss: -8394508748193792.0000 - val_accuracy: 0.0000e+00\n",
      "Epoch 91/100\n",
      "13/13 [==============================] - 1s 43ms/step - loss: -7875535501787136.0000 - accuracy: 0.0000e+00 - val_loss: -8851214632484864.0000 - val_accuracy: 0.0000e+00\n",
      "Epoch 92/100\n",
      "13/13 [==============================] - 1s 43ms/step - loss: -8247494702006272.0000 - accuracy: 0.0000e+00 - val_loss: -9323838202445824.0000 - val_accuracy: 0.0000e+00\n",
      "Epoch 93/100\n",
      "13/13 [==============================] - 1s 43ms/step - loss: -8672993353924608.0000 - accuracy: 0.0000e+00 - val_loss: -9815281245356032.0000 - val_accuracy: 0.0000e+00\n",
      "Epoch 94/100\n",
      "13/13 [==============================] - 1s 43ms/step - loss: -9191401812131840.0000 - accuracy: 0.0000e+00 - val_loss: -10331913197715456.0000 - val_accuracy: 0.0000e+00\n",
      "Epoch 95/100\n",
      "13/13 [==============================] - 1s 43ms/step - loss: -9723699657703424.0000 - accuracy: 0.0000e+00 - val_loss: -10859068893691904.0000 - val_accuracy: 0.0000e+00\n",
      "Epoch 96/100\n",
      "13/13 [==============================] - 1s 46ms/step - loss: -10115595022368768.0000 - accuracy: 0.0000e+00 - val_loss: -11417927890763776.0000 - val_accuracy: 0.0000e+00\n",
      "Epoch 97/100\n",
      "13/13 [==============================] - 1s 43ms/step - loss: -10656532194656256.0000 - accuracy: 0.0000e+00 - val_loss: -12003632580919296.0000 - val_accuracy: 0.0000e+00\n",
      "Epoch 98/100\n",
      "13/13 [==============================] - 1s 43ms/step - loss: -11282832915693568.0000 - accuracy: 0.0000e+00 - val_loss: -12603649175846912.0000 - val_accuracy: 0.0000e+00\n",
      "Epoch 99/100\n",
      "13/13 [==============================] - 1s 43ms/step - loss: -11784055599136768.0000 - accuracy: 0.0000e+00 - val_loss: -13224625211179008.0000 - val_accuracy: 0.0000e+00\n",
      "Epoch 100/100\n",
      "13/13 [==============================] - 1s 43ms/step - loss: -12338575605497856.0000 - accuracy: 0.0000e+00 - val_loss: -13876704325926912.0000 - val_accuracy: 0.0000e+00\n"
     ]
    }
   ],
   "source": [
    "model_3.compile(optimizer='adam',\n",
    "              loss='binary_crossentropy',\n",
    "              metrics=['accuracy'])\n",
    "hist_3 = model_3.fit(X_train, y_train,\n",
    "          batch_size=32, epochs=100,\n",
    "          validation_data=(X_test, y_test))"
   ]
  },
  {
   "cell_type": "code",
   "execution_count": 317,
   "metadata": {},
   "outputs": [
    {
     "data": {
      "image/png": "[encoded data removed]",
      "text/plain": [
       "<Figure size 640x480 with 1 Axes>"
      ]
     },
     "metadata": {},
     "output_type": "display_data"
    }
   ],
   "source": [
    "plt.plot(hist_3.history['loss'])\n",
    "plt.plot(hist_3.history['val_loss'])\n",
    "plt.title('Model loss')\n",
    "plt.ylabel('Loss')\n",
    "plt.xlabel('Epoch')\n",
    "plt.legend(['Train', 'Val'], loc='upper right')\n",
    "plt.show()"
   ]
  },
  {
   "cell_type": "code",
   "execution_count": 318,
   "metadata": {},
   "outputs": [
    {
     "name": "stdout",
     "output_type": "stream",
     "text": [
      "4/4 [==============================] - 0s 2ms/step - loss: 9.3568\n"
     ]
    }
   ],
   "source": [
    "output = model.evaluate(X_test,y_test)\n"
   ]
  },
  {
   "cell_type": "code",
   "execution_count": 319,
   "metadata": {},
   "outputs": [
    {
     "name": "stdout",
     "output_type": "stream",
     "text": [
      "4/4 [==============================] - 0s 2ms/step - loss: 9.3568\n",
      "Mean Squared Error: 9.35683536529541\n"
     ]
    }
   ],
   "source": [
    "output = model.evaluate(X_test, y_test)\n",
    "print(f\"Mean Squared Error: {output}\")\n"
   ]
  },
  {
   "cell_type": "code",
   "execution_count": 320,
   "metadata": {},
   "outputs": [
    {
     "name": "stdout",
     "output_type": "stream",
     "text": [
      "4/4 [==============================] - 0s 2ms/step\n"
     ]
    }
   ],
   "source": [
    "y_pred = model.predict(x=X_test)\n"
   ]
  },
  {
   "cell_type": "code",
   "execution_count": 321,
   "metadata": {},
   "outputs": [
    {
     "name": "stdout",
     "output_type": "stream",
     "text": [
      "(array([17.194767], dtype=float32), 16.5) (array([23.040026], dtype=float32), 24.8) (array([18.760134], dtype=float32), 17.4) (array([19.358541], dtype=float32), 19.3) (array([42.25747], dtype=float32), 37.6) (array([24.536697], dtype=float32), 24.2) (array([35.89008], dtype=float32), 35.4) (array([18.640549], dtype=float32), 19.9) (array([15.820346], dtype=float32), 27.5) (array([14.730403], dtype=float32), 17.0) (array([26.300592], dtype=float32), 31.2) (array([24.39823], dtype=float32), 24.4) (array([20.171202], dtype=float32), 16.1) (array([39.07452], dtype=float32), 27.0) (array([18.959433], dtype=float32), 21.0) (array([11.002215], dtype=float32), 14.9) (array([18.691858], dtype=float32), 18.9) (array([13.318691], dtype=float32), 6.3) (array([13.344213], dtype=float32), 16.3) (array([13.978604], dtype=float32), 13.9) (array([5.5516915], dtype=float32), 8.8) (array([17.4452], dtype=float32), 19.4) (array([20.058897], dtype=float32), 18.8) (array([21.288582], dtype=float32), 19.8) (array([21.049093], dtype=float32), 17.5) (array([19.925135], dtype=float32), 19.3) (array([19.192095], dtype=float32), 20.0) (array([14.1735735], dtype=float32), 14.3) (array([22.210215], dtype=float32), 16.1) (array([19.151075], dtype=float32), 19.5) (array([12.5890665], dtype=float32), 11.0) (array([20.813257], dtype=float32), 21.9) (array([34.219948], dtype=float32), 31.0) (array([21.28165], dtype=float32), 22.0) (array([15.515978], dtype=float32), 15.1) (array([15.740188], dtype=float32), 13.3) (array([31.1711], dtype=float32), 28.7) (array([45.1872], dtype=float32), 46.7) (array([22.721579], dtype=float32), 22.2) (array([23.219442], dtype=float32), 22.8) (array([43.230556], dtype=float32), 42.3) (array([39.33132], dtype=float32), 41.3) (array([16.354898], dtype=float32), 16.7) (array([32.229496], dtype=float32), 31.1) (array([28.94848], dtype=float32), 26.7) (array([19.166758], dtype=float32), 19.4) (array([47.274914], dtype=float32), 50.0) (array([21.747969], dtype=float32), 16.6) (array([18.229101], dtype=float32), 19.5) (array([22.383318], dtype=float32), 24.4) (array([33.644817], dtype=float32), 28.5) (array([24.755995], dtype=float32), 22.3) (array([13.613729], dtype=float32), 12.1) (array([29.70843], dtype=float32), 28.6) (array([12.166009], dtype=float32), 15.6) (array([19.317694], dtype=float32), 19.2) (array([22.677841], dtype=float32), 27.5) (array([32.9041], dtype=float32), 32.0) (array([20.042803], dtype=float32), 20.2) (array([35.47863], dtype=float32), 32.4) (array([15.2239485], dtype=float32), 18.4) (array([19.410944], dtype=float32), 19.9) (array([28.94112], dtype=float32), 29.8) (array([19.625893], dtype=float32), 20.1) (array([44.026886], dtype=float32), 43.5) (array([25.496954], dtype=float32), 24.5) (array([52.16884], dtype=float32), 50.0) (array([8.257292], dtype=float32), 7.2) (array([17.890816], dtype=float32), 19.1) (array([21.532991], dtype=float32), 21.2) (array([24.09358], dtype=float32), 22.6) (array([18.962177], dtype=float32), 22.9) (array([25.462427], dtype=float32), 25.0) (array([24.555016], dtype=float32), 23.3) (array([17.76821], dtype=float32), 17.3) (array([31.988464], dtype=float32), 33.0) (array([16.21677], dtype=float32), 17.8) (array([20.39335], dtype=float32), 23.8) (array([8.517537], dtype=float32), 10.9) (array([22.79138], dtype=float32), 18.6) (array([21.393496], dtype=float32), 19.3) (array([17.204466], dtype=float32), 16.7) (array([27.358786], dtype=float32), 28.0) (array([17.362793], dtype=float32), 18.2) (array([26.907454], dtype=float32), 29.1) (array([20.419468], dtype=float32), 11.9) (array([31.475245], dtype=float32), 32.7) (array([18.223984], dtype=float32), 18.3) (array([26.392576], dtype=float32), 22.4) (array([44.629498], dtype=float32), 45.4) (array([32.52302], dtype=float32), 31.5) (array([48.70576], dtype=float32), 48.5) (array([17.237358], dtype=float32), 19.8) (array([45.783607], dtype=float32), 41.7) (array([19.995377], dtype=float32), 22.2) (array([19.571062], dtype=float32), 20.3) (array([26.018064], dtype=float32), 20.7) (array([45.044155], dtype=float32), 50.0) (array([16.779268], dtype=float32), 11.8) (array([20.513308], dtype=float32), 19.5) (array([8.618476], dtype=float32), 8.7) (array([24.411694], dtype=float32), 23.3)\n"
     ]
    }
   ],
   "source": [
    "print(*zip(y_pred,y_test))"
   ]
  },
  {
   "cell_type": "code",
   "execution_count": null,
   "metadata": {},
   "outputs": [],
   "source": []
  },
  {
   "cell_type": "code",
   "execution_count": null,
   "metadata": {},
   "outputs": [],
   "source": []
  }
 ],
 "metadata": {
  "kernelspec": {
   "display_name": "Python 3 (ipykernel)",
   "language": "python",
   "name": "python3"
  },
  "language_info": {
   "codemirror_mode": {
    "name": "ipython",
    "version": 3
   },
   "file_extension": ".py",
   "mimetype": "text/x-python",
   "name": "python",
   "nbconvert_exporter": "python",
   "pygments_lexer": "ipython3",
   "version": "3.11.2"
  },
  "papermill": {
   "duration": 21.578429,
   "end_time": "2022-08-10T01:26:38.171120",
   "environment_variables": {},
   "exception": null,
   "input_path": "__notebook__.ipynb",
   "output_path": "__notebook__.ipynb",
   "parameters": {},
   "start_time": "2022-08-10T01:26:16.592691",
   "version": "2.1.0"
  }
 },
 "nbformat": 4,
 "nbformat_minor": 4
}
