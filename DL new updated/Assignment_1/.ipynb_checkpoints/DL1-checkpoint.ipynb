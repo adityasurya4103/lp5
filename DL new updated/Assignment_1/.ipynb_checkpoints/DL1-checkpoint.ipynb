{
 "cells": [
  {
   "cell_type": "markdown",
   "metadata": {
    "papermill": {
     "duration": 0.022253,
     "end_time": "2022-08-10T01:26:28.177861",
     "exception": false,
     "start_time": "2022-08-10T01:26:28.155608",
     "status": "completed"
    },
    "tags": []
   },
   "source": [
    "# **Practical 1**\n",
    "**Linear regression by using Deep Neural network:** Implement Boston housing price prediction problem by Linear regression using Deep Neural network. Use Boston House price prediction dataset."
   ]
  },
  {
   "cell_type": "markdown",
   "metadata": {
    "papermill": {
     "duration": 0.022063,
     "end_time": "2022-08-10T01:26:28.266437",
     "exception": false,
     "start_time": "2022-08-10T01:26:28.244374",
     "status": "completed"
    },
    "tags": []
   },
   "source": [
    "\n",
    "### Importing libraries and the dataset\n"
   ]
  },
  {
   "cell_type": "code",
   "execution_count": 246,
   "metadata": {
    "_cell_guid": "b1076dfc-b9ad-4769-8c92-a6c4dae69d19",
    "_uuid": "8f2839f25d086af736a60e9eeb907d3b93b6e0e5",
    "papermill": {
     "duration": 0.029676,
     "end_time": "2022-08-10T01:26:28.318711",
     "exception": false,
     "start_time": "2022-08-10T01:26:28.289035",
     "status": "completed"
    },
    "tags": []
   },
   "outputs": [],
   "source": [
    "#Importing the pandas for data processing and numpy for numerical computing\n",
    "import numpy as np\n",
    "import pandas as pd\n",
    "import matplotlib.pyplot as plt\n"
   ]
  },
  {
   "cell_type": "code",
   "execution_count": 247,
   "metadata": {
    "papermill": {
     "duration": 0.865609,
     "end_time": "2022-08-10T01:26:29.208203",
     "exception": false,
     "start_time": "2022-08-10T01:26:28.342594",
     "status": "completed"
    },
    "scrolled": true,
    "tags": []
   },
   "outputs": [],
   "source": [
    "# Importing the Boston Housing dataset from the sklearn\n",
    "from sklearn.datasets import fetch_openml\n",
    "\n",
    "# Load the Boston housing dataset from OpenML\n",
    "boston = fetch_openml(data_id=531)"
   ]
  },
  {
   "cell_type": "code",
   "execution_count": 248,
   "metadata": {
    "papermill": {
     "duration": 0.032011,
     "end_time": "2022-08-10T01:26:29.262511",
     "exception": false,
     "start_time": "2022-08-10T01:26:29.230500",
     "status": "completed"
    },
    "tags": []
   },
   "outputs": [
    {
     "data": {
      "text/html": [
       "<div>\n",
       "<style scoped>\n",
       "    .dataframe tbody tr th:only-of-type {\n",
       "        vertical-align: middle;\n",
       "    }\n",
       "\n",
       "    .dataframe tbody tr th {\n",
       "        vertical-align: top;\n",
       "    }\n",
       "\n",
       "    .dataframe thead th {\n",
       "        text-align: right;\n",
       "    }\n",
       "</style>\n",
       "<table border=\"1\" class=\"dataframe\">\n",
       "  <thead>\n",
       "    <tr style=\"text-align: right;\">\n",
       "      <th></th>\n",
       "      <th>Unnamed: 0</th>\n",
       "      <th>crim</th>\n",
       "      <th>zn</th>\n",
       "      <th>indus</th>\n",
       "      <th>chas</th>\n",
       "      <th>nox</th>\n",
       "      <th>rm</th>\n",
       "      <th>age</th>\n",
       "      <th>dis</th>\n",
       "      <th>rad</th>\n",
       "      <th>tax</th>\n",
       "      <th>ptratio</th>\n",
       "      <th>black</th>\n",
       "      <th>lstat</th>\n",
       "      <th>medv</th>\n",
       "    </tr>\n",
       "  </thead>\n",
       "  <tbody>\n",
       "    <tr>\n",
       "      <th>0</th>\n",
       "      <td>1</td>\n",
       "      <td>0.00632</td>\n",
       "      <td>18.0</td>\n",
       "      <td>2.31</td>\n",
       "      <td>0</td>\n",
       "      <td>0.538</td>\n",
       "      <td>6.575</td>\n",
       "      <td>65.2</td>\n",
       "      <td>4.0900</td>\n",
       "      <td>1</td>\n",
       "      <td>296</td>\n",
       "      <td>15.3</td>\n",
       "      <td>396.90</td>\n",
       "      <td>4.98</td>\n",
       "      <td>24.0</td>\n",
       "    </tr>\n",
       "    <tr>\n",
       "      <th>1</th>\n",
       "      <td>2</td>\n",
       "      <td>0.02731</td>\n",
       "      <td>0.0</td>\n",
       "      <td>7.07</td>\n",
       "      <td>0</td>\n",
       "      <td>0.469</td>\n",
       "      <td>6.421</td>\n",
       "      <td>78.9</td>\n",
       "      <td>4.9671</td>\n",
       "      <td>2</td>\n",
       "      <td>242</td>\n",
       "      <td>17.8</td>\n",
       "      <td>396.90</td>\n",
       "      <td>9.14</td>\n",
       "      <td>21.6</td>\n",
       "    </tr>\n",
       "    <tr>\n",
       "      <th>2</th>\n",
       "      <td>3</td>\n",
       "      <td>0.02729</td>\n",
       "      <td>0.0</td>\n",
       "      <td>7.07</td>\n",
       "      <td>0</td>\n",
       "      <td>0.469</td>\n",
       "      <td>7.185</td>\n",
       "      <td>61.1</td>\n",
       "      <td>4.9671</td>\n",
       "      <td>2</td>\n",
       "      <td>242</td>\n",
       "      <td>17.8</td>\n",
       "      <td>392.83</td>\n",
       "      <td>4.03</td>\n",
       "      <td>34.7</td>\n",
       "    </tr>\n",
       "    <tr>\n",
       "      <th>3</th>\n",
       "      <td>4</td>\n",
       "      <td>0.03237</td>\n",
       "      <td>0.0</td>\n",
       "      <td>2.18</td>\n",
       "      <td>0</td>\n",
       "      <td>0.458</td>\n",
       "      <td>6.998</td>\n",
       "      <td>45.8</td>\n",
       "      <td>6.0622</td>\n",
       "      <td>3</td>\n",
       "      <td>222</td>\n",
       "      <td>18.7</td>\n",
       "      <td>394.63</td>\n",
       "      <td>2.94</td>\n",
       "      <td>33.4</td>\n",
       "    </tr>\n",
       "    <tr>\n",
       "      <th>4</th>\n",
       "      <td>5</td>\n",
       "      <td>0.06905</td>\n",
       "      <td>0.0</td>\n",
       "      <td>2.18</td>\n",
       "      <td>0</td>\n",
       "      <td>0.458</td>\n",
       "      <td>7.147</td>\n",
       "      <td>54.2</td>\n",
       "      <td>6.0622</td>\n",
       "      <td>3</td>\n",
       "      <td>222</td>\n",
       "      <td>18.7</td>\n",
       "      <td>396.90</td>\n",
       "      <td>5.33</td>\n",
       "      <td>36.2</td>\n",
       "    </tr>\n",
       "    <tr>\n",
       "      <th>5</th>\n",
       "      <td>6</td>\n",
       "      <td>0.02985</td>\n",
       "      <td>0.0</td>\n",
       "      <td>2.18</td>\n",
       "      <td>0</td>\n",
       "      <td>0.458</td>\n",
       "      <td>6.430</td>\n",
       "      <td>58.7</td>\n",
       "      <td>6.0622</td>\n",
       "      <td>3</td>\n",
       "      <td>222</td>\n",
       "      <td>18.7</td>\n",
       "      <td>394.12</td>\n",
       "      <td>5.21</td>\n",
       "      <td>28.7</td>\n",
       "    </tr>\n",
       "    <tr>\n",
       "      <th>6</th>\n",
       "      <td>7</td>\n",
       "      <td>0.08829</td>\n",
       "      <td>12.5</td>\n",
       "      <td>7.87</td>\n",
       "      <td>0</td>\n",
       "      <td>0.524</td>\n",
       "      <td>6.012</td>\n",
       "      <td>66.6</td>\n",
       "      <td>5.5605</td>\n",
       "      <td>5</td>\n",
       "      <td>311</td>\n",
       "      <td>15.2</td>\n",
       "      <td>395.60</td>\n",
       "      <td>12.43</td>\n",
       "      <td>22.9</td>\n",
       "    </tr>\n",
       "    <tr>\n",
       "      <th>7</th>\n",
       "      <td>8</td>\n",
       "      <td>0.14455</td>\n",
       "      <td>12.5</td>\n",
       "      <td>7.87</td>\n",
       "      <td>0</td>\n",
       "      <td>0.524</td>\n",
       "      <td>6.172</td>\n",
       "      <td>96.1</td>\n",
       "      <td>5.9505</td>\n",
       "      <td>5</td>\n",
       "      <td>311</td>\n",
       "      <td>15.2</td>\n",
       "      <td>396.90</td>\n",
       "      <td>19.15</td>\n",
       "      <td>27.1</td>\n",
       "    </tr>\n",
       "    <tr>\n",
       "      <th>8</th>\n",
       "      <td>9</td>\n",
       "      <td>0.21124</td>\n",
       "      <td>12.5</td>\n",
       "      <td>7.87</td>\n",
       "      <td>0</td>\n",
       "      <td>0.524</td>\n",
       "      <td>5.631</td>\n",
       "      <td>100.0</td>\n",
       "      <td>6.0821</td>\n",
       "      <td>5</td>\n",
       "      <td>311</td>\n",
       "      <td>15.2</td>\n",
       "      <td>386.63</td>\n",
       "      <td>29.93</td>\n",
       "      <td>16.5</td>\n",
       "    </tr>\n",
       "    <tr>\n",
       "      <th>9</th>\n",
       "      <td>10</td>\n",
       "      <td>0.17004</td>\n",
       "      <td>12.5</td>\n",
       "      <td>7.87</td>\n",
       "      <td>0</td>\n",
       "      <td>0.524</td>\n",
       "      <td>6.004</td>\n",
       "      <td>85.9</td>\n",
       "      <td>6.5921</td>\n",
       "      <td>5</td>\n",
       "      <td>311</td>\n",
       "      <td>15.2</td>\n",
       "      <td>386.71</td>\n",
       "      <td>17.10</td>\n",
       "      <td>18.9</td>\n",
       "    </tr>\n",
       "  </tbody>\n",
       "</table>\n",
       "</div>"
      ],
      "text/plain": [
       "   Unnamed: 0     crim    zn  indus  chas    nox     rm    age     dis  rad  \\\n",
       "0           1  0.00632  18.0   2.31     0  0.538  6.575   65.2  4.0900    1   \n",
       "1           2  0.02731   0.0   7.07     0  0.469  6.421   78.9  4.9671    2   \n",
       "2           3  0.02729   0.0   7.07     0  0.469  7.185   61.1  4.9671    2   \n",
       "3           4  0.03237   0.0   2.18     0  0.458  6.998   45.8  6.0622    3   \n",
       "4           5  0.06905   0.0   2.18     0  0.458  7.147   54.2  6.0622    3   \n",
       "5           6  0.02985   0.0   2.18     0  0.458  6.430   58.7  6.0622    3   \n",
       "6           7  0.08829  12.5   7.87     0  0.524  6.012   66.6  5.5605    5   \n",
       "7           8  0.14455  12.5   7.87     0  0.524  6.172   96.1  5.9505    5   \n",
       "8           9  0.21124  12.5   7.87     0  0.524  5.631  100.0  6.0821    5   \n",
       "9          10  0.17004  12.5   7.87     0  0.524  6.004   85.9  6.5921    5   \n",
       "\n",
       "   tax  ptratio   black  lstat  medv  \n",
       "0  296     15.3  396.90   4.98  24.0  \n",
       "1  242     17.8  396.90   9.14  21.6  \n",
       "2  242     17.8  392.83   4.03  34.7  \n",
       "3  222     18.7  394.63   2.94  33.4  \n",
       "4  222     18.7  396.90   5.33  36.2  \n",
       "5  222     18.7  394.12   5.21  28.7  \n",
       "6  311     15.2  395.60  12.43  22.9  \n",
       "7  311     15.2  396.90  19.15  27.1  \n",
       "8  311     15.2  386.63  29.93  16.5  \n",
       "9  311     15.2  386.71  17.10  18.9  "
      ]
     },
     "execution_count": 248,
     "metadata": {},
     "output_type": "execute_result"
    }
   ],
   "source": [
    "# #Converting the data into pandas dataframe\n",
    "# for online \n",
    "data = pd.DataFrame(boston.data)\n",
    "\n",
    "\n",
    "\n",
    "\n",
    "\n",
    "\n",
    "\n",
    "\n",
    "\n",
    "\n",
    "\n",
    "\n",
    "\n",
    "\n",
    "\n",
    "# #reading from csv\n",
    "# data  = pd.read_csv('Boston.csv')\n",
    "# data.head(10)"
   ]
  },
  {
   "cell_type": "code",
   "execution_count": null,
   "metadata": {},
   "outputs": [],
   "source": []
  },
  {
   "cell_type": "markdown",
   "metadata": {
    "papermill": {
     "duration": 0.022779,
     "end_time": "2022-08-10T01:26:29.308599",
     "exception": false,
     "start_time": "2022-08-10T01:26:29.285820",
     "status": "completed"
    },
    "tags": []
   },
   "source": [
    "### First look at the dataset"
   ]
  },
  {
   "cell_type": "code",
   "execution_count": 249,
   "metadata": {
    "papermill": {
     "duration": 0.04928,
     "end_time": "2022-08-10T01:26:29.381575",
     "exception": false,
     "start_time": "2022-08-10T01:26:29.332295",
     "status": "completed"
    },
    "tags": []
   },
   "outputs": [
    {
     "data": {
      "text/html": [
       "<div>\n",
       "<style scoped>\n",
       "    .dataframe tbody tr th:only-of-type {\n",
       "        vertical-align: middle;\n",
       "    }\n",
       "\n",
       "    .dataframe tbody tr th {\n",
       "        vertical-align: top;\n",
       "    }\n",
       "\n",
       "    .dataframe thead th {\n",
       "        text-align: right;\n",
       "    }\n",
       "</style>\n",
       "<table border=\"1\" class=\"dataframe\">\n",
       "  <thead>\n",
       "    <tr style=\"text-align: right;\">\n",
       "      <th></th>\n",
       "      <th>Unnamed: 0</th>\n",
       "      <th>crim</th>\n",
       "      <th>zn</th>\n",
       "      <th>indus</th>\n",
       "      <th>chas</th>\n",
       "      <th>nox</th>\n",
       "      <th>rm</th>\n",
       "      <th>age</th>\n",
       "      <th>dis</th>\n",
       "      <th>rad</th>\n",
       "      <th>tax</th>\n",
       "      <th>ptratio</th>\n",
       "      <th>black</th>\n",
       "      <th>lstat</th>\n",
       "      <th>medv</th>\n",
       "    </tr>\n",
       "  </thead>\n",
       "  <tbody>\n",
       "    <tr>\n",
       "      <th>0</th>\n",
       "      <td>1</td>\n",
       "      <td>0.00632</td>\n",
       "      <td>18.0</td>\n",
       "      <td>2.31</td>\n",
       "      <td>0</td>\n",
       "      <td>0.538</td>\n",
       "      <td>6.575</td>\n",
       "      <td>65.2</td>\n",
       "      <td>4.0900</td>\n",
       "      <td>1</td>\n",
       "      <td>296</td>\n",
       "      <td>15.3</td>\n",
       "      <td>396.90</td>\n",
       "      <td>4.98</td>\n",
       "      <td>24.0</td>\n",
       "    </tr>\n",
       "    <tr>\n",
       "      <th>1</th>\n",
       "      <td>2</td>\n",
       "      <td>0.02731</td>\n",
       "      <td>0.0</td>\n",
       "      <td>7.07</td>\n",
       "      <td>0</td>\n",
       "      <td>0.469</td>\n",
       "      <td>6.421</td>\n",
       "      <td>78.9</td>\n",
       "      <td>4.9671</td>\n",
       "      <td>2</td>\n",
       "      <td>242</td>\n",
       "      <td>17.8</td>\n",
       "      <td>396.90</td>\n",
       "      <td>9.14</td>\n",
       "      <td>21.6</td>\n",
       "    </tr>\n",
       "    <tr>\n",
       "      <th>2</th>\n",
       "      <td>3</td>\n",
       "      <td>0.02729</td>\n",
       "      <td>0.0</td>\n",
       "      <td>7.07</td>\n",
       "      <td>0</td>\n",
       "      <td>0.469</td>\n",
       "      <td>7.185</td>\n",
       "      <td>61.1</td>\n",
       "      <td>4.9671</td>\n",
       "      <td>2</td>\n",
       "      <td>242</td>\n",
       "      <td>17.8</td>\n",
       "      <td>392.83</td>\n",
       "      <td>4.03</td>\n",
       "      <td>34.7</td>\n",
       "    </tr>\n",
       "    <tr>\n",
       "      <th>3</th>\n",
       "      <td>4</td>\n",
       "      <td>0.03237</td>\n",
       "      <td>0.0</td>\n",
       "      <td>2.18</td>\n",
       "      <td>0</td>\n",
       "      <td>0.458</td>\n",
       "      <td>6.998</td>\n",
       "      <td>45.8</td>\n",
       "      <td>6.0622</td>\n",
       "      <td>3</td>\n",
       "      <td>222</td>\n",
       "      <td>18.7</td>\n",
       "      <td>394.63</td>\n",
       "      <td>2.94</td>\n",
       "      <td>33.4</td>\n",
       "    </tr>\n",
       "    <tr>\n",
       "      <th>4</th>\n",
       "      <td>5</td>\n",
       "      <td>0.06905</td>\n",
       "      <td>0.0</td>\n",
       "      <td>2.18</td>\n",
       "      <td>0</td>\n",
       "      <td>0.458</td>\n",
       "      <td>7.147</td>\n",
       "      <td>54.2</td>\n",
       "      <td>6.0622</td>\n",
       "      <td>3</td>\n",
       "      <td>222</td>\n",
       "      <td>18.7</td>\n",
       "      <td>396.90</td>\n",
       "      <td>5.33</td>\n",
       "      <td>36.2</td>\n",
       "    </tr>\n",
       "  </tbody>\n",
       "</table>\n",
       "</div>"
      ],
      "text/plain": [
       "   Unnamed: 0     crim    zn  indus  chas    nox     rm   age     dis  rad  \\\n",
       "0           1  0.00632  18.0   2.31     0  0.538  6.575  65.2  4.0900    1   \n",
       "1           2  0.02731   0.0   7.07     0  0.469  6.421  78.9  4.9671    2   \n",
       "2           3  0.02729   0.0   7.07     0  0.469  7.185  61.1  4.9671    2   \n",
       "3           4  0.03237   0.0   2.18     0  0.458  6.998  45.8  6.0622    3   \n",
       "4           5  0.06905   0.0   2.18     0  0.458  7.147  54.2  6.0622    3   \n",
       "\n",
       "   tax  ptratio   black  lstat  medv  \n",
       "0  296     15.3  396.90   4.98  24.0  \n",
       "1  242     17.8  396.90   9.14  21.6  \n",
       "2  242     17.8  392.83   4.03  34.7  \n",
       "3  222     18.7  394.63   2.94  33.4  \n",
       "4  222     18.7  396.90   5.33  36.2  "
      ]
     },
     "execution_count": 249,
     "metadata": {},
     "output_type": "execute_result"
    }
   ],
   "source": [
    "#First look at the data\n",
    "data.head()"
   ]
  },
  {
   "cell_type": "code",
   "execution_count": 250,
   "metadata": {
    "papermill": {
     "duration": 0.030084,
     "end_time": "2022-08-10T01:26:29.436215",
     "exception": false,
     "start_time": "2022-08-10T01:26:29.406131",
     "status": "completed"
    },
    "tags": []
   },
   "outputs": [],
   "source": [
    "# for online \n",
    "# Adding the feature names to the dataframe\n",
    "data.columns = boston.feature_names\n",
    "\n",
    "\n",
    "\n",
    "\n",
    "\n",
    "\n",
    "\n",
    "\n",
    "\n",
    "\n",
    "\n",
    "# #for csv file \n",
    "# data.columns = data.columns.str.upper()\n",
    "# features = ['LSTAT', 'RM', 'PTRATIO']\n"
   ]
  },
  {
   "cell_type": "code",
   "execution_count": 251,
   "metadata": {
    "papermill": {
     "duration": 0.036037,
     "end_time": "2022-08-10T01:26:29.495888",
     "exception": false,
     "start_time": "2022-08-10T01:26:29.459851",
     "status": "completed"
    },
    "tags": []
   },
   "outputs": [],
   "source": [
    "#Adding the target variable to the dataset\n",
    "data['PRICE'] = boston.target "
   ]
  },
  {
   "cell_type": "code",
   "execution_count": 252,
   "metadata": {
    "papermill": {
     "duration": 0.048496,
     "end_time": "2022-08-10T01:26:29.569236",
     "exception": false,
     "start_time": "2022-08-10T01:26:29.520740",
     "status": "completed"
    },
    "tags": []
   },
   "outputs": [
    {
     "data": {
      "text/html": [
       "<div>\n",
       "<style scoped>\n",
       "    .dataframe tbody tr th:only-of-type {\n",
       "        vertical-align: middle;\n",
       "    }\n",
       "\n",
       "    .dataframe tbody tr th {\n",
       "        vertical-align: top;\n",
       "    }\n",
       "\n",
       "    .dataframe thead th {\n",
       "        text-align: right;\n",
       "    }\n",
       "</style>\n",
       "<table border=\"1\" class=\"dataframe\">\n",
       "  <thead>\n",
       "    <tr style=\"text-align: right;\">\n",
       "      <th></th>\n",
       "      <th>UNNAMED: 0</th>\n",
       "      <th>CRIM</th>\n",
       "      <th>ZN</th>\n",
       "      <th>INDUS</th>\n",
       "      <th>CHAS</th>\n",
       "      <th>NOX</th>\n",
       "      <th>RM</th>\n",
       "      <th>AGE</th>\n",
       "      <th>DIS</th>\n",
       "      <th>RAD</th>\n",
       "      <th>TAX</th>\n",
       "      <th>PTRATIO</th>\n",
       "      <th>BLACK</th>\n",
       "      <th>LSTAT</th>\n",
       "      <th>MEDV</th>\n",
       "      <th>PRICE</th>\n",
       "    </tr>\n",
       "  </thead>\n",
       "  <tbody>\n",
       "    <tr>\n",
       "      <th>0</th>\n",
       "      <td>1</td>\n",
       "      <td>0.00632</td>\n",
       "      <td>18.0</td>\n",
       "      <td>2.31</td>\n",
       "      <td>0</td>\n",
       "      <td>0.538</td>\n",
       "      <td>6.575</td>\n",
       "      <td>65.2</td>\n",
       "      <td>4.0900</td>\n",
       "      <td>1</td>\n",
       "      <td>296</td>\n",
       "      <td>15.3</td>\n",
       "      <td>396.90</td>\n",
       "      <td>4.98</td>\n",
       "      <td>24.0</td>\n",
       "      <td>24.0</td>\n",
       "    </tr>\n",
       "    <tr>\n",
       "      <th>1</th>\n",
       "      <td>2</td>\n",
       "      <td>0.02731</td>\n",
       "      <td>0.0</td>\n",
       "      <td>7.07</td>\n",
       "      <td>0</td>\n",
       "      <td>0.469</td>\n",
       "      <td>6.421</td>\n",
       "      <td>78.9</td>\n",
       "      <td>4.9671</td>\n",
       "      <td>2</td>\n",
       "      <td>242</td>\n",
       "      <td>17.8</td>\n",
       "      <td>396.90</td>\n",
       "      <td>9.14</td>\n",
       "      <td>21.6</td>\n",
       "      <td>21.6</td>\n",
       "    </tr>\n",
       "    <tr>\n",
       "      <th>2</th>\n",
       "      <td>3</td>\n",
       "      <td>0.02729</td>\n",
       "      <td>0.0</td>\n",
       "      <td>7.07</td>\n",
       "      <td>0</td>\n",
       "      <td>0.469</td>\n",
       "      <td>7.185</td>\n",
       "      <td>61.1</td>\n",
       "      <td>4.9671</td>\n",
       "      <td>2</td>\n",
       "      <td>242</td>\n",
       "      <td>17.8</td>\n",
       "      <td>392.83</td>\n",
       "      <td>4.03</td>\n",
       "      <td>34.7</td>\n",
       "      <td>34.7</td>\n",
       "    </tr>\n",
       "    <tr>\n",
       "      <th>3</th>\n",
       "      <td>4</td>\n",
       "      <td>0.03237</td>\n",
       "      <td>0.0</td>\n",
       "      <td>2.18</td>\n",
       "      <td>0</td>\n",
       "      <td>0.458</td>\n",
       "      <td>6.998</td>\n",
       "      <td>45.8</td>\n",
       "      <td>6.0622</td>\n",
       "      <td>3</td>\n",
       "      <td>222</td>\n",
       "      <td>18.7</td>\n",
       "      <td>394.63</td>\n",
       "      <td>2.94</td>\n",
       "      <td>33.4</td>\n",
       "      <td>33.4</td>\n",
       "    </tr>\n",
       "    <tr>\n",
       "      <th>4</th>\n",
       "      <td>5</td>\n",
       "      <td>0.06905</td>\n",
       "      <td>0.0</td>\n",
       "      <td>2.18</td>\n",
       "      <td>0</td>\n",
       "      <td>0.458</td>\n",
       "      <td>7.147</td>\n",
       "      <td>54.2</td>\n",
       "      <td>6.0622</td>\n",
       "      <td>3</td>\n",
       "      <td>222</td>\n",
       "      <td>18.7</td>\n",
       "      <td>396.90</td>\n",
       "      <td>5.33</td>\n",
       "      <td>36.2</td>\n",
       "      <td>36.2</td>\n",
       "    </tr>\n",
       "  </tbody>\n",
       "</table>\n",
       "</div>"
      ],
      "text/plain": [
       "   UNNAMED: 0     CRIM    ZN  INDUS  CHAS    NOX     RM   AGE     DIS  RAD  \\\n",
       "0           1  0.00632  18.0   2.31     0  0.538  6.575  65.2  4.0900    1   \n",
       "1           2  0.02731   0.0   7.07     0  0.469  6.421  78.9  4.9671    2   \n",
       "2           3  0.02729   0.0   7.07     0  0.469  7.185  61.1  4.9671    2   \n",
       "3           4  0.03237   0.0   2.18     0  0.458  6.998  45.8  6.0622    3   \n",
       "4           5  0.06905   0.0   2.18     0  0.458  7.147  54.2  6.0622    3   \n",
       "\n",
       "   TAX  PTRATIO   BLACK  LSTAT  MEDV  PRICE  \n",
       "0  296     15.3  396.90   4.98  24.0   24.0  \n",
       "1  242     17.8  396.90   9.14  21.6   21.6  \n",
       "2  242     17.8  392.83   4.03  34.7   34.7  \n",
       "3  222     18.7  394.63   2.94  33.4   33.4  \n",
       "4  222     18.7  396.90   5.33  36.2   36.2  "
      ]
     },
     "execution_count": 252,
     "metadata": {},
     "output_type": "execute_result"
    }
   ],
   "source": [
    "#Looking at the data with names and target variable\n",
    "data.head()"
   ]
  },
  {
   "cell_type": "code",
   "execution_count": 253,
   "metadata": {
    "papermill": {
     "duration": 0.033075,
     "end_time": "2022-08-10T01:26:29.627638",
     "exception": false,
     "start_time": "2022-08-10T01:26:29.594563",
     "status": "completed"
    },
    "tags": []
   },
   "outputs": [
    {
     "name": "stdout",
     "output_type": "stream",
     "text": [
      "(506, 16)\n"
     ]
    }
   ],
   "source": [
    "#Shape of the data\n",
    "print(data.shape)"
   ]
  },
  {
   "cell_type": "code",
   "execution_count": 254,
   "metadata": {
    "papermill": {
     "duration": 0.037251,
     "end_time": "2022-08-10T01:26:29.691056",
     "exception": false,
     "start_time": "2022-08-10T01:26:29.653805",
     "status": "completed"
    },
    "tags": []
   },
   "outputs": [
    {
     "data": {
      "text/plain": [
       "UNNAMED: 0    0\n",
       "CRIM          0\n",
       "ZN            0\n",
       "INDUS         0\n",
       "CHAS          0\n",
       "NOX           0\n",
       "RM            0\n",
       "AGE           0\n",
       "DIS           0\n",
       "RAD           0\n",
       "TAX           0\n",
       "PTRATIO       0\n",
       "BLACK         0\n",
       "LSTAT         0\n",
       "MEDV          0\n",
       "PRICE         0\n",
       "dtype: int64"
      ]
     },
     "execution_count": 254,
     "metadata": {},
     "output_type": "execute_result"
    }
   ],
   "source": [
    "#Checking the null values in the dataset\n",
    "data.isnull().sum()"
   ]
  },
  {
   "cell_type": "markdown",
   "metadata": {
    "papermill": {
     "duration": 0.025871,
     "end_time": "2022-08-10T01:26:29.743681",
     "exception": false,
     "start_time": "2022-08-10T01:26:29.717810",
     "status": "completed"
    },
    "tags": []
   },
   "source": [
    "No null values in the dataset, no missing value treatement needed"
   ]
  },
  {
   "cell_type": "code",
   "execution_count": 255,
   "metadata": {
    "papermill": {
     "duration": 0.086686,
     "end_time": "2022-08-10T01:26:29.856529",
     "exception": false,
     "start_time": "2022-08-10T01:26:29.769843",
     "status": "completed"
    },
    "tags": []
   },
   "outputs": [
    {
     "data": {
      "text/html": [
       "<div>\n",
       "<style scoped>\n",
       "    .dataframe tbody tr th:only-of-type {\n",
       "        vertical-align: middle;\n",
       "    }\n",
       "\n",
       "    .dataframe tbody tr th {\n",
       "        vertical-align: top;\n",
       "    }\n",
       "\n",
       "    .dataframe thead th {\n",
       "        text-align: right;\n",
       "    }\n",
       "</style>\n",
       "<table border=\"1\" class=\"dataframe\">\n",
       "  <thead>\n",
       "    <tr style=\"text-align: right;\">\n",
       "      <th></th>\n",
       "      <th>UNNAMED: 0</th>\n",
       "      <th>CRIM</th>\n",
       "      <th>ZN</th>\n",
       "      <th>INDUS</th>\n",
       "      <th>CHAS</th>\n",
       "      <th>NOX</th>\n",
       "      <th>RM</th>\n",
       "      <th>AGE</th>\n",
       "      <th>DIS</th>\n",
       "      <th>RAD</th>\n",
       "      <th>TAX</th>\n",
       "      <th>PTRATIO</th>\n",
       "      <th>BLACK</th>\n",
       "      <th>LSTAT</th>\n",
       "      <th>MEDV</th>\n",
       "      <th>PRICE</th>\n",
       "    </tr>\n",
       "  </thead>\n",
       "  <tbody>\n",
       "    <tr>\n",
       "      <th>count</th>\n",
       "      <td>506.000000</td>\n",
       "      <td>506.000000</td>\n",
       "      <td>506.000000</td>\n",
       "      <td>506.000000</td>\n",
       "      <td>506.000000</td>\n",
       "      <td>506.000000</td>\n",
       "      <td>506.000000</td>\n",
       "      <td>506.000000</td>\n",
       "      <td>506.000000</td>\n",
       "      <td>506.000000</td>\n",
       "      <td>506.000000</td>\n",
       "      <td>506.000000</td>\n",
       "      <td>506.000000</td>\n",
       "      <td>506.000000</td>\n",
       "      <td>506.000000</td>\n",
       "      <td>506.000000</td>\n",
       "    </tr>\n",
       "    <tr>\n",
       "      <th>mean</th>\n",
       "      <td>253.500000</td>\n",
       "      <td>3.613524</td>\n",
       "      <td>11.363636</td>\n",
       "      <td>11.136779</td>\n",
       "      <td>0.069170</td>\n",
       "      <td>0.554695</td>\n",
       "      <td>6.284634</td>\n",
       "      <td>68.574901</td>\n",
       "      <td>3.795043</td>\n",
       "      <td>9.549407</td>\n",
       "      <td>408.237154</td>\n",
       "      <td>18.455534</td>\n",
       "      <td>356.674032</td>\n",
       "      <td>12.653063</td>\n",
       "      <td>22.532806</td>\n",
       "      <td>22.532806</td>\n",
       "    </tr>\n",
       "    <tr>\n",
       "      <th>std</th>\n",
       "      <td>146.213884</td>\n",
       "      <td>8.601545</td>\n",
       "      <td>23.322453</td>\n",
       "      <td>6.860353</td>\n",
       "      <td>0.253994</td>\n",
       "      <td>0.115878</td>\n",
       "      <td>0.702617</td>\n",
       "      <td>28.148861</td>\n",
       "      <td>2.105710</td>\n",
       "      <td>8.707259</td>\n",
       "      <td>168.537116</td>\n",
       "      <td>2.164946</td>\n",
       "      <td>91.294864</td>\n",
       "      <td>7.141062</td>\n",
       "      <td>9.197104</td>\n",
       "      <td>9.197104</td>\n",
       "    </tr>\n",
       "    <tr>\n",
       "      <th>min</th>\n",
       "      <td>1.000000</td>\n",
       "      <td>0.006320</td>\n",
       "      <td>0.000000</td>\n",
       "      <td>0.460000</td>\n",
       "      <td>0.000000</td>\n",
       "      <td>0.385000</td>\n",
       "      <td>3.561000</td>\n",
       "      <td>2.900000</td>\n",
       "      <td>1.129600</td>\n",
       "      <td>1.000000</td>\n",
       "      <td>187.000000</td>\n",
       "      <td>12.600000</td>\n",
       "      <td>0.320000</td>\n",
       "      <td>1.730000</td>\n",
       "      <td>5.000000</td>\n",
       "      <td>5.000000</td>\n",
       "    </tr>\n",
       "    <tr>\n",
       "      <th>25%</th>\n",
       "      <td>127.250000</td>\n",
       "      <td>0.082045</td>\n",
       "      <td>0.000000</td>\n",
       "      <td>5.190000</td>\n",
       "      <td>0.000000</td>\n",
       "      <td>0.449000</td>\n",
       "      <td>5.885500</td>\n",
       "      <td>45.025000</td>\n",
       "      <td>2.100175</td>\n",
       "      <td>4.000000</td>\n",
       "      <td>279.000000</td>\n",
       "      <td>17.400000</td>\n",
       "      <td>375.377500</td>\n",
       "      <td>6.950000</td>\n",
       "      <td>17.025000</td>\n",
       "      <td>17.025000</td>\n",
       "    </tr>\n",
       "    <tr>\n",
       "      <th>50%</th>\n",
       "      <td>253.500000</td>\n",
       "      <td>0.256510</td>\n",
       "      <td>0.000000</td>\n",
       "      <td>9.690000</td>\n",
       "      <td>0.000000</td>\n",
       "      <td>0.538000</td>\n",
       "      <td>6.208500</td>\n",
       "      <td>77.500000</td>\n",
       "      <td>3.207450</td>\n",
       "      <td>5.000000</td>\n",
       "      <td>330.000000</td>\n",
       "      <td>19.050000</td>\n",
       "      <td>391.440000</td>\n",
       "      <td>11.360000</td>\n",
       "      <td>21.200000</td>\n",
       "      <td>21.200000</td>\n",
       "    </tr>\n",
       "    <tr>\n",
       "      <th>75%</th>\n",
       "      <td>379.750000</td>\n",
       "      <td>3.677083</td>\n",
       "      <td>12.500000</td>\n",
       "      <td>18.100000</td>\n",
       "      <td>0.000000</td>\n",
       "      <td>0.624000</td>\n",
       "      <td>6.623500</td>\n",
       "      <td>94.075000</td>\n",
       "      <td>5.188425</td>\n",
       "      <td>24.000000</td>\n",
       "      <td>666.000000</td>\n",
       "      <td>20.200000</td>\n",
       "      <td>396.225000</td>\n",
       "      <td>16.955000</td>\n",
       "      <td>25.000000</td>\n",
       "      <td>25.000000</td>\n",
       "    </tr>\n",
       "    <tr>\n",
       "      <th>max</th>\n",
       "      <td>506.000000</td>\n",
       "      <td>88.976200</td>\n",
       "      <td>100.000000</td>\n",
       "      <td>27.740000</td>\n",
       "      <td>1.000000</td>\n",
       "      <td>0.871000</td>\n",
       "      <td>8.780000</td>\n",
       "      <td>100.000000</td>\n",
       "      <td>12.126500</td>\n",
       "      <td>24.000000</td>\n",
       "      <td>711.000000</td>\n",
       "      <td>22.000000</td>\n",
       "      <td>396.900000</td>\n",
       "      <td>37.970000</td>\n",
       "      <td>50.000000</td>\n",
       "      <td>50.000000</td>\n",
       "    </tr>\n",
       "  </tbody>\n",
       "</table>\n",
       "</div>"
      ],
      "text/plain": [
       "       UNNAMED: 0        CRIM          ZN       INDUS        CHAS         NOX  \\\n",
       "count  506.000000  506.000000  506.000000  506.000000  506.000000  506.000000   \n",
       "mean   253.500000    3.613524   11.363636   11.136779    0.069170    0.554695   \n",
       "std    146.213884    8.601545   23.322453    6.860353    0.253994    0.115878   \n",
       "min      1.000000    0.006320    0.000000    0.460000    0.000000    0.385000   \n",
       "25%    127.250000    0.082045    0.000000    5.190000    0.000000    0.449000   \n",
       "50%    253.500000    0.256510    0.000000    9.690000    0.000000    0.538000   \n",
       "75%    379.750000    3.677083   12.500000   18.100000    0.000000    0.624000   \n",
       "max    506.000000   88.976200  100.000000   27.740000    1.000000    0.871000   \n",
       "\n",
       "               RM         AGE         DIS         RAD         TAX     PTRATIO  \\\n",
       "count  506.000000  506.000000  506.000000  506.000000  506.000000  506.000000   \n",
       "mean     6.284634   68.574901    3.795043    9.549407  408.237154   18.455534   \n",
       "std      0.702617   28.148861    2.105710    8.707259  168.537116    2.164946   \n",
       "min      3.561000    2.900000    1.129600    1.000000  187.000000   12.600000   \n",
       "25%      5.885500   45.025000    2.100175    4.000000  279.000000   17.400000   \n",
       "50%      6.208500   77.500000    3.207450    5.000000  330.000000   19.050000   \n",
       "75%      6.623500   94.075000    5.188425   24.000000  666.000000   20.200000   \n",
       "max      8.780000  100.000000   12.126500   24.000000  711.000000   22.000000   \n",
       "\n",
       "            BLACK       LSTAT        MEDV       PRICE  \n",
       "count  506.000000  506.000000  506.000000  506.000000  \n",
       "mean   356.674032   12.653063   22.532806   22.532806  \n",
       "std     91.294864    7.141062    9.197104    9.197104  \n",
       "min      0.320000    1.730000    5.000000    5.000000  \n",
       "25%    375.377500    6.950000   17.025000   17.025000  \n",
       "50%    391.440000   11.360000   21.200000   21.200000  \n",
       "75%    396.225000   16.955000   25.000000   25.000000  \n",
       "max    396.900000   37.970000   50.000000   50.000000  "
      ]
     },
     "execution_count": 255,
     "metadata": {},
     "output_type": "execute_result"
    }
   ],
   "source": [
    "#Checking the statistics of the data\n",
    "data.describe()"
   ]
  },
  {
   "cell_type": "markdown",
   "metadata": {
    "papermill": {
     "duration": 0.025796,
     "end_time": "2022-08-10T01:26:29.908342",
     "exception": false,
     "start_time": "2022-08-10T01:26:29.882546",
     "status": "completed"
    },
    "tags": []
   },
   "source": [
    "This is sometimes very useful, for example if you look at the CRIM the max is 88.97 and 75% of the value is below 3.677083 and mean is 3.613524 so it means the max values is actually an outlier or there are outliers present in the column"
   ]
  },
  {
   "cell_type": "code",
   "execution_count": 256,
   "metadata": {
    "papermill": {
     "duration": 0.04482,
     "end_time": "2022-08-10T01:26:29.979615",
     "exception": false,
     "start_time": "2022-08-10T01:26:29.934795",
     "status": "completed"
    },
    "tags": []
   },
   "outputs": [
    {
     "name": "stdout",
     "output_type": "stream",
     "text": [
      "<class 'pandas.core.frame.DataFrame'>\n",
      "RangeIndex: 506 entries, 0 to 505\n",
      "Data columns (total 16 columns):\n",
      " #   Column      Non-Null Count  Dtype  \n",
      "---  ------      --------------  -----  \n",
      " 0   UNNAMED: 0  506 non-null    int64  \n",
      " 1   CRIM        506 non-null    float64\n",
      " 2   ZN          506 non-null    float64\n",
      " 3   INDUS       506 non-null    float64\n",
      " 4   CHAS        506 non-null    int64  \n",
      " 5   NOX         506 non-null    float64\n",
      " 6   RM          506 non-null    float64\n",
      " 7   AGE         506 non-null    float64\n",
      " 8   DIS         506 non-null    float64\n",
      " 9   RAD         506 non-null    int64  \n",
      " 10  TAX         506 non-null    int64  \n",
      " 11  PTRATIO     506 non-null    float64\n",
      " 12  BLACK       506 non-null    float64\n",
      " 13  LSTAT       506 non-null    float64\n",
      " 14  MEDV        506 non-null    float64\n",
      " 15  PRICE       506 non-null    float64\n",
      "dtypes: float64(12), int64(4)\n",
      "memory usage: 63.4 KB\n"
     ]
    }
   ],
   "source": [
    "data.info()"
   ]
  },
  {
   "cell_type": "markdown",
   "metadata": {
    "papermill": {
     "duration": 0.026275,
     "end_time": "2022-08-10T01:26:30.033463",
     "exception": false,
     "start_time": "2022-08-10T01:26:30.007188",
     "status": "completed"
    },
    "tags": []
   },
   "source": [
    "<a id = 'visual'></a>\n",
    "### Visualisation"
   ]
  },
  {
   "cell_type": "code",
   "execution_count": 257,
   "metadata": {
    "papermill": {
     "duration": 0.373929,
     "end_time": "2022-08-10T01:26:30.434719",
     "exception": false,
     "start_time": "2022-08-10T01:26:30.060790",
     "status": "completed"
    },
    "tags": []
   },
   "outputs": [
    {
     "data": {
      "text/plain": [
       "<seaborn.axisgrid.FacetGrid at 0x210c40eacd0>"
      ]
     },
     "execution_count": 257,
     "metadata": {},
     "output_type": "execute_result"
    },
    {
     "data": {
      "image/png": "[encoded data removed]",
      "text/plain": [
       "<Figure size 500x500 with 1 Axes>"
      ]
     },
     "metadata": {},
     "output_type": "display_data"
    }
   ],
   "source": [
    "#checking the distribution of the target variable\n",
    "import seaborn as sns\n",
    "sns.displot(data['PRICE'], kde=True)"
   ]
  },
  {
   "cell_type": "markdown",
   "metadata": {
    "papermill": {
     "duration": 0.027272,
     "end_time": "2022-08-10T01:26:30.490810",
     "exception": false,
     "start_time": "2022-08-10T01:26:30.463538",
     "status": "completed"
    },
    "tags": []
   },
   "source": [
    "The distribution seems normal, has not be the data normal we would have perform log transformation or took to square root of the data to make the data normal. Normal distribution is need for the machine learning for better predictiblity of the model"
   ]
  },
  {
   "cell_type": "code",
   "execution_count": 258,
   "metadata": {
    "papermill": {
     "duration": 0.118564,
     "end_time": "2022-08-10T01:26:30.637221",
     "exception": false,
     "start_time": "2022-08-10T01:26:30.518657",
     "status": "completed"
    },
    "tags": []
   },
   "outputs": [
    {
     "data": {
      "text/plain": [
       "<Axes: ylabel='PRICE'>"
      ]
     },
     "execution_count": 258,
     "metadata": {},
     "output_type": "execute_result"
    },
    {
     "data": {
      "image/png": "[encoded data removed]",
      "text/plain": [
       "<Figure size 640x480 with 1 Axes>"
      ]
     },
     "metadata": {},
     "output_type": "display_data"
    }
   ],
   "source": [
    "#Distribution using box plot\n",
    "sns.boxplot(data.PRICE)"
   ]
  },
  {
   "cell_type": "markdown",
   "metadata": {
    "papermill": {
     "duration": 0.027998,
     "end_time": "2022-08-10T01:26:30.693962",
     "exception": false,
     "start_time": "2022-08-10T01:26:30.665964",
     "status": "completed"
    },
    "tags": []
   },
   "source": [
    "<a id = 'corr'></a>\n",
    "### Checking the correlation of the independent feature with the dependent feature\n",
    "\n",
    "Correlation is a statistical technique that can show whether and how strongly pairs of variables are related.An intelligent correlation analysis can lead to a greater understanding of your data"
   ]
  },
  {
   "cell_type": "code",
   "execution_count": 259,
   "metadata": {
    "papermill": {
     "duration": 0.040744,
     "end_time": "2022-08-10T01:26:30.763342",
     "exception": false,
     "start_time": "2022-08-10T01:26:30.722598",
     "status": "completed"
    },
    "tags": []
   },
   "outputs": [
    {
     "data": {
      "text/plain": [
       "UNNAMED: 0   -0.226604\n",
       "CRIM         -0.388305\n",
       "ZN            0.360445\n",
       "INDUS        -0.483725\n",
       "CHAS          0.175260\n",
       "NOX          -0.427321\n",
       "RM            0.695360\n",
       "AGE          -0.376955\n",
       "DIS           0.249929\n",
       "RAD          -0.381626\n",
       "TAX          -0.468536\n",
       "PTRATIO      -0.507787\n",
       "BLACK         0.333461\n",
       "LSTAT        -0.737663\n",
       "MEDV          1.000000\n",
       "PRICE         1.000000\n",
       "Name: PRICE, dtype: float64"
      ]
     },
     "execution_count": 259,
     "metadata": {},
     "output_type": "execute_result"
    }
   ],
   "source": [
    "#checking Correlation of the data \n",
    "correlation = data.corr()\n",
    "correlation.loc['PRICE']"
   ]
  },
  {
   "cell_type": "code",
   "execution_count": 260,
   "metadata": {
    "papermill": {
     "duration": 0.741661,
     "end_time": "2022-08-10T01:26:31.534640",
     "exception": false,
     "start_time": "2022-08-10T01:26:30.792979",
     "status": "completed"
    },
    "tags": []
   },
   "outputs": [
    {
     "data": {
      "text/plain": [
       "<Axes: >"
      ]
     },
     "execution_count": 260,
     "metadata": {},
     "output_type": "execute_result"
    },
    {
     "data": {
      "image/png": "[encoded data removed]",
      "text/plain": [
       "<Figure size 1500x1200 with 2 Axes>"
      ]
     },
     "metadata": {},
     "output_type": "display_data"
    }
   ],
   "source": [
    "# plotting the heatmap\n",
    "import matplotlib.pyplot as plt\n",
    "fig,axes = plt.subplots(figsize=(15,12))\n",
    "sns.heatmap(correlation,square = True,annot = True)"
   ]
  },
  {
   "cell_type": "markdown",
   "metadata": {
    "papermill": {
     "duration": 0.031597,
     "end_time": "2022-08-10T01:26:31.597827",
     "exception": false,
     "start_time": "2022-08-10T01:26:31.566230",
     "status": "completed"
    },
    "tags": []
   },
   "source": [
    "By looking at the correlation plot LSAT is negatively correlated with -0.75 and RM is positively correlated to the price and PTRATIO is correlated negatively with -0.51"
   ]
  },
  {
   "cell_type": "code",
   "execution_count": 261,
   "metadata": {
    "papermill": {
     "duration": 0.387502,
     "end_time": "2022-08-10T01:26:32.016736",
     "exception": false,
     "start_time": "2022-08-10T01:26:31.629234",
     "status": "completed"
    },
    "tags": []
   },
   "outputs": [
    {
     "data": {
      "image/png": "[encoded data removed]",
      "text/plain": [
       "<Figure size 2000x500 with 3 Axes>"
      ]
     },
     "metadata": {},
     "output_type": "display_data"
    }
   ],
   "source": [
    "# Checking the scatter plot with the most correlated features\n",
    "plt.figure(figsize = (20,5))\n",
    "features = ['LSTAT','RM','PTRATIO']\n",
    "for i, col in enumerate(features):\n",
    "    plt.subplot(1, len(features) , i+1)\n",
    "    x = data[col]\n",
    "    y = data.PRICE\n",
    "    plt.scatter(x, y, marker='o')\n",
    "    plt.title(\"Variation in House prices\")\n",
    "    plt.xlabel(col)\n",
    "    plt.ylabel('\"House prices in $1000\"')"
   ]
  },
  {
   "cell_type": "markdown",
   "metadata": {
    "papermill": {
     "duration": 0.033744,
     "end_time": "2022-08-10T01:26:32.083523",
     "exception": false,
     "start_time": "2022-08-10T01:26:32.049779",
     "status": "completed"
    },
    "tags": []
   },
   "source": [
    "<a id = 'split'></a>\n",
    "### Splitting the dependent feature and independent feature "
   ]
  },
  {
   "cell_type": "code",
   "execution_count": 262,
   "metadata": {
    "papermill": {
     "duration": 0.041028,
     "end_time": "2022-08-10T01:26:32.158598",
     "exception": false,
     "start_time": "2022-08-10T01:26:32.117570",
     "status": "completed"
    },
    "tags": []
   },
   "outputs": [],
   "source": [
    "#X = data[['LSTAT','RM','PTRATIO']]\n",
    "X = data.iloc[:,:-1]\n",
    "y= data.PRICE"
   ]
  },
  {
   "cell_type": "markdown",
   "metadata": {
    "papermill": {
     "duration": 0.033364,
     "end_time": "2022-08-10T01:26:32.226273",
     "exception": false,
     "start_time": "2022-08-10T01:26:32.192909",
     "status": "completed"
    },
    "tags": []
   },
   "source": [
    "<a id = 'valid'></a>\n",
    "### Splitting the data for Model Validation "
   ]
  },
  {
   "cell_type": "code",
   "execution_count": 263,
   "metadata": {
    "papermill": {
     "duration": 0.100655,
     "end_time": "2022-08-10T01:26:32.361581",
     "exception": false,
     "start_time": "2022-08-10T01:26:32.260926",
     "status": "completed"
    },
    "tags": []
   },
   "outputs": [],
   "source": [
    "# Splitting the data into train and test for building the model\n",
    "from sklearn.model_selection import train_test_split\n",
    "X_train, X_test, y_train, y_test = train_test_split(X,y, test_size = 0.2, random_state = 4)"
   ]
  },
  {
   "cell_type": "markdown",
   "metadata": {
    "papermill": {
     "duration": 0.033268,
     "end_time": "2022-08-10T01:26:32.429314",
     "exception": false,
     "start_time": "2022-08-10T01:26:32.396046",
     "status": "completed"
    },
    "tags": []
   },
   "source": [
    "<a id = 'build'></a>\n",
    "### Building the Model "
   ]
  },
  {
   "cell_type": "code",
   "execution_count": 264,
   "metadata": {
    "papermill": {
     "duration": 0.132276,
     "end_time": "2022-08-10T01:26:32.594764",
     "exception": false,
     "start_time": "2022-08-10T01:26:32.462488",
     "status": "completed"
    },
    "tags": []
   },
   "outputs": [],
   "source": [
    "#Linear Regression \n",
    "from sklearn.linear_model import LinearRegression\n",
    "regressor = LinearRegression()"
   ]
  },
  {
   "cell_type": "code",
   "execution_count": 265,
   "metadata": {
    "papermill": {
     "duration": 0.081726,
     "end_time": "2022-08-10T01:26:32.710054",
     "exception": false,
     "start_time": "2022-08-10T01:26:32.628328",
     "status": "completed"
    },
    "tags": []
   },
   "outputs": [
    {
     "data": {
      "text/html": [
       "<style>#sk-container-id-6 {\n",
       "  /* Definition of color scheme common for light and dark mode */\n",
       "  --sklearn-color-text: black;\n",
       "  --sklearn-color-line: gray;\n",
       "  /* Definition of color scheme for unfitted estimators */\n",
       "  --sklearn-color-unfitted-level-0: #fff5e6;\n",
       "  --sklearn-color-unfitted-level-1: #f6e4d2;\n",
       "  --sklearn-color-unfitted-level-2: #ffe0b3;\n",
       "  --sklearn-color-unfitted-level-3: chocolate;\n",
       "  /* Definition of color scheme for fitted estimators */\n",
       "  --sklearn-color-fitted-level-0: #f0f8ff;\n",
       "  --sklearn-color-fitted-level-1: #d4ebff;\n",
       "  --sklearn-color-fitted-level-2: #b3dbfd;\n",
       "  --sklearn-color-fitted-level-3: cornflowerblue;\n",
       "\n",
       "  /* Specific color for light theme */\n",
       "  --sklearn-color-text-on-default-background: var(--sg-text-color, var(--theme-code-foreground, var(--jp-content-font-color1, black)));\n",
       "  --sklearn-color-background: var(--sg-background-color, var(--theme-background, var(--jp-layout-color0, white)));\n",
       "  --sklearn-color-border-box: var(--sg-text-color, var(--theme-code-foreground, var(--jp-content-font-color1, black)));\n",
       "  --sklearn-color-icon: #696969;\n",
       "\n",
       "  @media (prefers-color-scheme: dark) {\n",
       "    /* Redefinition of color scheme for dark theme */\n",
       "    --sklearn-color-text-on-default-background: var(--sg-text-color, var(--theme-code-foreground, var(--jp-content-font-color1, white)));\n",
       "    --sklearn-color-background: var(--sg-background-color, var(--theme-background, var(--jp-layout-color0, #111)));\n",
       "    --sklearn-color-border-box: var(--sg-text-color, var(--theme-code-foreground, var(--jp-content-font-color1, white)));\n",
       "    --sklearn-color-icon: #878787;\n",
       "  }\n",
       "}\n",
       "\n",
       "#sk-container-id-6 {\n",
       "  color: var(--sklearn-color-text);\n",
       "}\n",
       "\n",
       "#sk-container-id-6 pre {\n",
       "  padding: 0;\n",
       "}\n",
       "\n",
       "#sk-container-id-6 input.sk-hidden--visually {\n",
       "  border: 0;\n",
       "  clip: rect(1px 1px 1px 1px);\n",
       "  clip: rect(1px, 1px, 1px, 1px);\n",
       "  height: 1px;\n",
       "  margin: -1px;\n",
       "  overflow: hidden;\n",
       "  padding: 0;\n",
       "  position: absolute;\n",
       "  width: 1px;\n",
       "}\n",
       "\n",
       "#sk-container-id-6 div.sk-dashed-wrapped {\n",
       "  border: 1px dashed var(--sklearn-color-line);\n",
       "  margin: 0 0.4em 0.5em 0.4em;\n",
       "  box-sizing: border-box;\n",
       "  padding-bottom: 0.4em;\n",
       "  background-color: var(--sklearn-color-background);\n",
       "}\n",
       "\n",
       "#sk-container-id-6 div.sk-container {\n",
       "  /* jupyter's `normalize.less` sets `[hidden] { display: none; }`\n",
       "     but bootstrap.min.css set `[hidden] { display: none !important; }`\n",
       "     so we also need the `!important` here to be able to override the\n",
       "     default hidden behavior on the sphinx rendered scikit-learn.org.\n",
       "     See: https://github.com/scikit-learn/scikit-learn/issues/21755 */\n",
       "  display: inline-block !important;\n",
       "  position: relative;\n",
       "}\n",
       "\n",
       "#sk-container-id-6 div.sk-text-repr-fallback {\n",
       "  display: none;\n",
       "}\n",
       "\n",
       "div.sk-parallel-item,\n",
       "div.sk-serial,\n",
       "div.sk-item {\n",
       "  /* draw centered vertical line to link estimators */\n",
       "  background-image: linear-gradient(var(--sklearn-color-text-on-default-background), var(--sklearn-color-text-on-default-background));\n",
       "  background-size: 2px 100%;\n",
       "  background-repeat: no-repeat;\n",
       "  background-position: center center;\n",
       "}\n",
       "\n",
       "/* Parallel-specific style estimator block */\n",
       "\n",
       "#sk-container-id-6 div.sk-parallel-item::after {\n",
       "  content: \"\";\n",
       "  width: 100%;\n",
       "  border-bottom: 2px solid var(--sklearn-color-text-on-default-background);\n",
       "  flex-grow: 1;\n",
       "}\n",
       "\n",
       "#sk-container-id-6 div.sk-parallel {\n",
       "  display: flex;\n",
       "  align-items: stretch;\n",
       "  justify-content: center;\n",
       "  background-color: var(--sklearn-color-background);\n",
       "  position: relative;\n",
       "}\n",
       "\n",
       "#sk-container-id-6 div.sk-parallel-item {\n",
       "  display: flex;\n",
       "  flex-direction: column;\n",
       "}\n",
       "\n",
       "#sk-container-id-6 div.sk-parallel-item:first-child::after {\n",
       "  align-self: flex-end;\n",
       "  width: 50%;\n",
       "}\n",
       "\n",
       "#sk-container-id-6 div.sk-parallel-item:last-child::after {\n",
       "  align-self: flex-start;\n",
       "  width: 50%;\n",
       "}\n",
       "\n",
       "#sk-container-id-6 div.sk-parallel-item:only-child::after {\n",
       "  width: 0;\n",
       "}\n",
       "\n",
       "/* Serial-specific style estimator block */\n",
       "\n",
       "#sk-container-id-6 div.sk-serial {\n",
       "  display: flex;\n",
       "  flex-direction: column;\n",
       "  align-items: center;\n",
       "  background-color: var(--sklearn-color-background);\n",
       "  padding-right: 1em;\n",
       "  padding-left: 1em;\n",
       "}\n",
       "\n",
       "\n",
       "/* Toggleable style: style used for estimator/Pipeline/ColumnTransformer box that is\n",
       "clickable and can be expanded/collapsed.\n",
       "- Pipeline and ColumnTransformer use this feature and define the default style\n",
       "- Estimators will overwrite some part of the style using the `sk-estimator` class\n",
       "*/\n",
       "\n",
       "/* Pipeline and ColumnTransformer style (default) */\n",
       "\n",
       "#sk-container-id-6 div.sk-toggleable {\n",
       "  /* Default theme specific background. It is overwritten whether we have a\n",
       "  specific estimator or a Pipeline/ColumnTransformer */\n",
       "  background-color: var(--sklearn-color-background);\n",
       "}\n",
       "\n",
       "/* Toggleable label */\n",
       "#sk-container-id-6 label.sk-toggleable__label {\n",
       "  cursor: pointer;\n",
       "  display: block;\n",
       "  width: 100%;\n",
       "  margin-bottom: 0;\n",
       "  padding: 0.5em;\n",
       "  box-sizing: border-box;\n",
       "  text-align: center;\n",
       "}\n",
       "\n",
       "#sk-container-id-6 label.sk-toggleable__label-arrow:before {\n",
       "  /* Arrow on the left of the label */\n",
       "  content: \"▸\";\n",
       "  float: left;\n",
       "  margin-right: 0.25em;\n",
       "  color: var(--sklearn-color-icon);\n",
       "}\n",
       "\n",
       "#sk-container-id-6 label.sk-toggleable__label-arrow:hover:before {\n",
       "  color: var(--sklearn-color-text);\n",
       "}\n",
       "\n",
       "/* Toggleable content - dropdown */\n",
       "\n",
       "#sk-container-id-6 div.sk-toggleable__content {\n",
       "  max-height: 0;\n",
       "  max-width: 0;\n",
       "  overflow: hidden;\n",
       "  text-align: left;\n",
       "  /* unfitted */\n",
       "  background-color: var(--sklearn-color-unfitted-level-0);\n",
       "}\n",
       "\n",
       "#sk-container-id-6 div.sk-toggleable__content.fitted {\n",
       "  /* fitted */\n",
       "  background-color: var(--sklearn-color-fitted-level-0);\n",
       "}\n",
       "\n",
       "#sk-container-id-6 div.sk-toggleable__content pre {\n",
       "  margin: 0.2em;\n",
       "  border-radius: 0.25em;\n",
       "  color: var(--sklearn-color-text);\n",
       "  /* unfitted */\n",
       "  background-color: var(--sklearn-color-unfitted-level-0);\n",
       "}\n",
       "\n",
       "#sk-container-id-6 div.sk-toggleable__content.fitted pre {\n",
       "  /* unfitted */\n",
       "  background-color: var(--sklearn-color-fitted-level-0);\n",
       "}\n",
       "\n",
       "#sk-container-id-6 input.sk-toggleable__control:checked~div.sk-toggleable__content {\n",
       "  /* Expand drop-down */\n",
       "  max-height: 200px;\n",
       "  max-width: 100%;\n",
       "  overflow: auto;\n",
       "}\n",
       "\n",
       "#sk-container-id-6 input.sk-toggleable__control:checked~label.sk-toggleable__label-arrow:before {\n",
       "  content: \"▾\";\n",
       "}\n",
       "\n",
       "/* Pipeline/ColumnTransformer-specific style */\n",
       "\n",
       "#sk-container-id-6 div.sk-label input.sk-toggleable__control:checked~label.sk-toggleable__label {\n",
       "  color: var(--sklearn-color-text);\n",
       "  background-color: var(--sklearn-color-unfitted-level-2);\n",
       "}\n",
       "\n",
       "#sk-container-id-6 div.sk-label.fitted input.sk-toggleable__control:checked~label.sk-toggleable__label {\n",
       "  background-color: var(--sklearn-color-fitted-level-2);\n",
       "}\n",
       "\n",
       "/* Estimator-specific style */\n",
       "\n",
       "/* Colorize estimator box */\n",
       "#sk-container-id-6 div.sk-estimator input.sk-toggleable__control:checked~label.sk-toggleable__label {\n",
       "  /* unfitted */\n",
       "  background-color: var(--sklearn-color-unfitted-level-2);\n",
       "}\n",
       "\n",
       "#sk-container-id-6 div.sk-estimator.fitted input.sk-toggleable__control:checked~label.sk-toggleable__label {\n",
       "  /* fitted */\n",
       "  background-color: var(--sklearn-color-fitted-level-2);\n",
       "}\n",
       "\n",
       "#sk-container-id-6 div.sk-label label.sk-toggleable__label,\n",
       "#sk-container-id-6 div.sk-label label {\n",
       "  /* The background is the default theme color */\n",
       "  color: var(--sklearn-color-text-on-default-background);\n",
       "}\n",
       "\n",
       "/* On hover, darken the color of the background */\n",
       "#sk-container-id-6 div.sk-label:hover label.sk-toggleable__label {\n",
       "  color: var(--sklearn-color-text);\n",
       "  background-color: var(--sklearn-color-unfitted-level-2);\n",
       "}\n",
       "\n",
       "/* Label box, darken color on hover, fitted */\n",
       "#sk-container-id-6 div.sk-label.fitted:hover label.sk-toggleable__label.fitted {\n",
       "  color: var(--sklearn-color-text);\n",
       "  background-color: var(--sklearn-color-fitted-level-2);\n",
       "}\n",
       "\n",
       "/* Estimator label */\n",
       "\n",
       "#sk-container-id-6 div.sk-label label {\n",
       "  font-family: monospace;\n",
       "  font-weight: bold;\n",
       "  display: inline-block;\n",
       "  line-height: 1.2em;\n",
       "}\n",
       "\n",
       "#sk-container-id-6 div.sk-label-container {\n",
       "  text-align: center;\n",
       "}\n",
       "\n",
       "/* Estimator-specific */\n",
       "#sk-container-id-6 div.sk-estimator {\n",
       "  font-family: monospace;\n",
       "  border: 1px dotted var(--sklearn-color-border-box);\n",
       "  border-radius: 0.25em;\n",
       "  box-sizing: border-box;\n",
       "  margin-bottom: 0.5em;\n",
       "  /* unfitted */\n",
       "  background-color: var(--sklearn-color-unfitted-level-0);\n",
       "}\n",
       "\n",
       "#sk-container-id-6 div.sk-estimator.fitted {\n",
       "  /* fitted */\n",
       "  background-color: var(--sklearn-color-fitted-level-0);\n",
       "}\n",
       "\n",
       "/* on hover */\n",
       "#sk-container-id-6 div.sk-estimator:hover {\n",
       "  /* unfitted */\n",
       "  background-color: var(--sklearn-color-unfitted-level-2);\n",
       "}\n",
       "\n",
       "#sk-container-id-6 div.sk-estimator.fitted:hover {\n",
       "  /* fitted */\n",
       "  background-color: var(--sklearn-color-fitted-level-2);\n",
       "}\n",
       "\n",
       "/* Specification for estimator info (e.g. \"i\" and \"?\") */\n",
       "\n",
       "/* Common style for \"i\" and \"?\" */\n",
       "\n",
       ".sk-estimator-doc-link,\n",
       "a:link.sk-estimator-doc-link,\n",
       "a:visited.sk-estimator-doc-link {\n",
       "  float: right;\n",
       "  font-size: smaller;\n",
       "  line-height: 1em;\n",
       "  font-family: monospace;\n",
       "  background-color: var(--sklearn-color-background);\n",
       "  border-radius: 1em;\n",
       "  height: 1em;\n",
       "  width: 1em;\n",
       "  text-decoration: none !important;\n",
       "  margin-left: 1ex;\n",
       "  /* unfitted */\n",
       "  border: var(--sklearn-color-unfitted-level-1) 1pt solid;\n",
       "  color: var(--sklearn-color-unfitted-level-1);\n",
       "}\n",
       "\n",
       ".sk-estimator-doc-link.fitted,\n",
       "a:link.sk-estimator-doc-link.fitted,\n",
       "a:visited.sk-estimator-doc-link.fitted {\n",
       "  /* fitted */\n",
       "  border: var(--sklearn-color-fitted-level-1) 1pt solid;\n",
       "  color: var(--sklearn-color-fitted-level-1);\n",
       "}\n",
       "\n",
       "/* On hover */\n",
       "div.sk-estimator:hover .sk-estimator-doc-link:hover,\n",
       ".sk-estimator-doc-link:hover,\n",
       "div.sk-label-container:hover .sk-estimator-doc-link:hover,\n",
       ".sk-estimator-doc-link:hover {\n",
       "  /* unfitted */\n",
       "  background-color: var(--sklearn-color-unfitted-level-3);\n",
       "  color: var(--sklearn-color-background);\n",
       "  text-decoration: none;\n",
       "}\n",
       "\n",
       "div.sk-estimator.fitted:hover .sk-estimator-doc-link.fitted:hover,\n",
       ".sk-estimator-doc-link.fitted:hover,\n",
       "div.sk-label-container:hover .sk-estimator-doc-link.fitted:hover,\n",
       ".sk-estimator-doc-link.fitted:hover {\n",
       "  /* fitted */\n",
       "  background-color: var(--sklearn-color-fitted-level-3);\n",
       "  color: var(--sklearn-color-background);\n",
       "  text-decoration: none;\n",
       "}\n",
       "\n",
       "/* Span, style for the box shown on hovering the info icon */\n",
       ".sk-estimator-doc-link span {\n",
       "  display: none;\n",
       "  z-index: 9999;\n",
       "  position: relative;\n",
       "  font-weight: normal;\n",
       "  right: .2ex;\n",
       "  padding: .5ex;\n",
       "  margin: .5ex;\n",
       "  width: min-content;\n",
       "  min-width: 20ex;\n",
       "  max-width: 50ex;\n",
       "  color: var(--sklearn-color-text);\n",
       "  box-shadow: 2pt 2pt 4pt #999;\n",
       "  /* unfitted */\n",
       "  background: var(--sklearn-color-unfitted-level-0);\n",
       "  border: .5pt solid var(--sklearn-color-unfitted-level-3);\n",
       "}\n",
       "\n",
       ".sk-estimator-doc-link.fitted span {\n",
       "  /* fitted */\n",
       "  background: var(--sklearn-color-fitted-level-0);\n",
       "  border: var(--sklearn-color-fitted-level-3);\n",
       "}\n",
       "\n",
       ".sk-estimator-doc-link:hover span {\n",
       "  display: block;\n",
       "}\n",
       "\n",
       "/* \"?\"-specific style due to the `<a>` HTML tag */\n",
       "\n",
       "#sk-container-id-6 a.estimator_doc_link {\n",
       "  float: right;\n",
       "  font-size: 1rem;\n",
       "  line-height: 1em;\n",
       "  font-family: monospace;\n",
       "  background-color: var(--sklearn-color-background);\n",
       "  border-radius: 1rem;\n",
       "  height: 1rem;\n",
       "  width: 1rem;\n",
       "  text-decoration: none;\n",
       "  /* unfitted */\n",
       "  color: var(--sklearn-color-unfitted-level-1);\n",
       "  border: var(--sklearn-color-unfitted-level-1) 1pt solid;\n",
       "}\n",
       "\n",
       "#sk-container-id-6 a.estimator_doc_link.fitted {\n",
       "  /* fitted */\n",
       "  border: var(--sklearn-color-fitted-level-1) 1pt solid;\n",
       "  color: var(--sklearn-color-fitted-level-1);\n",
       "}\n",
       "\n",
       "/* On hover */\n",
       "#sk-container-id-6 a.estimator_doc_link:hover {\n",
       "  /* unfitted */\n",
       "  background-color: var(--sklearn-color-unfitted-level-3);\n",
       "  color: var(--sklearn-color-background);\n",
       "  text-decoration: none;\n",
       "}\n",
       "\n",
       "#sk-container-id-6 a.estimator_doc_link.fitted:hover {\n",
       "  /* fitted */\n",
       "  background-color: var(--sklearn-color-fitted-level-3);\n",
       "}\n",
       "</style><div id=\"sk-container-id-6\" class=\"sk-top-container\"><div class=\"sk-text-repr-fallback\"><pre>LinearRegression()</pre><b>In a Jupyter environment, please rerun this cell to show the HTML representation or trust the notebook. <br />On GitHub, the HTML representation is unable to render, please try loading this page with nbviewer.org.</b></div><div class=\"sk-container\" hidden><div class=\"sk-item\"><div class=\"sk-estimator fitted sk-toggleable\"><input class=\"sk-toggleable__control sk-hidden--visually\" id=\"sk-estimator-id-6\" type=\"checkbox\" checked><label for=\"sk-estimator-id-6\" class=\"sk-toggleable__label fitted sk-toggleable__label-arrow fitted\">&nbsp;&nbsp;LinearRegression<a class=\"sk-estimator-doc-link fitted\" rel=\"noreferrer\" target=\"_blank\" href=\"https://scikit-learn.org/1.4/modules/generated/sklearn.linear_model.LinearRegression.html\">?<span>Documentation for LinearRegression</span></a><span class=\"sk-estimator-doc-link fitted\">i<span>Fitted</span></span></label><div class=\"sk-toggleable__content fitted\"><pre>LinearRegression()</pre></div> </div></div></div></div>"
      ],
      "text/plain": [
       "LinearRegression()"
      ]
     },
     "execution_count": 265,
     "metadata": {},
     "output_type": "execute_result"
    }
   ],
   "source": [
    "#Fitting the model\n",
    "regressor.fit(X_train,y_train)"
   ]
  },
  {
   "cell_type": "markdown",
   "metadata": {
    "papermill": {
     "duration": 0.035156,
     "end_time": "2022-08-10T01:26:32.779807",
     "exception": false,
     "start_time": "2022-08-10T01:26:32.744651",
     "status": "completed"
    },
    "tags": []
   },
   "source": [
    "<a id = 'evaluate'></a>\n",
    "### Model Evaluation"
   ]
  },
  {
   "cell_type": "code",
   "execution_count": 266,
   "metadata": {
    "papermill": {
     "duration": 0.044206,
     "end_time": "2022-08-10T01:26:32.858700",
     "exception": false,
     "start_time": "2022-08-10T01:26:32.814494",
     "status": "completed"
    },
    "tags": []
   },
   "outputs": [
    {
     "name": "stderr",
     "output_type": "stream",
     "text": [
      "C:\\Users\\adity\\AppData\\Local\\Programs\\Python\\Python311\\Lib\\site-packages\\sklearn\\base.py:493: UserWarning: X does not have valid feature names, but LinearRegression was fitted with feature names\n",
      "  warnings.warn(\n"
     ]
    }
   ],
   "source": [
    "# Convert X_test to a NumPy array\n",
    "X_test = np.array(X_test)\n",
    "#Prediction on the test dataset\n",
    "y_pred = regressor.predict(X_test)"
   ]
  },
  {
   "cell_type": "code",
   "execution_count": 267,
   "metadata": {
    "papermill": {
     "duration": 0.047136,
     "end_time": "2022-08-10T01:26:32.940854",
     "exception": false,
     "start_time": "2022-08-10T01:26:32.893718",
     "status": "completed"
    },
    "tags": []
   },
   "outputs": [
    {
     "name": "stdout",
     "output_type": "stream",
     "text": [
      "2.363223614418879e-14\n"
     ]
    }
   ],
   "source": [
    "# Predicting RMSE the Test set results\n",
    "from sklearn.metrics import mean_squared_error\n",
    "rmse = (np.sqrt(mean_squared_error(y_test, y_pred)))\n",
    "print(rmse)"
   ]
  },
  {
   "cell_type": "code",
   "execution_count": 268,
   "metadata": {
    "papermill": {
     "duration": 0.044196,
     "end_time": "2022-08-10T01:26:33.019917",
     "exception": false,
     "start_time": "2022-08-10T01:26:32.975721",
     "status": "completed"
    },
    "tags": []
   },
   "outputs": [
    {
     "name": "stdout",
     "output_type": "stream",
     "text": [
      "1.0\n"
     ]
    }
   ],
   "source": [
    "from sklearn.metrics import r2_score\n",
    "r2 = r2_score(y_test, y_pred)\n",
    "print(r2)"
   ]
  },
  {
   "cell_type": "markdown",
   "metadata": {
    "papermill": {
     "duration": 0.035405,
     "end_time": "2022-08-10T01:26:33.089945",
     "exception": false,
     "start_time": "2022-08-10T01:26:33.054540",
     "status": "completed"
    },
    "tags": []
   },
   "source": [
    "### Neural Networks"
   ]
  },
  {
   "cell_type": "code",
   "execution_count": 269,
   "metadata": {
    "scrolled": true
   },
   "outputs": [],
   "source": [
    "# !pip install tensorflow\n",
    "# !pip install keras"
   ]
  },
  {
   "cell_type": "code",
   "execution_count": 270,
   "metadata": {
    "papermill": {
     "duration": 0.278206,
     "end_time": "2022-08-10T01:26:33.557268",
     "exception": false,
     "start_time": "2022-08-10T01:26:33.279062",
     "status": "completed"
    },
    "tags": []
   },
   "outputs": [],
   "source": [
    "#Creating the neural network model\n",
    "import keras\n",
    "from keras.layers import Dense, Activation,Dropout\n",
    "from keras.models import Sequential\n",
    "\n",
    "model = Sequential()\n",
    "\n",
    "model.add(Dense(128,activation  = 'relu',input_dim =13))\n",
    "model.add(Dense(64,activation  = 'relu'))\n",
    "model.add(Dense(32,activation  = 'relu'))\n",
    "model.add(Dense(16,activation  = 'relu'))\n",
    "model.add(Dense(1))\n",
    "model.compile(optimizer = 'adam',loss = 'mean_squared_error')"
   ]
  },
  {
   "cell_type": "code",
   "execution_count": 271,
   "metadata": {
    "papermill": {
     "duration": 0.048668,
     "end_time": "2022-08-10T01:26:33.173274",
     "exception": false,
     "start_time": "2022-08-10T01:26:33.124606",
     "status": "completed"
    },
    "tags": []
   },
   "outputs": [
    {
     "name": "stderr",
     "output_type": "stream",
     "text": [
      "C:\\Users\\adity\\AppData\\Local\\Programs\\Python\\Python311\\Lib\\site-packages\\sklearn\\base.py:493: UserWarning: X does not have valid feature names, but StandardScaler was fitted with feature names\n",
      "  warnings.warn(\n"
     ]
    }
   ],
   "source": [
    "# # Select only the first 13 features  for offline \n",
    "# # Correct slicing for Pandas DataFrame\n",
    "# # For Pandas DataFrame\n",
    "# X_train = X_train.iloc[:, :13]\n",
    "# # For NumPy array\n",
    "# X_test = X_test[:, :13]\n",
    "# from sklearn.preprocessing import StandardScaler\n",
    "# sc = StandardScaler()\n",
    "# X_train = sc.fit_transform(X_train)\n",
    "# X_test = sc.transform(X_test)\n",
    "\n",
    "\n",
    "\n",
    "\n",
    "\n",
    "\n",
    "\n",
    "\n",
    "\n",
    "\n",
    "\n",
    "\n",
    "\n",
    "\n",
    "\n",
    "\n",
    "#for online\n",
    "\n",
    "# #Scaling the dataset\n",
    "from sklearn.preprocessing import StandardScaler\n",
    "sc = StandardScaler()\n",
    "X_train = sc.fit_transform(X_train)\n",
    "X_test = sc.transform(X_test)"
   ]
  },
  {
   "cell_type": "code",
   "execution_count": 272,
   "metadata": {
    "papermill": {
     "duration": 3.012095,
     "end_time": "2022-08-10T01:26:36.605106",
     "exception": false,
     "start_time": "2022-08-10T01:26:33.593011",
     "status": "completed"
    },
    "tags": []
   },
   "outputs": [
    {
     "name": "stdout",
     "output_type": "stream",
     "text": [
      "Epoch 1/100\n",
      "13/13 [==============================] - 1s 2ms/step - loss: 566.9527\n",
      "Epoch 2/100\n",
      "13/13 [==============================] - 0s 2ms/step - loss: 508.8086\n",
      "Epoch 3/100\n",
      "13/13 [==============================] - 0s 2ms/step - loss: 362.6227\n",
      "Epoch 4/100\n",
      "13/13 [==============================] - 0s 2ms/step - loss: 123.9370\n",
      "Epoch 5/100\n",
      "13/13 [==============================] - 0s 2ms/step - loss: 66.8936\n",
      "Epoch 6/100\n",
      "13/13 [==============================] - 0s 2ms/step - loss: 38.3136\n",
      "Epoch 7/100\n",
      "13/13 [==============================] - 0s 2ms/step - loss: 31.3666\n",
      "Epoch 8/100\n",
      "13/13 [==============================] - 0s 2ms/step - loss: 28.0044\n",
      "Epoch 9/100\n",
      "13/13 [==============================] - 0s 2ms/step - loss: 25.3361\n",
      "Epoch 10/100\n",
      "13/13 [==============================] - 0s 2ms/step - loss: 23.7678\n",
      "Epoch 11/100\n",
      "13/13 [==============================] - 0s 2ms/step - loss: 22.2643\n",
      "Epoch 12/100\n",
      "13/13 [==============================] - 0s 2ms/step - loss: 21.4449\n",
      "Epoch 13/100\n",
      "13/13 [==============================] - 0s 2ms/step - loss: 20.4954\n",
      "Epoch 14/100\n",
      "13/13 [==============================] - 0s 2ms/step - loss: 19.4495\n",
      "Epoch 15/100\n",
      "13/13 [==============================] - 0s 2ms/step - loss: 18.6555\n",
      "Epoch 16/100\n",
      "13/13 [==============================] - 0s 2ms/step - loss: 18.0449\n",
      "Epoch 17/100\n",
      "13/13 [==============================] - 0s 2ms/step - loss: 17.4064\n",
      "Epoch 18/100\n",
      "13/13 [==============================] - 0s 2ms/step - loss: 16.9698\n",
      "Epoch 19/100\n",
      "13/13 [==============================] - 0s 2ms/step - loss: 16.7143\n",
      "Epoch 20/100\n",
      "13/13 [==============================] - 0s 2ms/step - loss: 16.1372\n",
      "Epoch 21/100\n",
      "13/13 [==============================] - 0s 2ms/step - loss: 16.3291\n",
      "Epoch 22/100\n",
      "13/13 [==============================] - 0s 2ms/step - loss: 15.4316\n",
      "Epoch 23/100\n",
      "13/13 [==============================] - 0s 2ms/step - loss: 15.0773\n",
      "Epoch 24/100\n",
      "13/13 [==============================] - 0s 2ms/step - loss: 14.9545\n",
      "Epoch 25/100\n",
      "13/13 [==============================] - 0s 2ms/step - loss: 14.3882\n",
      "Epoch 26/100\n",
      "13/13 [==============================] - 0s 2ms/step - loss: 14.3497\n",
      "Epoch 27/100\n",
      "13/13 [==============================] - 0s 2ms/step - loss: 14.1000\n",
      "Epoch 28/100\n",
      "13/13 [==============================] - 0s 5ms/step - loss: 13.9926\n",
      "Epoch 29/100\n",
      "13/13 [==============================] - 0s 2ms/step - loss: 13.4940\n",
      "Epoch 30/100\n",
      "13/13 [==============================] - 0s 1ms/step - loss: 13.4533\n",
      "Epoch 31/100\n",
      "13/13 [==============================] - 0s 2ms/step - loss: 13.9085\n",
      "Epoch 32/100\n",
      "13/13 [==============================] - 0s 1ms/step - loss: 13.3015\n",
      "Epoch 33/100\n",
      "13/13 [==============================] - 0s 2ms/step - loss: 12.6693\n",
      "Epoch 34/100\n",
      "13/13 [==============================] - 0s 2ms/step - loss: 12.8920\n",
      "Epoch 35/100\n",
      "13/13 [==============================] - 0s 2ms/step - loss: 12.3719\n",
      "Epoch 36/100\n",
      "13/13 [==============================] - 0s 2ms/step - loss: 12.3111\n",
      "Epoch 37/100\n",
      "13/13 [==============================] - 0s 2ms/step - loss: 12.3013\n",
      "Epoch 38/100\n",
      "13/13 [==============================] - 0s 2ms/step - loss: 11.9334\n",
      "Epoch 39/100\n",
      "13/13 [==============================] - 0s 2ms/step - loss: 11.8501\n",
      "Epoch 40/100\n",
      "13/13 [==============================] - 0s 2ms/step - loss: 11.6726\n",
      "Epoch 41/100\n",
      "13/13 [==============================] - 0s 2ms/step - loss: 11.6287\n",
      "Epoch 42/100\n",
      "13/13 [==============================] - 0s 2ms/step - loss: 11.6325\n",
      "Epoch 43/100\n",
      "13/13 [==============================] - 0s 2ms/step - loss: 11.2915\n",
      "Epoch 44/100\n",
      "13/13 [==============================] - 0s 2ms/step - loss: 11.0296\n",
      "Epoch 45/100\n",
      "13/13 [==============================] - 0s 2ms/step - loss: 10.8699\n",
      "Epoch 46/100\n",
      "13/13 [==============================] - 0s 2ms/step - loss: 10.8362\n",
      "Epoch 47/100\n",
      "13/13 [==============================] - 0s 2ms/step - loss: 10.7553\n",
      "Epoch 48/100\n",
      "13/13 [==============================] - 0s 2ms/step - loss: 10.8681\n",
      "Epoch 49/100\n",
      "13/13 [==============================] - 0s 2ms/step - loss: 10.6746\n",
      "Epoch 50/100\n",
      "13/13 [==============================] - 0s 2ms/step - loss: 10.1436\n",
      "Epoch 51/100\n",
      "13/13 [==============================] - 0s 2ms/step - loss: 10.4211\n",
      "Epoch 52/100\n",
      "13/13 [==============================] - 0s 2ms/step - loss: 10.3555\n",
      "Epoch 53/100\n",
      "13/13 [==============================] - 0s 2ms/step - loss: 10.3027\n",
      "Epoch 54/100\n",
      "13/13 [==============================] - 0s 2ms/step - loss: 10.1833\n",
      "Epoch 55/100\n",
      "13/13 [==============================] - 0s 2ms/step - loss: 9.7856\n",
      "Epoch 56/100\n",
      "13/13 [==============================] - 0s 2ms/step - loss: 9.5432\n",
      "Epoch 57/100\n",
      "13/13 [==============================] - 0s 2ms/step - loss: 9.4474\n",
      "Epoch 58/100\n",
      "13/13 [==============================] - 0s 2ms/step - loss: 9.2331\n",
      "Epoch 59/100\n",
      "13/13 [==============================] - 0s 2ms/step - loss: 9.1262\n",
      "Epoch 60/100\n",
      "13/13 [==============================] - 0s 2ms/step - loss: 9.2811\n",
      "Epoch 61/100\n",
      "13/13 [==============================] - 0s 2ms/step - loss: 9.1384\n",
      "Epoch 62/100\n",
      "13/13 [==============================] - 0s 2ms/step - loss: 9.2689\n",
      "Epoch 63/100\n",
      "13/13 [==============================] - 0s 2ms/step - loss: 9.9113\n",
      "Epoch 64/100\n",
      "13/13 [==============================] - 0s 2ms/step - loss: 8.7328\n",
      "Epoch 65/100\n",
      "13/13 [==============================] - 0s 2ms/step - loss: 8.3873\n",
      "Epoch 66/100\n",
      "13/13 [==============================] - 0s 2ms/step - loss: 8.4054\n",
      "Epoch 67/100\n",
      "13/13 [==============================] - 0s 2ms/step - loss: 8.3881\n",
      "Epoch 68/100\n",
      "13/13 [==============================] - 0s 2ms/step - loss: 8.1844\n",
      "Epoch 69/100\n",
      "13/13 [==============================] - 0s 2ms/step - loss: 8.1274\n",
      "Epoch 70/100\n",
      "13/13 [==============================] - 0s 2ms/step - loss: 7.9553\n",
      "Epoch 71/100\n",
      "13/13 [==============================] - 0s 2ms/step - loss: 8.2048\n",
      "Epoch 72/100\n",
      "13/13 [==============================] - 0s 2ms/step - loss: 8.0639\n",
      "Epoch 73/100\n",
      "13/13 [==============================] - 0s 2ms/step - loss: 7.6836\n",
      "Epoch 74/100\n",
      "13/13 [==============================] - 0s 2ms/step - loss: 8.0201\n",
      "Epoch 75/100\n",
      "13/13 [==============================] - 0s 2ms/step - loss: 7.5907\n",
      "Epoch 76/100\n",
      "13/13 [==============================] - 0s 2ms/step - loss: 7.5806\n",
      "Epoch 77/100\n",
      "13/13 [==============================] - 0s 2ms/step - loss: 7.3289\n",
      "Epoch 78/100\n",
      "13/13 [==============================] - 0s 2ms/step - loss: 7.7084\n",
      "Epoch 79/100\n",
      "13/13 [==============================] - 0s 2ms/step - loss: 8.2010\n",
      "Epoch 80/100\n",
      "13/13 [==============================] - 0s 2ms/step - loss: 7.3341\n",
      "Epoch 81/100\n",
      "13/13 [==============================] - 0s 2ms/step - loss: 7.1582\n",
      "Epoch 82/100\n",
      "13/13 [==============================] - 0s 2ms/step - loss: 7.2950\n",
      "Epoch 83/100\n",
      "13/13 [==============================] - 0s 2ms/step - loss: 6.8047\n",
      "Epoch 84/100\n",
      "13/13 [==============================] - 0s 2ms/step - loss: 6.7775\n",
      "Epoch 85/100\n",
      "13/13 [==============================] - 0s 2ms/step - loss: 7.0456\n",
      "Epoch 86/100\n",
      "13/13 [==============================] - 0s 2ms/step - loss: 6.8742\n",
      "Epoch 87/100\n",
      "13/13 [==============================] - 0s 2ms/step - loss: 6.6706\n",
      "Epoch 88/100\n",
      "13/13 [==============================] - 0s 2ms/step - loss: 6.6075\n",
      "Epoch 89/100\n",
      "13/13 [==============================] - 0s 2ms/step - loss: 6.2821\n",
      "Epoch 90/100\n",
      "13/13 [==============================] - 0s 2ms/step - loss: 6.4886\n",
      "Epoch 91/100\n",
      "13/13 [==============================] - 0s 2ms/step - loss: 6.1779\n",
      "Epoch 92/100\n",
      "13/13 [==============================] - 0s 2ms/step - loss: 6.2064\n",
      "Epoch 93/100\n",
      "13/13 [==============================] - 0s 2ms/step - loss: 6.1560\n",
      "Epoch 94/100\n",
      "13/13 [==============================] - 0s 2ms/step - loss: 6.0688\n",
      "Epoch 95/100\n",
      "13/13 [==============================] - 0s 5ms/step - loss: 5.9587\n",
      "Epoch 96/100\n",
      "13/13 [==============================] - 0s 2ms/step - loss: 6.1380\n",
      "Epoch 97/100\n",
      "13/13 [==============================] - 0s 3ms/step - loss: 6.0102\n",
      "Epoch 98/100\n",
      "13/13 [==============================] - 0s 2ms/step - loss: 6.2579\n",
      "Epoch 99/100\n",
      "13/13 [==============================] - 0s 2ms/step - loss: 6.1470\n",
      "Epoch 100/100\n",
      "13/13 [==============================] - 0s 2ms/step - loss: 6.1692\n"
     ]
    }
   ],
   "source": [
    "results=model.fit(X_train, y_train, epochs = 100)"
   ]
  },
  {
   "cell_type": "markdown",
   "metadata": {
    "papermill": {
     "duration": 0.096615,
     "end_time": "2022-08-10T01:26:36.816379",
     "exception": false,
     "start_time": "2022-08-10T01:26:36.719764",
     "status": "completed"
    },
    "tags": []
   },
   "source": [
    "### Evaluation of the model"
   ]
  },
  {
   "cell_type": "code",
   "execution_count": 273,
   "metadata": {
    "papermill": {
     "duration": 0.256434,
     "end_time": "2022-08-10T01:26:37.168937",
     "exception": false,
     "start_time": "2022-08-10T01:26:36.912503",
     "status": "completed"
    },
    "tags": []
   },
   "outputs": [
    {
     "name": "stdout",
     "output_type": "stream",
     "text": [
      "4/4 [==============================] - 0s 2ms/step\n"
     ]
    }
   ],
   "source": [
    "y_pred = model.predict(X_test)"
   ]
  },
  {
   "cell_type": "code",
   "execution_count": 274,
   "metadata": {
    "papermill": {
     "duration": 0.107329,
     "end_time": "2022-08-10T01:26:37.374517",
     "exception": false,
     "start_time": "2022-08-10T01:26:37.267188",
     "status": "completed"
    },
    "tags": []
   },
   "outputs": [
    {
     "name": "stdout",
     "output_type": "stream",
     "text": [
      "0.8120510283177003\n"
     ]
    }
   ],
   "source": [
    "from sklearn.metrics import r2_score\n",
    "r2 = r2_score(y_test, y_pred)\n",
    "print(r2)"
   ]
  },
  {
   "cell_type": "code",
   "execution_count": 275,
   "metadata": {
    "papermill": {
     "duration": 0.109177,
     "end_time": "2022-08-10T01:26:37.581665",
     "exception": false,
     "start_time": "2022-08-10T01:26:37.472488",
     "status": "completed"
    },
    "tags": []
   },
   "outputs": [
    {
     "name": "stdout",
     "output_type": "stream",
     "text": [
      "4.178329115144809\n"
     ]
    }
   ],
   "source": [
    "# Predicting RMSE the Test set results\n",
    "from sklearn.metrics import mean_squared_error\n",
    "rmse = (np.sqrt(mean_squared_error(y_test, y_pred)))\n",
    "print(rmse)"
   ]
  },
  {
   "cell_type": "code",
   "execution_count": 276,
   "metadata": {},
   "outputs": [
    {
     "data": {
      "image/png": "[encoded data removed]",
      "text/plain": [
       "<Figure size 640x480 with 1 Axes>"
      ]
     },
     "metadata": {},
     "output_type": "display_data"
    }
   ],
   "source": [
    "plt.plot(results.history['loss'])\n",
    "plt.title('Model Loss')\n",
    "plt.ylabel('Loss ')\n",
    "plt.xlabel('Epoch')\n",
    "plt.show()"
   ]
  },
  {
   "cell_type": "code",
   "execution_count": 277,
   "metadata": {},
   "outputs": [],
   "source": [
    "from keras.layers import Dropout\n",
    "from keras import regularizers\n",
    "\n",
    "\n",
    "model_3 = Sequential([\n",
    "    Dense(1000, activation='relu', kernel_regularizer=regularizers.l2(0.01), input_shape=(13,)),\n",
    "    Dropout(0.3),\n",
    "    Dense(1000, activation='relu', kernel_regularizer=regularizers.l2(0.01)),\n",
    "    Dropout(0.3),\n",
    "    Dense(1000, activation='relu', kernel_regularizer=regularizers.l2(0.01)),\n",
    "    Dropout(0.3),\n",
    "    Dense(1000, activation='relu', kernel_regularizer=regularizers.l2(0.01)),\n",
    "    Dropout(0.3),\n",
    "    Dense(1, activation='sigmoid', kernel_regularizer=regularizers.l2(0.01)),\n",
    "])"
   ]
  },
  {
   "cell_type": "code",
   "execution_count": 278,
   "metadata": {
    "scrolled": true
   },
   "outputs": [
    {
     "name": "stdout",
     "output_type": "stream",
     "text": [
      "Epoch 1/100\n",
      "13/13 [==============================] - 3s 72ms/step - loss: -4376.2925 - accuracy: 0.0000e+00 - val_loss: -32514.1543 - val_accuracy: 0.0000e+00\n",
      "Epoch 2/100\n",
      "13/13 [==============================] - 1s 48ms/step - loss: -217546.9531 - accuracy: 0.0000e+00 - val_loss: -825507.9375 - val_accuracy: 0.0000e+00\n",
      "Epoch 3/100\n",
      "13/13 [==============================] - 1s 52ms/step - loss: -2690374.0000 - accuracy: 0.0000e+00 - val_loss: -7920997.5000 - val_accuracy: 0.0000e+00\n",
      "Epoch 4/100\n",
      "13/13 [==============================] - 1s 48ms/step - loss: -18518230.0000 - accuracy: 0.0000e+00 - val_loss: -45684736.0000 - val_accuracy: 0.0000e+00\n",
      "Epoch 5/100\n",
      "13/13 [==============================] - 1s 47ms/step - loss: -88365120.0000 - accuracy: 0.0000e+00 - val_loss: -190998864.0000 - val_accuracy: 0.0000e+00\n",
      "Epoch 6/100\n",
      "13/13 [==============================] - 1s 49ms/step - loss: -328409568.0000 - accuracy: 0.0000e+00 - val_loss: -645882752.0000 - val_accuracy: 0.0000e+00\n",
      "Epoch 7/100\n",
      "13/13 [==============================] - 1s 46ms/step - loss: -1014948224.0000 - accuracy: 0.0000e+00 - val_loss: -1826086784.0000 - val_accuracy: 0.0000e+00\n",
      "Epoch 8/100\n",
      "13/13 [==============================] - 1s 50ms/step - loss: -2635117824.0000 - accuracy: 0.0000e+00 - val_loss: -4548872192.0000 - val_accuracy: 0.0000e+00\n",
      "Epoch 9/100\n",
      "13/13 [==============================] - 1s 47ms/step - loss: -6275402752.0000 - accuracy: 0.0000e+00 - val_loss: -10120357888.0000 - val_accuracy: 0.0000e+00\n",
      "Epoch 10/100\n",
      "13/13 [==============================] - 1s 46ms/step - loss: -13274025984.0000 - accuracy: 0.0000e+00 - val_loss: -20664621056.0000 - val_accuracy: 0.0000e+00\n",
      "Epoch 11/100\n",
      "13/13 [==============================] - 1s 45ms/step - loss: -26023753728.0000 - accuracy: 0.0000e+00 - val_loss: -39414501376.0000 - val_accuracy: 0.0000e+00\n",
      "Epoch 12/100\n",
      "13/13 [==============================] - 1s 46ms/step - loss: -47714365440.0000 - accuracy: 0.0000e+00 - val_loss: -70830858240.0000 - val_accuracy: 0.0000e+00\n",
      "Epoch 13/100\n",
      "13/13 [==============================] - 1s 47ms/step - loss: -84006813696.0000 - accuracy: 0.0000e+00 - val_loss: -120070348800.0000 - val_accuracy: 0.0000e+00\n",
      "Epoch 14/100\n",
      "13/13 [==============================] - 1s 47ms/step - loss: -139173822464.0000 - accuracy: 0.0000e+00 - val_loss: -195697360896.0000 - val_accuracy: 0.0000e+00\n",
      "Epoch 15/100\n",
      "13/13 [==============================] - 1s 45ms/step - loss: -223294324736.0000 - accuracy: 0.0000e+00 - val_loss: -306289147904.0000 - val_accuracy: 0.0000e+00\n",
      "Epoch 16/100\n",
      "13/13 [==============================] - 1s 47ms/step - loss: -343324852224.0000 - accuracy: 0.0000e+00 - val_loss: -467679117312.0000 - val_accuracy: 0.0000e+00\n",
      "Epoch 17/100\n",
      "13/13 [==============================] - 1s 47ms/step - loss: -514688942080.0000 - accuracy: 0.0000e+00 - val_loss: -690990284800.0000 - val_accuracy: 0.0000e+00\n",
      "Epoch 18/100\n",
      "13/13 [==============================] - 1s 46ms/step - loss: -751065300992.0000 - accuracy: 0.0000e+00 - val_loss: -992687554560.0000 - val_accuracy: 0.0000e+00\n",
      "Epoch 19/100\n",
      "13/13 [==============================] - 1s 46ms/step - loss: -1075766558720.0000 - accuracy: 0.0000e+00 - val_loss: -1398187884544.0000 - val_accuracy: 0.0000e+00\n",
      "Epoch 20/100\n",
      "13/13 [==============================] - 1s 46ms/step - loss: -1499197734912.0000 - accuracy: 0.0000e+00 - val_loss: -1932535922688.0000 - val_accuracy: 0.0000e+00\n",
      "Epoch 21/100\n",
      "13/13 [==============================] - 1s 46ms/step - loss: -2037084192768.0000 - accuracy: 0.0000e+00 - val_loss: -2612111605760.0000 - val_accuracy: 0.0000e+00\n",
      "Epoch 22/100\n",
      "13/13 [==============================] - 1s 46ms/step - loss: -2742918578176.0000 - accuracy: 0.0000e+00 - val_loss: -3474606522368.0000 - val_accuracy: 0.0000e+00\n",
      "Epoch 23/100\n",
      "13/13 [==============================] - 1s 48ms/step - loss: -3605054619648.0000 - accuracy: 0.0000e+00 - val_loss: -4563975798784.0000 - val_accuracy: 0.0000e+00\n",
      "Epoch 24/100\n",
      "13/13 [==============================] - 1s 47ms/step - loss: -4688212131840.0000 - accuracy: 0.0000e+00 - val_loss: -5891602513920.0000 - val_accuracy: 0.0000e+00\n",
      "Epoch 25/100\n",
      "13/13 [==============================] - 1s 47ms/step - loss: -6102087368704.0000 - accuracy: 0.0000e+00 - val_loss: -7543815405568.0000 - val_accuracy: 0.0000e+00\n",
      "Epoch 26/100\n",
      "13/13 [==============================] - 1s 45ms/step - loss: -7764868333568.0000 - accuracy: 0.0000e+00 - val_loss: -9547550818304.0000 - val_accuracy: 0.0000e+00\n",
      "Epoch 27/100\n",
      "13/13 [==============================] - 1s 46ms/step - loss: -9764219125760.0000 - accuracy: 0.0000e+00 - val_loss: -11978331389952.0000 - val_accuracy: 0.0000e+00\n",
      "Epoch 28/100\n",
      "13/13 [==============================] - 1s 48ms/step - loss: -12118534389760.0000 - accuracy: 0.0000e+00 - val_loss: -14902771056640.0000 - val_accuracy: 0.0000e+00\n",
      "Epoch 29/100\n",
      "13/13 [==============================] - 1s 45ms/step - loss: -15044756635648.0000 - accuracy: 0.0000e+00 - val_loss: -18307065315328.0000 - val_accuracy: 0.0000e+00\n",
      "Epoch 30/100\n",
      "13/13 [==============================] - 1s 46ms/step - loss: -18461900144640.0000 - accuracy: 0.0000e+00 - val_loss: -22408178171904.0000 - val_accuracy: 0.0000e+00\n",
      "Epoch 31/100\n",
      "13/13 [==============================] - 1s 46ms/step - loss: -22558745296896.0000 - accuracy: 0.0000e+00 - val_loss: -27153699700736.0000 - val_accuracy: 0.0000e+00\n",
      "Epoch 32/100\n",
      "13/13 [==============================] - 1s 46ms/step - loss: -27164667805696.0000 - accuracy: 0.0000e+00 - val_loss: -32680567635968.0000 - val_accuracy: 0.0000e+00\n",
      "Epoch 33/100\n",
      "13/13 [==============================] - 1s 46ms/step - loss: -32581087133696.0000 - accuracy: 0.0000e+00 - val_loss: -39126497755136.0000 - val_accuracy: 0.0000e+00\n",
      "Epoch 34/100\n",
      "13/13 [==============================] - 1s 47ms/step - loss: -38941692526592.0000 - accuracy: 0.0000e+00 - val_loss: -46367409963008.0000 - val_accuracy: 0.0000e+00\n",
      "Epoch 35/100\n",
      "13/13 [==============================] - 1s 46ms/step - loss: -46040216502272.0000 - accuracy: 0.0000e+00 - val_loss: -54657032388608.0000 - val_accuracy: 0.0000e+00\n",
      "Epoch 36/100\n",
      "13/13 [==============================] - 1s 45ms/step - loss: -53917765337088.0000 - accuracy: 0.0000e+00 - val_loss: -64350937153536.0000 - val_accuracy: 0.0000e+00\n",
      "Epoch 37/100\n",
      "13/13 [==============================] - 1s 44ms/step - loss: -63544380882944.0000 - accuracy: 0.0000e+00 - val_loss: -74857949691904.0000 - val_accuracy: 0.0000e+00\n",
      "Epoch 38/100\n",
      "13/13 [==============================] - 1s 45ms/step - loss: -73854621843456.0000 - accuracy: 0.0000e+00 - val_loss: -87023595552768.0000 - val_accuracy: 0.0000e+00\n",
      "Epoch 39/100\n",
      "13/13 [==============================] - 1s 45ms/step - loss: -85349229395968.0000 - accuracy: 0.0000e+00 - val_loss: -100501848850432.0000 - val_accuracy: 0.0000e+00\n",
      "Epoch 40/100\n",
      "13/13 [==============================] - 1s 45ms/step - loss: -99238281216000.0000 - accuracy: 0.0000e+00 - val_loss: -115664702406656.0000 - val_accuracy: 0.0000e+00\n",
      "Epoch 41/100\n",
      "13/13 [==============================] - 1s 45ms/step - loss: -113155183214592.0000 - accuracy: 0.0000e+00 - val_loss: -132873612951552.0000 - val_accuracy: 0.0000e+00\n",
      "Epoch 42/100\n",
      "13/13 [==============================] - 1s 45ms/step - loss: -130053874647040.0000 - accuracy: 0.0000e+00 - val_loss: -151753844588544.0000 - val_accuracy: 0.0000e+00\n",
      "Epoch 43/100\n",
      "13/13 [==============================] - 1s 45ms/step - loss: -148117903114240.0000 - accuracy: 0.0000e+00 - val_loss: -173032320532480.0000 - val_accuracy: 0.0000e+00\n",
      "Epoch 44/100\n",
      "13/13 [==============================] - 1s 45ms/step - loss: -168680663023616.0000 - accuracy: 0.0000e+00 - val_loss: -196173319110656.0000 - val_accuracy: 0.0000e+00\n",
      "Epoch 45/100\n",
      "13/13 [==============================] - 1s 44ms/step - loss: -191946047881216.0000 - accuracy: 0.0000e+00 - val_loss: -221498912538624.0000 - val_accuracy: 0.0000e+00\n",
      "Epoch 46/100\n",
      "13/13 [==============================] - 1s 44ms/step - loss: -215214519746560.0000 - accuracy: 0.0000e+00 - val_loss: -249983102091264.0000 - val_accuracy: 0.0000e+00\n",
      "Epoch 47/100\n",
      "13/13 [==============================] - 1s 45ms/step - loss: -243270588301312.0000 - accuracy: 0.0000e+00 - val_loss: -280686464335872.0000 - val_accuracy: 0.0000e+00\n",
      "Epoch 48/100\n",
      "13/13 [==============================] - 1s 46ms/step - loss: -271539542949888.0000 - accuracy: 0.0000e+00 - val_loss: -314692287332352.0000 - val_accuracy: 0.0000e+00\n",
      "Epoch 49/100\n",
      "13/13 [==============================] - 1s 48ms/step - loss: -303227274788864.0000 - accuracy: 0.0000e+00 - val_loss: -351779430596608.0000 - val_accuracy: 0.0000e+00\n",
      "Epoch 50/100\n",
      "13/13 [==============================] - 1s 44ms/step - loss: -339339326259200.0000 - accuracy: 0.0000e+00 - val_loss: -392174738866176.0000 - val_accuracy: 0.0000e+00\n",
      "Epoch 51/100\n",
      "13/13 [==============================] - 1s 46ms/step - loss: -379047909523456.0000 - accuracy: 0.0000e+00 - val_loss: -435860663173120.0000 - val_accuracy: 0.0000e+00\n",
      "Epoch 52/100\n",
      "13/13 [==============================] - 1s 44ms/step - loss: -420196481236992.0000 - accuracy: 0.0000e+00 - val_loss: -483033832488960.0000 - val_accuracy: 0.0000e+00\n",
      "Epoch 53/100\n",
      "13/13 [==============================] - 1s 44ms/step - loss: -466865830756352.0000 - accuracy: 0.0000e+00 - val_loss: -534093880098816.0000 - val_accuracy: 0.0000e+00\n",
      "Epoch 54/100\n",
      "13/13 [==============================] - 1s 44ms/step - loss: -515058249498624.0000 - accuracy: 0.0000e+00 - val_loss: -589365612904448.0000 - val_accuracy: 0.0000e+00\n",
      "Epoch 55/100\n",
      "13/13 [==============================] - 1s 44ms/step - loss: -569623862837248.0000 - accuracy: 0.0000e+00 - val_loss: -649074315362304.0000 - val_accuracy: 0.0000e+00\n",
      "Epoch 56/100\n",
      "13/13 [==============================] - 1s 43ms/step - loss: -622252781469696.0000 - accuracy: 0.0000e+00 - val_loss: -713977109676032.0000 - val_accuracy: 0.0000e+00\n",
      "Epoch 57/100\n",
      "13/13 [==============================] - 1s 44ms/step - loss: -686638501986304.0000 - accuracy: 0.0000e+00 - val_loss: -783541822554112.0000 - val_accuracy: 0.0000e+00\n",
      "Epoch 58/100\n",
      "13/13 [==============================] - 1s 45ms/step - loss: -751330037596160.0000 - accuracy: 0.0000e+00 - val_loss: -857548605358080.0000 - val_accuracy: 0.0000e+00\n",
      "Epoch 59/100\n",
      "13/13 [==============================] - 1s 45ms/step - loss: -817541656084480.0000 - accuracy: 0.0000e+00 - val_loss: -937104284581888.0000 - val_accuracy: 0.0000e+00\n",
      "Epoch 60/100\n",
      "13/13 [==============================] - 1s 44ms/step - loss: -897887139528704.0000 - accuracy: 0.0000e+00 - val_loss: -1023460910301184.0000 - val_accuracy: 0.0000e+00\n",
      "Epoch 61/100\n",
      "13/13 [==============================] - 1s 45ms/step - loss: -977256792981504.0000 - accuracy: 0.0000e+00 - val_loss: -1113261495812096.0000 - val_accuracy: 0.0000e+00\n",
      "Epoch 62/100\n",
      "13/13 [==============================] - 1s 44ms/step - loss: -1064252563521536.0000 - accuracy: 0.0000e+00 - val_loss: -1209686397288448.0000 - val_accuracy: 0.0000e+00\n",
      "Epoch 63/100\n",
      "13/13 [==============================] - 1s 43ms/step - loss: -1156032994738176.0000 - accuracy: 0.0000e+00 - val_loss: -1312752995926016.0000 - val_accuracy: 0.0000e+00\n",
      "Epoch 64/100\n",
      "13/13 [==============================] - 1s 44ms/step - loss: -1251538974539776.0000 - accuracy: 0.0000e+00 - val_loss: -1423561541550080.0000 - val_accuracy: 0.0000e+00\n",
      "Epoch 65/100\n",
      "13/13 [==============================] - 1s 44ms/step - loss: -1356159277596672.0000 - accuracy: 0.0000e+00 - val_loss: -1541652070006784.0000 - val_accuracy: 0.0000e+00\n",
      "Epoch 66/100\n",
      "13/13 [==============================] - 1s 47ms/step - loss: -1469085376315392.0000 - accuracy: 0.0000e+00 - val_loss: -1666275109502976.0000 - val_accuracy: 0.0000e+00\n",
      "Epoch 67/100\n",
      "13/13 [==============================] - 1s 44ms/step - loss: -1589623901913088.0000 - accuracy: 0.0000e+00 - val_loss: -1798413804896256.0000 - val_accuracy: 0.0000e+00\n",
      "Epoch 68/100\n",
      "13/13 [==============================] - 1s 43ms/step - loss: -1708219357462528.0000 - accuracy: 0.0000e+00 - val_loss: -1938834270978048.0000 - val_accuracy: 0.0000e+00\n",
      "Epoch 69/100\n",
      "13/13 [==============================] - 1s 45ms/step - loss: -1848797395156992.0000 - accuracy: 0.0000e+00 - val_loss: -2091149112115200.0000 - val_accuracy: 0.0000e+00\n",
      "Epoch 70/100\n",
      "13/13 [==============================] - 1s 43ms/step - loss: -1989624809390080.0000 - accuracy: 0.0000e+00 - val_loss: -2245395883229184.0000 - val_accuracy: 0.0000e+00\n",
      "Epoch 71/100\n",
      "13/13 [==============================] - 1s 44ms/step - loss: -2123900922101760.0000 - accuracy: 0.0000e+00 - val_loss: -2413983952797696.0000 - val_accuracy: 0.0000e+00\n",
      "Epoch 72/100\n",
      "13/13 [==============================] - 1s 43ms/step - loss: -2293729700347904.0000 - accuracy: 0.0000e+00 - val_loss: -2587697126309888.0000 - val_accuracy: 0.0000e+00\n",
      "Epoch 73/100\n",
      "13/13 [==============================] - 1s 43ms/step - loss: -2443836391424000.0000 - accuracy: 0.0000e+00 - val_loss: -2774694633668608.0000 - val_accuracy: 0.0000e+00\n",
      "Epoch 74/100\n",
      "13/13 [==============================] - 1s 44ms/step - loss: -2623808406028288.0000 - accuracy: 0.0000e+00 - val_loss: -2970754522021888.0000 - val_accuracy: 0.0000e+00\n",
      "Epoch 75/100\n",
      "13/13 [==============================] - 1s 43ms/step - loss: -2813783667900416.0000 - accuracy: 0.0000e+00 - val_loss: -3174456767807488.0000 - val_accuracy: 0.0000e+00\n",
      "Epoch 76/100\n",
      "13/13 [==============================] - 1s 45ms/step - loss: -2993288336375808.0000 - accuracy: 0.0000e+00 - val_loss: -3388948239876096.0000 - val_accuracy: 0.0000e+00\n",
      "Epoch 77/100\n",
      "13/13 [==============================] - 1s 44ms/step - loss: -3216212976730112.0000 - accuracy: 0.0000e+00 - val_loss: -3614719369805824.0000 - val_accuracy: 0.0000e+00\n",
      "Epoch 78/100\n",
      "13/13 [==============================] - 1s 43ms/step - loss: -3401270769483776.0000 - accuracy: 0.0000e+00 - val_loss: -3850152297103360.0000 - val_accuracy: 0.0000e+00\n",
      "Epoch 79/100\n",
      "13/13 [==============================] - 1s 49ms/step - loss: -3636659136495616.0000 - accuracy: 0.0000e+00 - val_loss: -4097347529211904.0000 - val_accuracy: 0.0000e+00\n",
      "Epoch 80/100\n",
      "13/13 [==============================] - 1s 45ms/step - loss: -3857861494964224.0000 - accuracy: 0.0000e+00 - val_loss: -4354192747528192.0000 - val_accuracy: 0.0000e+00\n",
      "Epoch 81/100\n",
      "13/13 [==============================] - 1s 44ms/step - loss: -4103226265698304.0000 - accuracy: 0.0000e+00 - val_loss: -4628825841336320.0000 - val_accuracy: 0.0000e+00\n",
      "Epoch 82/100\n",
      "13/13 [==============================] - 1s 44ms/step - loss: -4385082957627392.0000 - accuracy: 0.0000e+00 - val_loss: -4921905282809856.0000 - val_accuracy: 0.0000e+00\n",
      "Epoch 83/100\n",
      "13/13 [==============================] - 1s 44ms/step - loss: -4643218276745216.0000 - accuracy: 0.0000e+00 - val_loss: -5224096497401856.0000 - val_accuracy: 0.0000e+00\n",
      "Epoch 84/100\n",
      "13/13 [==============================] - 1s 44ms/step - loss: -4945704233467904.0000 - accuracy: 0.0000e+00 - val_loss: -5533874771722240.0000 - val_accuracy: 0.0000e+00\n",
      "Epoch 85/100\n",
      "13/13 [==============================] - 1s 44ms/step - loss: -5221630649303040.0000 - accuracy: 0.0000e+00 - val_loss: -5859017754673152.0000 - val_accuracy: 0.0000e+00\n",
      "Epoch 86/100\n",
      "13/13 [==============================] - 1s 43ms/step - loss: -5502887656423424.0000 - accuracy: 0.0000e+00 - val_loss: -6206161170726912.0000 - val_accuracy: 0.0000e+00\n",
      "Epoch 87/100\n",
      "13/13 [==============================] - 1s 43ms/step - loss: -5838986564075520.0000 - accuracy: 0.0000e+00 - val_loss: -6561436033613824.0000 - val_accuracy: 0.0000e+00\n",
      "Epoch 88/100\n",
      "13/13 [==============================] - 1s 43ms/step - loss: -6158700171493376.0000 - accuracy: 0.0000e+00 - val_loss: -6931957493530624.0000 - val_accuracy: 0.0000e+00\n",
      "Epoch 89/100\n",
      "13/13 [==============================] - 1s 44ms/step - loss: -6514221458128896.0000 - accuracy: 0.0000e+00 - val_loss: -7322139166244864.0000 - val_accuracy: 0.0000e+00\n",
      "Epoch 90/100\n",
      "13/13 [==============================] - 1s 44ms/step - loss: -6883262764941312.0000 - accuracy: 0.0000e+00 - val_loss: -7728107528126464.0000 - val_accuracy: 0.0000e+00\n",
      "Epoch 91/100\n",
      "13/13 [==============================] - 1s 46ms/step - loss: -7238948334075904.0000 - accuracy: 0.0000e+00 - val_loss: -8149030966132736.0000 - val_accuracy: 0.0000e+00\n",
      "Epoch 92/100\n",
      "13/13 [==============================] - 1s 43ms/step - loss: -7626193859772416.0000 - accuracy: 0.0000e+00 - val_loss: -8589724138602496.0000 - val_accuracy: 0.0000e+00\n",
      "Epoch 93/100\n",
      "13/13 [==============================] - 1s 45ms/step - loss: -8108321118617600.0000 - accuracy: 0.0000e+00 - val_loss: -9038424740724736.0000 - val_accuracy: 0.0000e+00\n",
      "Epoch 94/100\n",
      "13/13 [==============================] - 1s 44ms/step - loss: -8508310886023168.0000 - accuracy: 0.0000e+00 - val_loss: -9510933420310528.0000 - val_accuracy: 0.0000e+00\n",
      "Epoch 95/100\n",
      "13/13 [==============================] - 1s 44ms/step - loss: -8954127954477056.0000 - accuracy: 0.0000e+00 - val_loss: -9997050703773696.0000 - val_accuracy: 0.0000e+00\n",
      "Epoch 96/100\n",
      "13/13 [==============================] - 1s 43ms/step - loss: -9401009101078528.0000 - accuracy: 0.0000e+00 - val_loss: -10512885939699712.0000 - val_accuracy: 0.0000e+00\n",
      "Epoch 97/100\n",
      "13/13 [==============================] - 1s 43ms/step - loss: -9875998124277760.0000 - accuracy: 0.0000e+00 - val_loss: -11045664821608448.0000 - val_accuracy: 0.0000e+00\n",
      "Epoch 98/100\n",
      "13/13 [==============================] - 1s 43ms/step - loss: -10399896087560192.0000 - accuracy: 0.0000e+00 - val_loss: -11597401689161728.0000 - val_accuracy: 0.0000e+00\n",
      "Epoch 99/100\n",
      "13/13 [==============================] - 1s 43ms/step - loss: -10899092620181504.0000 - accuracy: 0.0000e+00 - val_loss: -12172417279459328.0000 - val_accuracy: 0.0000e+00\n",
      "Epoch 100/100\n",
      "13/13 [==============================] - 1s 43ms/step - loss: -11447854149140480.0000 - accuracy: 0.0000e+00 - val_loss: -12766301734830080.0000 - val_accuracy: 0.0000e+00\n"
     ]
    }
   ],
   "source": [
    "model_3.compile(optimizer='adam',\n",
    "              loss='binary_crossentropy',\n",
    "              metrics=['accuracy'])\n",
    "hist_3 = model_3.fit(X_train, y_train,\n",
    "          batch_size=32, epochs=100,\n",
    "          validation_data=(X_test, y_test))"
   ]
  },
  {
   "cell_type": "code",
   "execution_count": 279,
   "metadata": {},
   "outputs": [
    {
     "data": {
      "image/png": "[encoded data removed]",
      "text/plain": [
       "<Figure size 640x480 with 1 Axes>"
      ]
     },
     "metadata": {},
     "output_type": "display_data"
    }
   ],
   "source": [
    "plt.plot(hist_3.history['loss'])\n",
    "plt.plot(hist_3.history['val_loss'])\n",
    "plt.title('Model loss')\n",
    "plt.ylabel('Loss')\n",
    "plt.xlabel('Epoch')\n",
    "plt.legend(['Train', 'Val'], loc='upper right')\n",
    "plt.show()"
   ]
  },
  {
   "cell_type": "code",
   "execution_count": 280,
   "metadata": {},
   "outputs": [
    {
     "name": "stdout",
     "output_type": "stream",
     "text": [
      "4/4 [==============================] - 0s 2ms/step - loss: 17.4584\n"
     ]
    }
   ],
   "source": [
    "output = model.evaluate(X_test,y_test)\n"
   ]
  },
  {
   "cell_type": "code",
   "execution_count": 281,
   "metadata": {},
   "outputs": [
    {
     "name": "stdout",
     "output_type": "stream",
     "text": [
      "4/4 [==============================] - 0s 3ms/step - loss: 17.4584\n",
      "Mean Squared Error: 17.458433151245117\n"
     ]
    }
   ],
   "source": [
    "output = model.evaluate(X_test, y_test)\n",
    "print(f\"Mean Squared Error: {output}\")\n"
   ]
  },
  {
   "cell_type": "code",
   "execution_count": 282,
   "metadata": {},
   "outputs": [
    {
     "name": "stdout",
     "output_type": "stream",
     "text": [
      "4/4 [==============================] - 0s 2ms/step\n"
     ]
    }
   ],
   "source": [
    "y_pred = model.predict(x=X_test)\n"
   ]
  },
  {
   "cell_type": "code",
   "execution_count": 283,
   "metadata": {},
   "outputs": [
    {
     "name": "stdout",
     "output_type": "stream",
     "text": [
      "(array([15.318163], dtype=float32), 16.5) (array([24.346455], dtype=float32), 24.8) (array([18.863743], dtype=float32), 17.4) (array([18.880793], dtype=float32), 19.3) (array([41.75996], dtype=float32), 37.6) (array([24.843847], dtype=float32), 24.2) (array([37.673656], dtype=float32), 35.4) (array([21.0322], dtype=float32), 19.9) (array([18.499506], dtype=float32), 27.5) (array([15.177664], dtype=float32), 17.0) (array([25.155794], dtype=float32), 31.2) (array([26.31583], dtype=float32), 24.4) (array([21.793934], dtype=float32), 16.1) (array([33.44059], dtype=float32), 27.0) (array([20.228037], dtype=float32), 21.0) (array([11.725833], dtype=float32), 14.9) (array([18.914192], dtype=float32), 18.9) (array([19.883549], dtype=float32), 6.3) (array([17.303694], dtype=float32), 16.3) (array([14.463216], dtype=float32), 13.9) (array([12.198997], dtype=float32), 8.8) (array([16.661234], dtype=float32), 19.4) (array([19.583021], dtype=float32), 18.8) (array([20.659986], dtype=float32), 19.8) (array([18.691961], dtype=float32), 17.5) (array([19.050356], dtype=float32), 19.3) (array([17.205679], dtype=float32), 20.0) (array([15.057478], dtype=float32), 14.3) (array([16.165009], dtype=float32), 16.1) (array([18.813768], dtype=float32), 19.5) (array([15.454233], dtype=float32), 11.0) (array([19.711172], dtype=float32), 21.9) (array([35.600796], dtype=float32), 31.0) (array([21.216654], dtype=float32), 22.0) (array([15.112801], dtype=float32), 15.1) (array([20.749155], dtype=float32), 13.3) (array([29.276546], dtype=float32), 28.7) (array([44.077442], dtype=float32), 46.7) (array([24.43638], dtype=float32), 22.2) (array([22.773132], dtype=float32), 22.8) (array([43.71544], dtype=float32), 42.3) (array([39.836514], dtype=float32), 41.3) (array([12.54388], dtype=float32), 16.7) (array([33.60006], dtype=float32), 31.1) (array([31.066435], dtype=float32), 26.7) (array([19.343962], dtype=float32), 19.4) (array([46.667347], dtype=float32), 50.0) (array([19.49307], dtype=float32), 16.6) (array([18.085438], dtype=float32), 19.5) (array([22.679342], dtype=float32), 24.4) (array([32.091812], dtype=float32), 28.5) (array([27.33857], dtype=float32), 22.3) (array([15.360977], dtype=float32), 12.1) (array([29.654804], dtype=float32), 28.6) (array([13.379459], dtype=float32), 15.6) (array([17.926033], dtype=float32), 19.2) (array([23.825079], dtype=float32), 27.5) (array([30.313625], dtype=float32), 32.0) (array([19.502365], dtype=float32), 20.2) (array([35.044033], dtype=float32), 32.4) (array([14.9168625], dtype=float32), 18.4) (array([21.41971], dtype=float32), 19.9) (array([27.750029], dtype=float32), 29.8) (array([15.174446], dtype=float32), 20.1) (array([41.49048], dtype=float32), 43.5) (array([25.991539], dtype=float32), 24.5) (array([47.270237], dtype=float32), 50.0) (array([10.325483], dtype=float32), 7.2) (array([18.755587], dtype=float32), 19.1) (array([21.44288], dtype=float32), 21.2) (array([22.99812], dtype=float32), 22.6) (array([19.0886], dtype=float32), 22.9) (array([28.316515], dtype=float32), 25.0) (array([23.350302], dtype=float32), 23.3) (array([19.245016], dtype=float32), 17.3) (array([34.06741], dtype=float32), 33.0) (array([17.688362], dtype=float32), 17.8) (array([21.670988], dtype=float32), 23.8) (array([10.168343], dtype=float32), 10.9) (array([22.408813], dtype=float32), 18.6) (array([20.383558], dtype=float32), 19.3) (array([22.586098], dtype=float32), 16.7) (array([27.481035], dtype=float32), 28.0) (array([17.321629], dtype=float32), 18.2) (array([27.044743], dtype=float32), 29.1) (array([19.31809], dtype=float32), 11.9) (array([28.747257], dtype=float32), 32.7) (array([17.751354], dtype=float32), 18.3) (array([24.85614], dtype=float32), 22.4) (array([42.507786], dtype=float32), 45.4) (array([29.46526], dtype=float32), 31.5) (array([48.77929], dtype=float32), 48.5) (array([17.030409], dtype=float32), 19.8) (array([44.781292], dtype=float32), 41.7) (array([18.683233], dtype=float32), 22.2) (array([20.9122], dtype=float32), 20.3) (array([23.934422], dtype=float32), 20.7) (array([22.685661], dtype=float32), 50.0) (array([16.50205], dtype=float32), 11.8) (array([19.36244], dtype=float32), 19.5) (array([9.344164], dtype=float32), 8.7) (array([25.506794], dtype=float32), 23.3)\n"
     ]
    }
   ],
   "source": [
    "print(*zip(y_pred,y_test))"
   ]
  },
  {
   "cell_type": "code",
   "execution_count": null,
   "metadata": {},
   "outputs": [],
   "source": []
  },
  {
   "cell_type": "code",
   "execution_count": null,
   "metadata": {},
   "outputs": [],
   "source": []
  }
 ],
 "metadata": {
  "kernelspec": {
   "display_name": "Python 3 (ipykernel)",
   "language": "python",
   "name": "python3"
  },
  "language_info": {
   "codemirror_mode": {
    "name": "ipython",
    "version": 3
   },
   "file_extension": ".py",
   "mimetype": "text/x-python",
   "name": "python",
   "nbconvert_exporter": "python",
   "pygments_lexer": "ipython3",
   "version": "3.11.2"
  },
  "papermill": {
   "duration": 21.578429,
   "end_time": "2022-08-10T01:26:38.171120",
   "environment_variables": {},
   "exception": null,
   "input_path": "__notebook__.ipynb",
   "output_path": "__notebook__.ipynb",
   "parameters": {},
   "start_time": "2022-08-10T01:26:16.592691",
   "version": "2.1.0"
  }
 },
 "nbformat": 4,
 "nbformat_minor": 4
}
